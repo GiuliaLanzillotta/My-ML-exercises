{
 "cells": [
  {
   "cell_type": "code",
   "execution_count": 4,
   "metadata": {},
   "outputs": [],
   "source": [
    "import numpy as np\n",
    "import pandas as pd"
   ]
  },
  {
   "cell_type": "markdown",
   "metadata": {},
   "source": [
    "## Data extraction"
   ]
  },
  {
   "cell_type": "code",
   "execution_count": 5,
   "metadata": {},
   "outputs": [
    {
     "name": "stdout",
     "output_type": "stream",
     "text": [
      " Volume in drive C is OS\n",
      " Volume Serial Number is D421-8CB8\n",
      "\n",
      " Directory of C:\\Users\\Giulia\\Study\\Spring20\\CIL\\exercise2\n",
      "\n",
      "13/03/2020  18:13    <DIR>          .\n",
      "13/03/2020  18:13    <DIR>          ..\n",
      "27/02/2020  17:40    <DIR>          .ipynb_checkpoints\n",
      "13/03/2020  18:13           662,729 Collaborative filtering.ipynb\n",
      "27/02/2020  08:38        15,039,891 data_train.csv\n",
      "25/02/2020  14:00            59,251 Exercise2.ipynb\n",
      "13/03/2020  18:04        13,593,645 matrix.csv\n",
      "27/02/2020  08:38        15,038,367 sampleSubmission.csv\n",
      "03/03/2020  14:41        35,398,910 submission.csv\n",
      "               6 File(s)     79,792,793 bytes\n",
      "               3 Dir(s)  154,450,309,120 bytes free\n"
     ]
    }
   ],
   "source": [
    "!dir"
   ]
  },
  {
   "cell_type": "code",
   "execution_count": 6,
   "metadata": {},
   "outputs": [
    {
     "data": {
      "text/html": [
       "<div>\n",
       "<style scoped>\n",
       "    .dataframe tbody tr th:only-of-type {\n",
       "        vertical-align: middle;\n",
       "    }\n",
       "\n",
       "    .dataframe tbody tr th {\n",
       "        vertical-align: top;\n",
       "    }\n",
       "\n",
       "    .dataframe thead th {\n",
       "        text-align: right;\n",
       "    }\n",
       "</style>\n",
       "<table border=\"1\" class=\"dataframe\">\n",
       "  <thead>\n",
       "    <tr style=\"text-align: right;\">\n",
       "      <th></th>\n",
       "      <th>Id</th>\n",
       "      <th>Prediction</th>\n",
       "    </tr>\n",
       "  </thead>\n",
       "  <tbody>\n",
       "    <tr>\n",
       "      <th>0</th>\n",
       "      <td>r44_c1</td>\n",
       "      <td>4</td>\n",
       "    </tr>\n",
       "    <tr>\n",
       "      <th>1</th>\n",
       "      <td>r61_c1</td>\n",
       "      <td>3</td>\n",
       "    </tr>\n",
       "    <tr>\n",
       "      <th>2</th>\n",
       "      <td>r67_c1</td>\n",
       "      <td>4</td>\n",
       "    </tr>\n",
       "    <tr>\n",
       "      <th>3</th>\n",
       "      <td>r72_c1</td>\n",
       "      <td>3</td>\n",
       "    </tr>\n",
       "    <tr>\n",
       "      <th>4</th>\n",
       "      <td>r86_c1</td>\n",
       "      <td>5</td>\n",
       "    </tr>\n",
       "  </tbody>\n",
       "</table>\n",
       "</div>"
      ],
      "text/plain": [
       "       Id  Prediction\n",
       "0  r44_c1           4\n",
       "1  r61_c1           3\n",
       "2  r67_c1           4\n",
       "3  r72_c1           3\n",
       "4  r86_c1           5"
      ]
     },
     "execution_count": 6,
     "metadata": {},
     "output_type": "execute_result"
    }
   ],
   "source": [
    "data = pd.read_csv(\"data_train.csv\")\n",
    "data.head()"
   ]
  },
  {
   "cell_type": "code",
   "execution_count": 10,
   "metadata": {},
   "outputs": [
    {
     "data": {
      "text/html": [
       "<div>\n",
       "<style scoped>\n",
       "    .dataframe tbody tr th:only-of-type {\n",
       "        vertical-align: middle;\n",
       "    }\n",
       "\n",
       "    .dataframe tbody tr th {\n",
       "        vertical-align: top;\n",
       "    }\n",
       "\n",
       "    .dataframe thead th {\n",
       "        text-align: right;\n",
       "    }\n",
       "</style>\n",
       "<table border=\"1\" class=\"dataframe\">\n",
       "  <thead>\n",
       "    <tr style=\"text-align: right;\">\n",
       "      <th></th>\n",
       "      <th>1</th>\n",
       "      <th>2</th>\n",
       "      <th>3</th>\n",
       "      <th>4</th>\n",
       "      <th>5</th>\n",
       "      <th>6</th>\n",
       "      <th>7</th>\n",
       "      <th>8</th>\n",
       "      <th>9</th>\n",
       "      <th>10</th>\n",
       "      <th>...</th>\n",
       "      <th>991</th>\n",
       "      <th>992</th>\n",
       "      <th>993</th>\n",
       "      <th>994</th>\n",
       "      <th>995</th>\n",
       "      <th>996</th>\n",
       "      <th>997</th>\n",
       "      <th>998</th>\n",
       "      <th>999</th>\n",
       "      <th>1000</th>\n",
       "    </tr>\n",
       "  </thead>\n",
       "  <tbody>\n",
       "    <tr>\n",
       "      <th>44</th>\n",
       "      <td>4.0</td>\n",
       "      <td>4.0</td>\n",
       "      <td>NaN</td>\n",
       "      <td>5.0</td>\n",
       "      <td>5.0</td>\n",
       "      <td>NaN</td>\n",
       "      <td>2.0</td>\n",
       "      <td>5.0</td>\n",
       "      <td>NaN</td>\n",
       "      <td>NaN</td>\n",
       "      <td>...</td>\n",
       "      <td>NaN</td>\n",
       "      <td>4.0</td>\n",
       "      <td>NaN</td>\n",
       "      <td>NaN</td>\n",
       "      <td>4.0</td>\n",
       "      <td>NaN</td>\n",
       "      <td>NaN</td>\n",
       "      <td>NaN</td>\n",
       "      <td>NaN</td>\n",
       "      <td>NaN</td>\n",
       "    </tr>\n",
       "    <tr>\n",
       "      <th>61</th>\n",
       "      <td>3.0</td>\n",
       "      <td>NaN</td>\n",
       "      <td>NaN</td>\n",
       "      <td>NaN</td>\n",
       "      <td>NaN</td>\n",
       "      <td>NaN</td>\n",
       "      <td>NaN</td>\n",
       "      <td>NaN</td>\n",
       "      <td>NaN</td>\n",
       "      <td>NaN</td>\n",
       "      <td>...</td>\n",
       "      <td>NaN</td>\n",
       "      <td>NaN</td>\n",
       "      <td>NaN</td>\n",
       "      <td>NaN</td>\n",
       "      <td>NaN</td>\n",
       "      <td>NaN</td>\n",
       "      <td>NaN</td>\n",
       "      <td>NaN</td>\n",
       "      <td>4.0</td>\n",
       "      <td>NaN</td>\n",
       "    </tr>\n",
       "    <tr>\n",
       "      <th>67</th>\n",
       "      <td>4.0</td>\n",
       "      <td>NaN</td>\n",
       "      <td>NaN</td>\n",
       "      <td>NaN</td>\n",
       "      <td>NaN</td>\n",
       "      <td>NaN</td>\n",
       "      <td>NaN</td>\n",
       "      <td>NaN</td>\n",
       "      <td>NaN</td>\n",
       "      <td>NaN</td>\n",
       "      <td>...</td>\n",
       "      <td>NaN</td>\n",
       "      <td>3.0</td>\n",
       "      <td>NaN</td>\n",
       "      <td>NaN</td>\n",
       "      <td>NaN</td>\n",
       "      <td>NaN</td>\n",
       "      <td>NaN</td>\n",
       "      <td>NaN</td>\n",
       "      <td>NaN</td>\n",
       "      <td>NaN</td>\n",
       "    </tr>\n",
       "    <tr>\n",
       "      <th>72</th>\n",
       "      <td>3.0</td>\n",
       "      <td>NaN</td>\n",
       "      <td>NaN</td>\n",
       "      <td>NaN</td>\n",
       "      <td>NaN</td>\n",
       "      <td>NaN</td>\n",
       "      <td>NaN</td>\n",
       "      <td>1.0</td>\n",
       "      <td>NaN</td>\n",
       "      <td>NaN</td>\n",
       "      <td>...</td>\n",
       "      <td>NaN</td>\n",
       "      <td>NaN</td>\n",
       "      <td>NaN</td>\n",
       "      <td>NaN</td>\n",
       "      <td>NaN</td>\n",
       "      <td>NaN</td>\n",
       "      <td>NaN</td>\n",
       "      <td>NaN</td>\n",
       "      <td>NaN</td>\n",
       "      <td>NaN</td>\n",
       "    </tr>\n",
       "    <tr>\n",
       "      <th>86</th>\n",
       "      <td>5.0</td>\n",
       "      <td>NaN</td>\n",
       "      <td>NaN</td>\n",
       "      <td>NaN</td>\n",
       "      <td>NaN</td>\n",
       "      <td>NaN</td>\n",
       "      <td>NaN</td>\n",
       "      <td>NaN</td>\n",
       "      <td>NaN</td>\n",
       "      <td>NaN</td>\n",
       "      <td>...</td>\n",
       "      <td>NaN</td>\n",
       "      <td>NaN</td>\n",
       "      <td>NaN</td>\n",
       "      <td>5.0</td>\n",
       "      <td>3.0</td>\n",
       "      <td>4.0</td>\n",
       "      <td>NaN</td>\n",
       "      <td>NaN</td>\n",
       "      <td>NaN</td>\n",
       "      <td>NaN</td>\n",
       "    </tr>\n",
       "  </tbody>\n",
       "</table>\n",
       "<p>5 rows × 1000 columns</p>\n",
       "</div>"
      ],
      "text/plain": [
       "      1    2   3    4    5   6    7    8   9  10  ...  991  992  993  994  \\\n",
       "44  4.0  4.0 NaN  5.0  5.0 NaN  2.0  5.0 NaN NaN  ...  NaN  4.0  NaN  NaN   \n",
       "61  3.0  NaN NaN  NaN  NaN NaN  NaN  NaN NaN NaN  ...  NaN  NaN  NaN  NaN   \n",
       "67  4.0  NaN NaN  NaN  NaN NaN  NaN  NaN NaN NaN  ...  NaN  3.0  NaN  NaN   \n",
       "72  3.0  NaN NaN  NaN  NaN NaN  NaN  1.0 NaN NaN  ...  NaN  NaN  NaN  NaN   \n",
       "86  5.0  NaN NaN  NaN  NaN NaN  NaN  NaN NaN NaN  ...  NaN  NaN  NaN  5.0   \n",
       "\n",
       "    995  996  997  998  999  1000  \n",
       "44  4.0  NaN  NaN  NaN  NaN   NaN  \n",
       "61  NaN  NaN  NaN  NaN  4.0   NaN  \n",
       "67  NaN  NaN  NaN  NaN  NaN   NaN  \n",
       "72  NaN  NaN  NaN  NaN  NaN   NaN  \n",
       "86  3.0  4.0  NaN  NaN  NaN   NaN  \n",
       "\n",
       "[5 rows x 1000 columns]"
      ]
     },
     "execution_count": 10,
     "metadata": {},
     "output_type": "execute_result"
    }
   ],
   "source": [
    "matrix = pd.read_csv(\"matrix.csv\", index_col=\"Unnamed: 0\")\n",
    "matrix.head()"
   ]
  },
  {
   "cell_type": "code",
   "execution_count": 11,
   "metadata": {},
   "outputs": [
    {
     "data": {
      "text/html": [
       "<div>\n",
       "<style scoped>\n",
       "    .dataframe tbody tr th:only-of-type {\n",
       "        vertical-align: middle;\n",
       "    }\n",
       "\n",
       "    .dataframe tbody tr th {\n",
       "        vertical-align: top;\n",
       "    }\n",
       "\n",
       "    .dataframe thead th {\n",
       "        text-align: right;\n",
       "    }\n",
       "</style>\n",
       "<table border=\"1\" class=\"dataframe\">\n",
       "  <thead>\n",
       "    <tr style=\"text-align: right;\">\n",
       "      <th></th>\n",
       "      <th>Id</th>\n",
       "      <th>Prediction</th>\n",
       "    </tr>\n",
       "  </thead>\n",
       "  <tbody>\n",
       "    <tr>\n",
       "      <th>0</th>\n",
       "      <td>r37_c1</td>\n",
       "      <td>3</td>\n",
       "    </tr>\n",
       "    <tr>\n",
       "      <th>1</th>\n",
       "      <td>r73_c1</td>\n",
       "      <td>3</td>\n",
       "    </tr>\n",
       "    <tr>\n",
       "      <th>2</th>\n",
       "      <td>r156_c1</td>\n",
       "      <td>3</td>\n",
       "    </tr>\n",
       "    <tr>\n",
       "      <th>3</th>\n",
       "      <td>r160_c1</td>\n",
       "      <td>3</td>\n",
       "    </tr>\n",
       "    <tr>\n",
       "      <th>4</th>\n",
       "      <td>r248_c1</td>\n",
       "      <td>3</td>\n",
       "    </tr>\n",
       "  </tbody>\n",
       "</table>\n",
       "</div>"
      ],
      "text/plain": [
       "        Id  Prediction\n",
       "0   r37_c1           3\n",
       "1   r73_c1           3\n",
       "2  r156_c1           3\n",
       "3  r160_c1           3\n",
       "4  r248_c1           3"
      ]
     },
     "execution_count": 11,
     "metadata": {},
     "output_type": "execute_result"
    }
   ],
   "source": [
    "subm = pd.read_csv(\"sampleSubmission.csv\")\n",
    "subm.head()"
   ]
  },
  {
   "cell_type": "code",
   "execution_count": 12,
   "metadata": {},
   "outputs": [],
   "source": [
    "def parse_row(Id):\n",
    "    row = int(Id.split(\"_\")[0][1:])\n",
    "    return row"
   ]
  },
  {
   "cell_type": "code",
   "execution_count": 13,
   "metadata": {},
   "outputs": [],
   "source": [
    "def parse_col(Id):\n",
    "    col = int(Id.split(\"_\")[1][1:])\n",
    "    return col"
   ]
  },
  {
   "cell_type": "code",
   "execution_count": 40,
   "metadata": {},
   "outputs": [],
   "source": [
    "X = pd.DataFrame()"
   ]
  },
  {
   "cell_type": "code",
   "execution_count": 41,
   "metadata": {},
   "outputs": [],
   "source": [
    "data[\"row\"] = list(map(parse_row,data[\"Id\"].array))"
   ]
  },
  {
   "cell_type": "code",
   "execution_count": 42,
   "metadata": {},
   "outputs": [
    {
     "data": {
      "text/html": [
       "<div>\n",
       "<style scoped>\n",
       "    .dataframe tbody tr th:only-of-type {\n",
       "        vertical-align: middle;\n",
       "    }\n",
       "\n",
       "    .dataframe tbody tr th {\n",
       "        vertical-align: top;\n",
       "    }\n",
       "\n",
       "    .dataframe thead th {\n",
       "        text-align: right;\n",
       "    }\n",
       "</style>\n",
       "<table border=\"1\" class=\"dataframe\">\n",
       "  <thead>\n",
       "    <tr style=\"text-align: right;\">\n",
       "      <th></th>\n",
       "      <th>Id</th>\n",
       "      <th>Prediction</th>\n",
       "      <th>row</th>\n",
       "      <th>col</th>\n",
       "    </tr>\n",
       "  </thead>\n",
       "  <tbody>\n",
       "    <tr>\n",
       "      <th>0</th>\n",
       "      <td>r44_c1</td>\n",
       "      <td>4</td>\n",
       "      <td>44</td>\n",
       "      <td>1</td>\n",
       "    </tr>\n",
       "    <tr>\n",
       "      <th>1</th>\n",
       "      <td>r61_c1</td>\n",
       "      <td>3</td>\n",
       "      <td>61</td>\n",
       "      <td>1</td>\n",
       "    </tr>\n",
       "    <tr>\n",
       "      <th>2</th>\n",
       "      <td>r67_c1</td>\n",
       "      <td>4</td>\n",
       "      <td>67</td>\n",
       "      <td>1</td>\n",
       "    </tr>\n",
       "    <tr>\n",
       "      <th>3</th>\n",
       "      <td>r72_c1</td>\n",
       "      <td>3</td>\n",
       "      <td>72</td>\n",
       "      <td>1</td>\n",
       "    </tr>\n",
       "    <tr>\n",
       "      <th>4</th>\n",
       "      <td>r86_c1</td>\n",
       "      <td>5</td>\n",
       "      <td>86</td>\n",
       "      <td>1</td>\n",
       "    </tr>\n",
       "  </tbody>\n",
       "</table>\n",
       "</div>"
      ],
      "text/plain": [
       "       Id  Prediction  row  col\n",
       "0  r44_c1           4   44    1\n",
       "1  r61_c1           3   61    1\n",
       "2  r67_c1           4   67    1\n",
       "3  r72_c1           3   72    1\n",
       "4  r86_c1           5   86    1"
      ]
     },
     "execution_count": 42,
     "metadata": {},
     "output_type": "execute_result"
    }
   ],
   "source": [
    "data[\"col\"] = list(map(parse_col,data[\"Id\"].array))\n",
    "data.head()"
   ]
  },
  {
   "cell_type": "code",
   "execution_count": 43,
   "metadata": {},
   "outputs": [
    {
     "data": {
      "text/html": [
       "<div>\n",
       "<style scoped>\n",
       "    .dataframe tbody tr th:only-of-type {\n",
       "        vertical-align: middle;\n",
       "    }\n",
       "\n",
       "    .dataframe tbody tr th {\n",
       "        vertical-align: top;\n",
       "    }\n",
       "\n",
       "    .dataframe thead th {\n",
       "        text-align: right;\n",
       "    }\n",
       "</style>\n",
       "<table border=\"1\" class=\"dataframe\">\n",
       "  <thead>\n",
       "    <tr style=\"text-align: right;\">\n",
       "      <th></th>\n",
       "    </tr>\n",
       "  </thead>\n",
       "  <tbody>\n",
       "  </tbody>\n",
       "</table>\n",
       "</div>"
      ],
      "text/plain": [
       "Empty DataFrame\n",
       "Columns: []\n",
       "Index: []"
      ]
     },
     "execution_count": 43,
     "metadata": {},
     "output_type": "execute_result"
    }
   ],
   "source": [
    "matrix = pd.DataFrame()\n",
    "matrix"
   ]
  },
  {
   "cell_type": "code",
   "execution_count": 44,
   "metadata": {},
   "outputs": [],
   "source": [
    "def add_data(row,col,pred):\n",
    "    matrix.loc[row,col] = pred"
   ]
  },
  {
   "cell_type": "code",
   "execution_count": 45,
   "metadata": {},
   "outputs": [
    {
     "name": "stdout",
     "output_type": "stream",
     "text": [
      "Done.\n"
     ]
    }
   ],
   "source": [
    "list(map(add_data,data[\"row\"].array,data[\"col\"].array,data[\"Prediction\"].array))\n",
    "print(\"Done.\")"
   ]
  },
  {
   "cell_type": "code",
   "execution_count": 203,
   "metadata": {},
   "outputs": [
    {
     "data": {
      "text/html": [
       "<div>\n",
       "<style scoped>\n",
       "    .dataframe tbody tr th:only-of-type {\n",
       "        vertical-align: middle;\n",
       "    }\n",
       "\n",
       "    .dataframe tbody tr th {\n",
       "        vertical-align: top;\n",
       "    }\n",
       "\n",
       "    .dataframe thead th {\n",
       "        text-align: right;\n",
       "    }\n",
       "</style>\n",
       "<table border=\"1\" class=\"dataframe\">\n",
       "  <thead>\n",
       "    <tr style=\"text-align: right;\">\n",
       "      <th></th>\n",
       "      <th>1</th>\n",
       "      <th>2</th>\n",
       "      <th>3</th>\n",
       "      <th>4</th>\n",
       "      <th>5</th>\n",
       "      <th>6</th>\n",
       "      <th>7</th>\n",
       "      <th>8</th>\n",
       "      <th>9</th>\n",
       "      <th>10</th>\n",
       "      <th>...</th>\n",
       "      <th>991</th>\n",
       "      <th>992</th>\n",
       "      <th>993</th>\n",
       "      <th>994</th>\n",
       "      <th>995</th>\n",
       "      <th>996</th>\n",
       "      <th>997</th>\n",
       "      <th>998</th>\n",
       "      <th>999</th>\n",
       "      <th>1000</th>\n",
       "    </tr>\n",
       "  </thead>\n",
       "  <tbody>\n",
       "    <tr>\n",
       "      <th>44</th>\n",
       "      <td>4.0</td>\n",
       "      <td>4.0</td>\n",
       "      <td>NaN</td>\n",
       "      <td>5.0</td>\n",
       "      <td>5.0</td>\n",
       "      <td>NaN</td>\n",
       "      <td>2.0</td>\n",
       "      <td>5.0</td>\n",
       "      <td>NaN</td>\n",
       "      <td>NaN</td>\n",
       "      <td>...</td>\n",
       "      <td>NaN</td>\n",
       "      <td>4.0</td>\n",
       "      <td>NaN</td>\n",
       "      <td>NaN</td>\n",
       "      <td>4.0</td>\n",
       "      <td>NaN</td>\n",
       "      <td>NaN</td>\n",
       "      <td>NaN</td>\n",
       "      <td>NaN</td>\n",
       "      <td>NaN</td>\n",
       "    </tr>\n",
       "    <tr>\n",
       "      <th>61</th>\n",
       "      <td>3.0</td>\n",
       "      <td>NaN</td>\n",
       "      <td>NaN</td>\n",
       "      <td>NaN</td>\n",
       "      <td>NaN</td>\n",
       "      <td>NaN</td>\n",
       "      <td>NaN</td>\n",
       "      <td>NaN</td>\n",
       "      <td>NaN</td>\n",
       "      <td>NaN</td>\n",
       "      <td>...</td>\n",
       "      <td>NaN</td>\n",
       "      <td>NaN</td>\n",
       "      <td>NaN</td>\n",
       "      <td>NaN</td>\n",
       "      <td>NaN</td>\n",
       "      <td>NaN</td>\n",
       "      <td>NaN</td>\n",
       "      <td>NaN</td>\n",
       "      <td>4.0</td>\n",
       "      <td>NaN</td>\n",
       "    </tr>\n",
       "    <tr>\n",
       "      <th>67</th>\n",
       "      <td>4.0</td>\n",
       "      <td>NaN</td>\n",
       "      <td>NaN</td>\n",
       "      <td>NaN</td>\n",
       "      <td>NaN</td>\n",
       "      <td>NaN</td>\n",
       "      <td>NaN</td>\n",
       "      <td>NaN</td>\n",
       "      <td>NaN</td>\n",
       "      <td>NaN</td>\n",
       "      <td>...</td>\n",
       "      <td>NaN</td>\n",
       "      <td>3.0</td>\n",
       "      <td>NaN</td>\n",
       "      <td>NaN</td>\n",
       "      <td>NaN</td>\n",
       "      <td>NaN</td>\n",
       "      <td>NaN</td>\n",
       "      <td>NaN</td>\n",
       "      <td>NaN</td>\n",
       "      <td>NaN</td>\n",
       "    </tr>\n",
       "    <tr>\n",
       "      <th>72</th>\n",
       "      <td>3.0</td>\n",
       "      <td>NaN</td>\n",
       "      <td>NaN</td>\n",
       "      <td>NaN</td>\n",
       "      <td>NaN</td>\n",
       "      <td>NaN</td>\n",
       "      <td>NaN</td>\n",
       "      <td>1.0</td>\n",
       "      <td>NaN</td>\n",
       "      <td>NaN</td>\n",
       "      <td>...</td>\n",
       "      <td>NaN</td>\n",
       "      <td>NaN</td>\n",
       "      <td>NaN</td>\n",
       "      <td>NaN</td>\n",
       "      <td>NaN</td>\n",
       "      <td>NaN</td>\n",
       "      <td>NaN</td>\n",
       "      <td>NaN</td>\n",
       "      <td>NaN</td>\n",
       "      <td>NaN</td>\n",
       "    </tr>\n",
       "    <tr>\n",
       "      <th>86</th>\n",
       "      <td>5.0</td>\n",
       "      <td>NaN</td>\n",
       "      <td>NaN</td>\n",
       "      <td>NaN</td>\n",
       "      <td>NaN</td>\n",
       "      <td>NaN</td>\n",
       "      <td>NaN</td>\n",
       "      <td>NaN</td>\n",
       "      <td>NaN</td>\n",
       "      <td>NaN</td>\n",
       "      <td>...</td>\n",
       "      <td>NaN</td>\n",
       "      <td>NaN</td>\n",
       "      <td>NaN</td>\n",
       "      <td>5.0</td>\n",
       "      <td>3.0</td>\n",
       "      <td>4.0</td>\n",
       "      <td>NaN</td>\n",
       "      <td>NaN</td>\n",
       "      <td>NaN</td>\n",
       "      <td>NaN</td>\n",
       "    </tr>\n",
       "  </tbody>\n",
       "</table>\n",
       "<p>5 rows × 1000 columns</p>\n",
       "</div>"
      ],
      "text/plain": [
       "    1     2     3     4     5     6     7     8     9     10    ...  991   \\\n",
       "44   4.0   4.0   NaN   5.0   5.0   NaN   2.0   5.0   NaN   NaN  ...   NaN   \n",
       "61   3.0   NaN   NaN   NaN   NaN   NaN   NaN   NaN   NaN   NaN  ...   NaN   \n",
       "67   4.0   NaN   NaN   NaN   NaN   NaN   NaN   NaN   NaN   NaN  ...   NaN   \n",
       "72   3.0   NaN   NaN   NaN   NaN   NaN   NaN   1.0   NaN   NaN  ...   NaN   \n",
       "86   5.0   NaN   NaN   NaN   NaN   NaN   NaN   NaN   NaN   NaN  ...   NaN   \n",
       "\n",
       "    992   993   994   995   996   997   998   999   1000  \n",
       "44   4.0   NaN   NaN   4.0   NaN   NaN   NaN   NaN   NaN  \n",
       "61   NaN   NaN   NaN   NaN   NaN   NaN   NaN   4.0   NaN  \n",
       "67   3.0   NaN   NaN   NaN   NaN   NaN   NaN   NaN   NaN  \n",
       "72   NaN   NaN   NaN   NaN   NaN   NaN   NaN   NaN   NaN  \n",
       "86   NaN   NaN   5.0   3.0   4.0   NaN   NaN   NaN   NaN  \n",
       "\n",
       "[5 rows x 1000 columns]"
      ]
     },
     "execution_count": 203,
     "metadata": {},
     "output_type": "execute_result"
    }
   ],
   "source": [
    "matrix.head()"
   ]
  },
  {
   "cell_type": "code",
   "execution_count": 14,
   "metadata": {},
   "outputs": [
    {
     "data": {
      "text/plain": [
       "(10000, 1000)"
      ]
     },
     "execution_count": 14,
     "metadata": {},
     "output_type": "execute_result"
    }
   ],
   "source": [
    "matrix.shape"
   ]
  },
  {
   "cell_type": "code",
   "execution_count": 15,
   "metadata": {},
   "outputs": [
    {
     "data": {
      "text/plain": [
       "10000000"
      ]
     },
     "execution_count": 15,
     "metadata": {},
     "output_type": "execute_result"
    }
   ],
   "source": [
    "total_el = 1000*10000\n",
    "total_el"
   ]
  },
  {
   "cell_type": "code",
   "execution_count": 16,
   "metadata": {},
   "outputs": [
    {
     "data": {
      "text/plain": [
       "0.8823048"
      ]
     },
     "execution_count": 16,
     "metadata": {},
     "output_type": "execute_result"
    }
   ],
   "source": [
    "null_el = np.sum(np.sum(pd.isna(matrix)==True))\n",
    "null_el/total_el"
   ]
  },
  {
   "cell_type": "markdown",
   "metadata": {},
   "source": [
    "#### Repeating the same extraction procedure for the submission matrix"
   ]
  },
  {
   "cell_type": "code",
   "execution_count": 93,
   "metadata": {},
   "outputs": [],
   "source": [
    "subm_matrix = pd.DataFrame()"
   ]
  },
  {
   "cell_type": "code",
   "execution_count": 94,
   "metadata": {},
   "outputs": [
    {
     "data": {
      "text/html": [
       "<div>\n",
       "<style scoped>\n",
       "    .dataframe tbody tr th:only-of-type {\n",
       "        vertical-align: middle;\n",
       "    }\n",
       "\n",
       "    .dataframe tbody tr th {\n",
       "        vertical-align: top;\n",
       "    }\n",
       "\n",
       "    .dataframe thead th {\n",
       "        text-align: right;\n",
       "    }\n",
       "</style>\n",
       "<table border=\"1\" class=\"dataframe\">\n",
       "  <thead>\n",
       "    <tr style=\"text-align: right;\">\n",
       "      <th></th>\n",
       "      <th>Id</th>\n",
       "      <th>Prediction</th>\n",
       "      <th>row</th>\n",
       "      <th>col</th>\n",
       "    </tr>\n",
       "  </thead>\n",
       "  <tbody>\n",
       "    <tr>\n",
       "      <th>0</th>\n",
       "      <td>r37_c1</td>\n",
       "      <td>3</td>\n",
       "      <td>37</td>\n",
       "      <td>1</td>\n",
       "    </tr>\n",
       "    <tr>\n",
       "      <th>1</th>\n",
       "      <td>r73_c1</td>\n",
       "      <td>3</td>\n",
       "      <td>73</td>\n",
       "      <td>1</td>\n",
       "    </tr>\n",
       "    <tr>\n",
       "      <th>2</th>\n",
       "      <td>r156_c1</td>\n",
       "      <td>3</td>\n",
       "      <td>156</td>\n",
       "      <td>1</td>\n",
       "    </tr>\n",
       "    <tr>\n",
       "      <th>3</th>\n",
       "      <td>r160_c1</td>\n",
       "      <td>3</td>\n",
       "      <td>160</td>\n",
       "      <td>1</td>\n",
       "    </tr>\n",
       "    <tr>\n",
       "      <th>4</th>\n",
       "      <td>r248_c1</td>\n",
       "      <td>3</td>\n",
       "      <td>248</td>\n",
       "      <td>1</td>\n",
       "    </tr>\n",
       "  </tbody>\n",
       "</table>\n",
       "</div>"
      ],
      "text/plain": [
       "        Id  Prediction  row  col\n",
       "0   r37_c1           3   37    1\n",
       "1   r73_c1           3   73    1\n",
       "2  r156_c1           3  156    1\n",
       "3  r160_c1           3  160    1\n",
       "4  r248_c1           3  248    1"
      ]
     },
     "execution_count": 94,
     "metadata": {},
     "output_type": "execute_result"
    }
   ],
   "source": [
    "subm[\"row\"] = list(map(parse_row,subm[\"Id\"].array))\n",
    "subm[\"col\"] = list(map(parse_col,subm[\"Id\"].array))\n",
    "subm.head()"
   ]
  },
  {
   "cell_type": "markdown",
   "metadata": {},
   "source": [
    "## Simple baseline algo\n",
    "Just replacing the missing value with the mean"
   ]
  },
  {
   "cell_type": "code",
   "execution_count": 20,
   "metadata": {},
   "outputs": [],
   "source": [
    "X = matrix.copy()"
   ]
  },
  {
   "cell_type": "code",
   "execution_count": 21,
   "metadata": {
    "scrolled": true
   },
   "outputs": [
    {
     "data": {
      "text/plain": [
       "<PandasArray>\n",
       "[3.3794117647058823, 3.5009416195856873, 3.4835858585858586,\n",
       "  3.936472819216182, 3.5591311343523735, 4.6827697262479875,\n",
       " 3.4466192170818504,  3.877497062279671, 2.9019607843137254,\n",
       " 3.6460717009916093,\n",
       " ...\n",
       "  2.910377358490566,  3.620218579234973, 2.7775510204081635,\n",
       "  3.281767955801105,  3.752501087429317, 3.3476848090982942,\n",
       "  3.435374149659864,  3.239406779661017,  3.353982300884956,\n",
       " 3.6823056300268098]\n",
       "Length: 1000, dtype: float64"
      ]
     },
     "execution_count": 21,
     "metadata": {},
     "output_type": "execute_result"
    }
   ],
   "source": [
    "means = X.mean()\n",
    "means.array"
   ]
  },
  {
   "cell_type": "code",
   "execution_count": 22,
   "metadata": {},
   "outputs": [
    {
     "data": {
      "text/html": [
       "<div>\n",
       "<style scoped>\n",
       "    .dataframe tbody tr th:only-of-type {\n",
       "        vertical-align: middle;\n",
       "    }\n",
       "\n",
       "    .dataframe tbody tr th {\n",
       "        vertical-align: top;\n",
       "    }\n",
       "\n",
       "    .dataframe thead th {\n",
       "        text-align: right;\n",
       "    }\n",
       "</style>\n",
       "<table border=\"1\" class=\"dataframe\">\n",
       "  <thead>\n",
       "    <tr style=\"text-align: right;\">\n",
       "      <th></th>\n",
       "      <th>1</th>\n",
       "      <th>2</th>\n",
       "      <th>3</th>\n",
       "      <th>4</th>\n",
       "      <th>5</th>\n",
       "      <th>6</th>\n",
       "      <th>7</th>\n",
       "      <th>8</th>\n",
       "      <th>9</th>\n",
       "      <th>10</th>\n",
       "      <th>...</th>\n",
       "      <th>991</th>\n",
       "      <th>992</th>\n",
       "      <th>993</th>\n",
       "      <th>994</th>\n",
       "      <th>995</th>\n",
       "      <th>996</th>\n",
       "      <th>997</th>\n",
       "      <th>998</th>\n",
       "      <th>999</th>\n",
       "      <th>1000</th>\n",
       "    </tr>\n",
       "  </thead>\n",
       "  <tbody>\n",
       "    <tr>\n",
       "      <th>44</th>\n",
       "      <td>4.0</td>\n",
       "      <td>4.000000</td>\n",
       "      <td>3.483586</td>\n",
       "      <td>5.000000</td>\n",
       "      <td>5.000000</td>\n",
       "      <td>4.68277</td>\n",
       "      <td>2.000000</td>\n",
       "      <td>5.000000</td>\n",
       "      <td>2.901961</td>\n",
       "      <td>3.646072</td>\n",
       "      <td>...</td>\n",
       "      <td>2.910377</td>\n",
       "      <td>4.000000</td>\n",
       "      <td>2.777551</td>\n",
       "      <td>3.281768</td>\n",
       "      <td>4.000000</td>\n",
       "      <td>3.347685</td>\n",
       "      <td>3.435374</td>\n",
       "      <td>3.239407</td>\n",
       "      <td>3.353982</td>\n",
       "      <td>3.682306</td>\n",
       "    </tr>\n",
       "    <tr>\n",
       "      <th>61</th>\n",
       "      <td>3.0</td>\n",
       "      <td>3.500942</td>\n",
       "      <td>3.483586</td>\n",
       "      <td>3.936473</td>\n",
       "      <td>3.559131</td>\n",
       "      <td>4.68277</td>\n",
       "      <td>3.446619</td>\n",
       "      <td>3.877497</td>\n",
       "      <td>2.901961</td>\n",
       "      <td>3.646072</td>\n",
       "      <td>...</td>\n",
       "      <td>2.910377</td>\n",
       "      <td>3.620219</td>\n",
       "      <td>2.777551</td>\n",
       "      <td>3.281768</td>\n",
       "      <td>3.752501</td>\n",
       "      <td>3.347685</td>\n",
       "      <td>3.435374</td>\n",
       "      <td>3.239407</td>\n",
       "      <td>4.000000</td>\n",
       "      <td>3.682306</td>\n",
       "    </tr>\n",
       "    <tr>\n",
       "      <th>67</th>\n",
       "      <td>4.0</td>\n",
       "      <td>3.500942</td>\n",
       "      <td>3.483586</td>\n",
       "      <td>3.936473</td>\n",
       "      <td>3.559131</td>\n",
       "      <td>4.68277</td>\n",
       "      <td>3.446619</td>\n",
       "      <td>3.877497</td>\n",
       "      <td>2.901961</td>\n",
       "      <td>3.646072</td>\n",
       "      <td>...</td>\n",
       "      <td>2.910377</td>\n",
       "      <td>3.000000</td>\n",
       "      <td>2.777551</td>\n",
       "      <td>3.281768</td>\n",
       "      <td>3.752501</td>\n",
       "      <td>3.347685</td>\n",
       "      <td>3.435374</td>\n",
       "      <td>3.239407</td>\n",
       "      <td>3.353982</td>\n",
       "      <td>3.682306</td>\n",
       "    </tr>\n",
       "    <tr>\n",
       "      <th>72</th>\n",
       "      <td>3.0</td>\n",
       "      <td>3.500942</td>\n",
       "      <td>3.483586</td>\n",
       "      <td>3.936473</td>\n",
       "      <td>3.559131</td>\n",
       "      <td>4.68277</td>\n",
       "      <td>3.446619</td>\n",
       "      <td>1.000000</td>\n",
       "      <td>2.901961</td>\n",
       "      <td>3.646072</td>\n",
       "      <td>...</td>\n",
       "      <td>2.910377</td>\n",
       "      <td>3.620219</td>\n",
       "      <td>2.777551</td>\n",
       "      <td>3.281768</td>\n",
       "      <td>3.752501</td>\n",
       "      <td>3.347685</td>\n",
       "      <td>3.435374</td>\n",
       "      <td>3.239407</td>\n",
       "      <td>3.353982</td>\n",
       "      <td>3.682306</td>\n",
       "    </tr>\n",
       "    <tr>\n",
       "      <th>86</th>\n",
       "      <td>5.0</td>\n",
       "      <td>3.500942</td>\n",
       "      <td>3.483586</td>\n",
       "      <td>3.936473</td>\n",
       "      <td>3.559131</td>\n",
       "      <td>4.68277</td>\n",
       "      <td>3.446619</td>\n",
       "      <td>3.877497</td>\n",
       "      <td>2.901961</td>\n",
       "      <td>3.646072</td>\n",
       "      <td>...</td>\n",
       "      <td>2.910377</td>\n",
       "      <td>3.620219</td>\n",
       "      <td>2.777551</td>\n",
       "      <td>5.000000</td>\n",
       "      <td>3.000000</td>\n",
       "      <td>4.000000</td>\n",
       "      <td>3.435374</td>\n",
       "      <td>3.239407</td>\n",
       "      <td>3.353982</td>\n",
       "      <td>3.682306</td>\n",
       "    </tr>\n",
       "  </tbody>\n",
       "</table>\n",
       "<p>5 rows × 1000 columns</p>\n",
       "</div>"
      ],
      "text/plain": [
       "    1         2         3         4         5        6         7         8     \\\n",
       "44   4.0  4.000000  3.483586  5.000000  5.000000  4.68277  2.000000  5.000000   \n",
       "61   3.0  3.500942  3.483586  3.936473  3.559131  4.68277  3.446619  3.877497   \n",
       "67   4.0  3.500942  3.483586  3.936473  3.559131  4.68277  3.446619  3.877497   \n",
       "72   3.0  3.500942  3.483586  3.936473  3.559131  4.68277  3.446619  1.000000   \n",
       "86   5.0  3.500942  3.483586  3.936473  3.559131  4.68277  3.446619  3.877497   \n",
       "\n",
       "        9         10    ...      991       992       993       994       995   \\\n",
       "44  2.901961  3.646072  ...  2.910377  4.000000  2.777551  3.281768  4.000000   \n",
       "61  2.901961  3.646072  ...  2.910377  3.620219  2.777551  3.281768  3.752501   \n",
       "67  2.901961  3.646072  ...  2.910377  3.000000  2.777551  3.281768  3.752501   \n",
       "72  2.901961  3.646072  ...  2.910377  3.620219  2.777551  3.281768  3.752501   \n",
       "86  2.901961  3.646072  ...  2.910377  3.620219  2.777551  5.000000  3.000000   \n",
       "\n",
       "        996       997       998       999       1000  \n",
       "44  3.347685  3.435374  3.239407  3.353982  3.682306  \n",
       "61  3.347685  3.435374  3.239407  4.000000  3.682306  \n",
       "67  3.347685  3.435374  3.239407  3.353982  3.682306  \n",
       "72  3.347685  3.435374  3.239407  3.353982  3.682306  \n",
       "86  4.000000  3.435374  3.239407  3.353982  3.682306  \n",
       "\n",
       "[5 rows x 1000 columns]"
      ]
     },
     "execution_count": 22,
     "metadata": {},
     "output_type": "execute_result"
    }
   ],
   "source": [
    "X = X.fillna(value=means)\n",
    "X.head()"
   ]
  },
  {
   "cell_type": "code",
   "execution_count": 81,
   "metadata": {},
   "outputs": [],
   "source": [
    "def concatenate(row,col):\n",
    "    return \"r\" + row + \"_c\" + col"
   ]
  },
  {
   "cell_type": "code",
   "execution_count": 162,
   "metadata": {},
   "outputs": [],
   "source": [
    "subm[\"True_pred\"] = list(map(lambda r,c: X.loc[r,c],subm[\"row\"],subm[\"col\"]))"
   ]
  },
  {
   "cell_type": "code",
   "execution_count": 166,
   "metadata": {},
   "outputs": [
    {
     "data": {
      "text/html": [
       "<div>\n",
       "<style scoped>\n",
       "    .dataframe tbody tr th:only-of-type {\n",
       "        vertical-align: middle;\n",
       "    }\n",
       "\n",
       "    .dataframe tbody tr th {\n",
       "        vertical-align: top;\n",
       "    }\n",
       "\n",
       "    .dataframe thead th {\n",
       "        text-align: right;\n",
       "    }\n",
       "</style>\n",
       "<table border=\"1\" class=\"dataframe\">\n",
       "  <thead>\n",
       "    <tr style=\"text-align: right;\">\n",
       "      <th></th>\n",
       "      <th>Id</th>\n",
       "      <th>Prediction</th>\n",
       "    </tr>\n",
       "  </thead>\n",
       "  <tbody>\n",
       "    <tr>\n",
       "      <th>0</th>\n",
       "      <td>r37_c1</td>\n",
       "      <td>3.379412</td>\n",
       "    </tr>\n",
       "    <tr>\n",
       "      <th>1</th>\n",
       "      <td>r73_c1</td>\n",
       "      <td>3.379412</td>\n",
       "    </tr>\n",
       "    <tr>\n",
       "      <th>2</th>\n",
       "      <td>r156_c1</td>\n",
       "      <td>3.379412</td>\n",
       "    </tr>\n",
       "    <tr>\n",
       "      <th>3</th>\n",
       "      <td>r160_c1</td>\n",
       "      <td>3.379412</td>\n",
       "    </tr>\n",
       "    <tr>\n",
       "      <th>4</th>\n",
       "      <td>r248_c1</td>\n",
       "      <td>3.379412</td>\n",
       "    </tr>\n",
       "    <tr>\n",
       "      <th>...</th>\n",
       "      <td>...</td>\n",
       "      <td>...</td>\n",
       "    </tr>\n",
       "    <tr>\n",
       "      <th>1176947</th>\n",
       "      <td>r9974_c1000</td>\n",
       "      <td>3.682306</td>\n",
       "    </tr>\n",
       "    <tr>\n",
       "      <th>1176948</th>\n",
       "      <td>r9977_c1000</td>\n",
       "      <td>3.682306</td>\n",
       "    </tr>\n",
       "    <tr>\n",
       "      <th>1176949</th>\n",
       "      <td>r9978_c1000</td>\n",
       "      <td>3.682306</td>\n",
       "    </tr>\n",
       "    <tr>\n",
       "      <th>1176950</th>\n",
       "      <td>r9982_c1000</td>\n",
       "      <td>3.682306</td>\n",
       "    </tr>\n",
       "    <tr>\n",
       "      <th>1176951</th>\n",
       "      <td>r9996_c1000</td>\n",
       "      <td>3.682306</td>\n",
       "    </tr>\n",
       "  </tbody>\n",
       "</table>\n",
       "<p>1176952 rows × 2 columns</p>\n",
       "</div>"
      ],
      "text/plain": [
       "                  Id  Prediction\n",
       "0             r37_c1    3.379412\n",
       "1             r73_c1    3.379412\n",
       "2            r156_c1    3.379412\n",
       "3            r160_c1    3.379412\n",
       "4            r248_c1    3.379412\n",
       "...              ...         ...\n",
       "1176947  r9974_c1000    3.682306\n",
       "1176948  r9977_c1000    3.682306\n",
       "1176949  r9978_c1000    3.682306\n",
       "1176950  r9982_c1000    3.682306\n",
       "1176951  r9996_c1000    3.682306\n",
       "\n",
       "[1176952 rows x 2 columns]"
      ]
     },
     "execution_count": 166,
     "metadata": {},
     "output_type": "execute_result"
    }
   ],
   "source": [
    "new_sub = subm[[\"Id\",\"True_pred\"]]\n",
    "new_sub.columns = [\"Id\",\"Prediction\"]\n",
    "new_sub"
   ]
  },
  {
   "cell_type": "markdown",
   "metadata": {},
   "source": [
    "## Improving the solution"
   ]
  },
  {
   "cell_type": "code",
   "execution_count": 23,
   "metadata": {},
   "outputs": [
    {
     "data": {
      "text/html": [
       "<div>\n",
       "<style scoped>\n",
       "    .dataframe tbody tr th:only-of-type {\n",
       "        vertical-align: middle;\n",
       "    }\n",
       "\n",
       "    .dataframe tbody tr th {\n",
       "        vertical-align: top;\n",
       "    }\n",
       "\n",
       "    .dataframe thead th {\n",
       "        text-align: right;\n",
       "    }\n",
       "</style>\n",
       "<table border=\"1\" class=\"dataframe\">\n",
       "  <thead>\n",
       "    <tr style=\"text-align: right;\">\n",
       "      <th></th>\n",
       "      <th>1</th>\n",
       "      <th>2</th>\n",
       "      <th>3</th>\n",
       "      <th>4</th>\n",
       "      <th>5</th>\n",
       "      <th>6</th>\n",
       "      <th>7</th>\n",
       "      <th>8</th>\n",
       "      <th>9</th>\n",
       "      <th>10</th>\n",
       "      <th>...</th>\n",
       "      <th>991</th>\n",
       "      <th>992</th>\n",
       "      <th>993</th>\n",
       "      <th>994</th>\n",
       "      <th>995</th>\n",
       "      <th>996</th>\n",
       "      <th>997</th>\n",
       "      <th>998</th>\n",
       "      <th>999</th>\n",
       "      <th>1000</th>\n",
       "    </tr>\n",
       "  </thead>\n",
       "  <tbody>\n",
       "    <tr>\n",
       "      <th>44</th>\n",
       "      <td>4.0</td>\n",
       "      <td>4.000000</td>\n",
       "      <td>3.483586</td>\n",
       "      <td>5.000000</td>\n",
       "      <td>5.000000</td>\n",
       "      <td>4.68277</td>\n",
       "      <td>2.000000</td>\n",
       "      <td>5.000000</td>\n",
       "      <td>2.901961</td>\n",
       "      <td>3.646072</td>\n",
       "      <td>...</td>\n",
       "      <td>2.910377</td>\n",
       "      <td>4.000000</td>\n",
       "      <td>2.777551</td>\n",
       "      <td>3.281768</td>\n",
       "      <td>4.000000</td>\n",
       "      <td>3.347685</td>\n",
       "      <td>3.435374</td>\n",
       "      <td>3.239407</td>\n",
       "      <td>3.353982</td>\n",
       "      <td>3.682306</td>\n",
       "    </tr>\n",
       "    <tr>\n",
       "      <th>61</th>\n",
       "      <td>3.0</td>\n",
       "      <td>3.500942</td>\n",
       "      <td>3.483586</td>\n",
       "      <td>3.936473</td>\n",
       "      <td>3.559131</td>\n",
       "      <td>4.68277</td>\n",
       "      <td>3.446619</td>\n",
       "      <td>3.877497</td>\n",
       "      <td>2.901961</td>\n",
       "      <td>3.646072</td>\n",
       "      <td>...</td>\n",
       "      <td>2.910377</td>\n",
       "      <td>3.620219</td>\n",
       "      <td>2.777551</td>\n",
       "      <td>3.281768</td>\n",
       "      <td>3.752501</td>\n",
       "      <td>3.347685</td>\n",
       "      <td>3.435374</td>\n",
       "      <td>3.239407</td>\n",
       "      <td>4.000000</td>\n",
       "      <td>3.682306</td>\n",
       "    </tr>\n",
       "    <tr>\n",
       "      <th>67</th>\n",
       "      <td>4.0</td>\n",
       "      <td>3.500942</td>\n",
       "      <td>3.483586</td>\n",
       "      <td>3.936473</td>\n",
       "      <td>3.559131</td>\n",
       "      <td>4.68277</td>\n",
       "      <td>3.446619</td>\n",
       "      <td>3.877497</td>\n",
       "      <td>2.901961</td>\n",
       "      <td>3.646072</td>\n",
       "      <td>...</td>\n",
       "      <td>2.910377</td>\n",
       "      <td>3.000000</td>\n",
       "      <td>2.777551</td>\n",
       "      <td>3.281768</td>\n",
       "      <td>3.752501</td>\n",
       "      <td>3.347685</td>\n",
       "      <td>3.435374</td>\n",
       "      <td>3.239407</td>\n",
       "      <td>3.353982</td>\n",
       "      <td>3.682306</td>\n",
       "    </tr>\n",
       "    <tr>\n",
       "      <th>72</th>\n",
       "      <td>3.0</td>\n",
       "      <td>3.500942</td>\n",
       "      <td>3.483586</td>\n",
       "      <td>3.936473</td>\n",
       "      <td>3.559131</td>\n",
       "      <td>4.68277</td>\n",
       "      <td>3.446619</td>\n",
       "      <td>1.000000</td>\n",
       "      <td>2.901961</td>\n",
       "      <td>3.646072</td>\n",
       "      <td>...</td>\n",
       "      <td>2.910377</td>\n",
       "      <td>3.620219</td>\n",
       "      <td>2.777551</td>\n",
       "      <td>3.281768</td>\n",
       "      <td>3.752501</td>\n",
       "      <td>3.347685</td>\n",
       "      <td>3.435374</td>\n",
       "      <td>3.239407</td>\n",
       "      <td>3.353982</td>\n",
       "      <td>3.682306</td>\n",
       "    </tr>\n",
       "    <tr>\n",
       "      <th>86</th>\n",
       "      <td>5.0</td>\n",
       "      <td>3.500942</td>\n",
       "      <td>3.483586</td>\n",
       "      <td>3.936473</td>\n",
       "      <td>3.559131</td>\n",
       "      <td>4.68277</td>\n",
       "      <td>3.446619</td>\n",
       "      <td>3.877497</td>\n",
       "      <td>2.901961</td>\n",
       "      <td>3.646072</td>\n",
       "      <td>...</td>\n",
       "      <td>2.910377</td>\n",
       "      <td>3.620219</td>\n",
       "      <td>2.777551</td>\n",
       "      <td>5.000000</td>\n",
       "      <td>3.000000</td>\n",
       "      <td>4.000000</td>\n",
       "      <td>3.435374</td>\n",
       "      <td>3.239407</td>\n",
       "      <td>3.353982</td>\n",
       "      <td>3.682306</td>\n",
       "    </tr>\n",
       "  </tbody>\n",
       "</table>\n",
       "<p>5 rows × 1000 columns</p>\n",
       "</div>"
      ],
      "text/plain": [
       "    1         2         3         4         5        6         7         8     \\\n",
       "44   4.0  4.000000  3.483586  5.000000  5.000000  4.68277  2.000000  5.000000   \n",
       "61   3.0  3.500942  3.483586  3.936473  3.559131  4.68277  3.446619  3.877497   \n",
       "67   4.0  3.500942  3.483586  3.936473  3.559131  4.68277  3.446619  3.877497   \n",
       "72   3.0  3.500942  3.483586  3.936473  3.559131  4.68277  3.446619  1.000000   \n",
       "86   5.0  3.500942  3.483586  3.936473  3.559131  4.68277  3.446619  3.877497   \n",
       "\n",
       "        9         10    ...      991       992       993       994       995   \\\n",
       "44  2.901961  3.646072  ...  2.910377  4.000000  2.777551  3.281768  4.000000   \n",
       "61  2.901961  3.646072  ...  2.910377  3.620219  2.777551  3.281768  3.752501   \n",
       "67  2.901961  3.646072  ...  2.910377  3.000000  2.777551  3.281768  3.752501   \n",
       "72  2.901961  3.646072  ...  2.910377  3.620219  2.777551  3.281768  3.752501   \n",
       "86  2.901961  3.646072  ...  2.910377  3.620219  2.777551  5.000000  3.000000   \n",
       "\n",
       "        996       997       998       999       1000  \n",
       "44  3.347685  3.435374  3.239407  3.353982  3.682306  \n",
       "61  3.347685  3.435374  3.239407  4.000000  3.682306  \n",
       "67  3.347685  3.435374  3.239407  3.353982  3.682306  \n",
       "72  3.347685  3.435374  3.239407  3.353982  3.682306  \n",
       "86  4.000000  3.435374  3.239407  3.353982  3.682306  \n",
       "\n",
       "[5 rows x 1000 columns]"
      ]
     },
     "execution_count": 23,
     "metadata": {},
     "output_type": "execute_result"
    }
   ],
   "source": [
    "X.head()"
   ]
  },
  {
   "cell_type": "markdown",
   "metadata": {},
   "source": [
    "#### SVD decomposition"
   ]
  },
  {
   "cell_type": "code",
   "execution_count": 24,
   "metadata": {},
   "outputs": [],
   "source": [
    "U,D,V_t = np.linalg.svd(X)"
   ]
  },
  {
   "cell_type": "code",
   "execution_count": 28,
   "metadata": {},
   "outputs": [
    {
     "data": {
      "text/plain": [
       "(10000, 10000)"
      ]
     },
     "execution_count": 28,
     "metadata": {},
     "output_type": "execute_result"
    }
   ],
   "source": [
    "U.shape"
   ]
  },
  {
   "cell_type": "markdown",
   "metadata": {},
   "source": [
    "U is the matrix user->concept"
   ]
  },
  {
   "cell_type": "code",
   "execution_count": 29,
   "metadata": {},
   "outputs": [
    {
     "data": {
      "text/plain": [
       "(1000, 1000)"
      ]
     },
     "execution_count": 29,
     "metadata": {},
     "output_type": "execute_result"
    }
   ],
   "source": [
    "V_t.shape"
   ]
  },
  {
   "cell_type": "code",
   "execution_count": 30,
   "metadata": {},
   "outputs": [],
   "source": [
    "V = V_t.transpose()"
   ]
  },
  {
   "cell_type": "markdown",
   "metadata": {},
   "source": [
    "V is the matrix item-> concept"
   ]
  },
  {
   "cell_type": "code",
   "execution_count": 31,
   "metadata": {},
   "outputs": [],
   "source": [
    "D = np.eye(10000,1000)*D"
   ]
  },
  {
   "cell_type": "markdown",
   "metadata": {},
   "source": [
    "Now, to make better predictions, let's **map each movie to its latent space**"
   ]
  },
  {
   "cell_type": "markdown",
   "metadata": {},
   "source": [
    "If we want an error less than 10% then we should calculate how many dimension make up 90% of the spectral norm of the matrix"
   ]
  },
  {
   "cell_type": "code",
   "execution_count": 41,
   "metadata": {},
   "outputs": [
    {
     "data": {
      "text/plain": [
       "0.9912081447567247"
      ]
     },
     "execution_count": 41,
     "metadata": {},
     "output_type": "execute_result"
    }
   ],
   "source": [
    "total_F = np.trace(D**2)\n",
    "total_10 = np.trace(D[:,:10]**2)\n",
    "total_10/total_F"
   ]
  },
  {
   "cell_type": "markdown",
   "metadata": {},
   "source": [
    "With only 10 dimensions we already get < 0.01 reconstruction error, so we'll use 10."
   ]
  },
  {
   "cell_type": "code",
   "execution_count": 45,
   "metadata": {},
   "outputs": [],
   "source": [
    "D_k = D[:,:10]"
   ]
  },
  {
   "cell_type": "code",
   "execution_count": 62,
   "metadata": {},
   "outputs": [
    {
     "data": {
      "text/plain": [
       "(10000, 10)"
      ]
     },
     "execution_count": 62,
     "metadata": {},
     "output_type": "execute_result"
    }
   ],
   "source": [
    "D_sqrt = np.sqrt(D_k)\n",
    "D_sqrt.shape"
   ]
  },
  {
   "cell_type": "code",
   "execution_count": 64,
   "metadata": {},
   "outputs": [
    {
     "data": {
      "text/plain": [
       "(10000, 10)"
      ]
     },
     "execution_count": 64,
     "metadata": {},
     "output_type": "execute_result"
    }
   ],
   "source": [
    "U_prime = U[:,:10]\n",
    "U_prime.shape"
   ]
  },
  {
   "cell_type": "markdown",
   "metadata": {},
   "source": [
    "Now we map the movies in X in the latent space spanned by the first 10 singular vectors in U"
   ]
  },
  {
   "cell_type": "code",
   "execution_count": 65,
   "metadata": {},
   "outputs": [
    {
     "data": {
      "text/plain": [
       "(10, 1000)"
      ]
     },
     "execution_count": 65,
     "metadata": {},
     "output_type": "execute_result"
    }
   ],
   "source": [
    "compressed = np.transpose(U_prime).dot(X)\n",
    "compressed.shape"
   ]
  },
  {
   "cell_type": "markdown",
   "metadata": {},
   "source": [
    "We now decompress by re-applying U"
   ]
  },
  {
   "cell_type": "code",
   "execution_count": 66,
   "metadata": {},
   "outputs": [
    {
     "data": {
      "text/plain": [
       "(10000, 1000)"
      ]
     },
     "execution_count": 66,
     "metadata": {},
     "output_type": "execute_result"
    }
   ],
   "source": [
    "decompressed = U_prime.dot(compressed)\n",
    "decompressed.shape"
   ]
  },
  {
   "cell_type": "markdown",
   "metadata": {},
   "source": [
    "Let's compute the reconstruction error"
   ]
  },
  {
   "cell_type": "code",
   "execution_count": 68,
   "metadata": {},
   "outputs": [
    {
     "data": {
      "text/plain": [
       "68.20507105463845"
      ]
     },
     "execution_count": 68,
     "metadata": {},
     "output_type": "execute_result"
    }
   ],
   "source": [
    "err_2 = np.linalg.norm(X-decompressed,2)\n",
    "err_F = np.linalg.norm(X-decompressed,\"fro\")\n",
    "err_2"
   ]
  },
  {
   "cell_type": "code",
   "execution_count": 78,
   "metadata": {},
   "outputs": [
    {
     "data": {
      "text/plain": [
       "68.20507105463861"
      ]
     },
     "execution_count": 78,
     "metadata": {},
     "output_type": "execute_result"
    }
   ],
   "source": [
    "D[10,10]"
   ]
  },
  {
   "cell_type": "code",
   "execution_count": 74,
   "metadata": {},
   "outputs": [
    {
     "data": {
      "text/plain": [
       "1170814.9143043328"
      ]
     },
     "execution_count": 74,
     "metadata": {},
     "output_type": "execute_result"
    }
   ],
   "source": [
    "err_F**2"
   ]
  },
  {
   "cell_type": "code",
   "execution_count": 79,
   "metadata": {},
   "outputs": [
    {
     "data": {
      "text/plain": [
       "1170814.91430433"
      ]
     },
     "execution_count": 79,
     "metadata": {},
     "output_type": "execute_result"
    }
   ],
   "source": [
    "np.trace(D[10:,10:]**2)"
   ]
  },
  {
   "cell_type": "markdown",
   "metadata": {},
   "source": [
    "## Matrix factorization method"
   ]
  },
  {
   "cell_type": "code",
   "execution_count": 46,
   "metadata": {},
   "outputs": [
    {
     "data": {
      "text/html": [
       "<div>\n",
       "<style scoped>\n",
       "    .dataframe tbody tr th:only-of-type {\n",
       "        vertical-align: middle;\n",
       "    }\n",
       "\n",
       "    .dataframe tbody tr th {\n",
       "        vertical-align: top;\n",
       "    }\n",
       "\n",
       "    .dataframe thead th {\n",
       "        text-align: right;\n",
       "    }\n",
       "</style>\n",
       "<table border=\"1\" class=\"dataframe\">\n",
       "  <thead>\n",
       "    <tr style=\"text-align: right;\">\n",
       "      <th></th>\n",
       "      <th>1</th>\n",
       "      <th>2</th>\n",
       "      <th>3</th>\n",
       "      <th>4</th>\n",
       "      <th>5</th>\n",
       "      <th>6</th>\n",
       "      <th>7</th>\n",
       "      <th>8</th>\n",
       "      <th>9</th>\n",
       "      <th>10</th>\n",
       "      <th>...</th>\n",
       "      <th>991</th>\n",
       "      <th>992</th>\n",
       "      <th>993</th>\n",
       "      <th>994</th>\n",
       "      <th>995</th>\n",
       "      <th>996</th>\n",
       "      <th>997</th>\n",
       "      <th>998</th>\n",
       "      <th>999</th>\n",
       "      <th>1000</th>\n",
       "    </tr>\n",
       "  </thead>\n",
       "  <tbody>\n",
       "    <tr>\n",
       "      <th>44</th>\n",
       "      <td>4.0</td>\n",
       "      <td>4.0</td>\n",
       "      <td>NaN</td>\n",
       "      <td>5.0</td>\n",
       "      <td>5.0</td>\n",
       "      <td>NaN</td>\n",
       "      <td>2.0</td>\n",
       "      <td>5.0</td>\n",
       "      <td>NaN</td>\n",
       "      <td>NaN</td>\n",
       "      <td>...</td>\n",
       "      <td>NaN</td>\n",
       "      <td>4.0</td>\n",
       "      <td>NaN</td>\n",
       "      <td>NaN</td>\n",
       "      <td>4.0</td>\n",
       "      <td>NaN</td>\n",
       "      <td>NaN</td>\n",
       "      <td>NaN</td>\n",
       "      <td>NaN</td>\n",
       "      <td>NaN</td>\n",
       "    </tr>\n",
       "    <tr>\n",
       "      <th>61</th>\n",
       "      <td>3.0</td>\n",
       "      <td>NaN</td>\n",
       "      <td>NaN</td>\n",
       "      <td>NaN</td>\n",
       "      <td>NaN</td>\n",
       "      <td>NaN</td>\n",
       "      <td>NaN</td>\n",
       "      <td>NaN</td>\n",
       "      <td>NaN</td>\n",
       "      <td>NaN</td>\n",
       "      <td>...</td>\n",
       "      <td>NaN</td>\n",
       "      <td>NaN</td>\n",
       "      <td>NaN</td>\n",
       "      <td>NaN</td>\n",
       "      <td>NaN</td>\n",
       "      <td>NaN</td>\n",
       "      <td>NaN</td>\n",
       "      <td>NaN</td>\n",
       "      <td>4.0</td>\n",
       "      <td>NaN</td>\n",
       "    </tr>\n",
       "    <tr>\n",
       "      <th>67</th>\n",
       "      <td>4.0</td>\n",
       "      <td>NaN</td>\n",
       "      <td>NaN</td>\n",
       "      <td>NaN</td>\n",
       "      <td>NaN</td>\n",
       "      <td>NaN</td>\n",
       "      <td>NaN</td>\n",
       "      <td>NaN</td>\n",
       "      <td>NaN</td>\n",
       "      <td>NaN</td>\n",
       "      <td>...</td>\n",
       "      <td>NaN</td>\n",
       "      <td>3.0</td>\n",
       "      <td>NaN</td>\n",
       "      <td>NaN</td>\n",
       "      <td>NaN</td>\n",
       "      <td>NaN</td>\n",
       "      <td>NaN</td>\n",
       "      <td>NaN</td>\n",
       "      <td>NaN</td>\n",
       "      <td>NaN</td>\n",
       "    </tr>\n",
       "    <tr>\n",
       "      <th>72</th>\n",
       "      <td>3.0</td>\n",
       "      <td>NaN</td>\n",
       "      <td>NaN</td>\n",
       "      <td>NaN</td>\n",
       "      <td>NaN</td>\n",
       "      <td>NaN</td>\n",
       "      <td>NaN</td>\n",
       "      <td>1.0</td>\n",
       "      <td>NaN</td>\n",
       "      <td>NaN</td>\n",
       "      <td>...</td>\n",
       "      <td>NaN</td>\n",
       "      <td>NaN</td>\n",
       "      <td>NaN</td>\n",
       "      <td>NaN</td>\n",
       "      <td>NaN</td>\n",
       "      <td>NaN</td>\n",
       "      <td>NaN</td>\n",
       "      <td>NaN</td>\n",
       "      <td>NaN</td>\n",
       "      <td>NaN</td>\n",
       "    </tr>\n",
       "    <tr>\n",
       "      <th>86</th>\n",
       "      <td>5.0</td>\n",
       "      <td>NaN</td>\n",
       "      <td>NaN</td>\n",
       "      <td>NaN</td>\n",
       "      <td>NaN</td>\n",
       "      <td>NaN</td>\n",
       "      <td>NaN</td>\n",
       "      <td>NaN</td>\n",
       "      <td>NaN</td>\n",
       "      <td>NaN</td>\n",
       "      <td>...</td>\n",
       "      <td>NaN</td>\n",
       "      <td>NaN</td>\n",
       "      <td>NaN</td>\n",
       "      <td>5.0</td>\n",
       "      <td>3.0</td>\n",
       "      <td>4.0</td>\n",
       "      <td>NaN</td>\n",
       "      <td>NaN</td>\n",
       "      <td>NaN</td>\n",
       "      <td>NaN</td>\n",
       "    </tr>\n",
       "  </tbody>\n",
       "</table>\n",
       "<p>5 rows × 1000 columns</p>\n",
       "</div>"
      ],
      "text/plain": [
       "    1     2     3     4     5     6     7     8     9     10    ...  991   \\\n",
       "44   4.0   4.0   NaN   5.0   5.0   NaN   2.0   5.0   NaN   NaN  ...   NaN   \n",
       "61   3.0   NaN   NaN   NaN   NaN   NaN   NaN   NaN   NaN   NaN  ...   NaN   \n",
       "67   4.0   NaN   NaN   NaN   NaN   NaN   NaN   NaN   NaN   NaN  ...   NaN   \n",
       "72   3.0   NaN   NaN   NaN   NaN   NaN   NaN   1.0   NaN   NaN  ...   NaN   \n",
       "86   5.0   NaN   NaN   NaN   NaN   NaN   NaN   NaN   NaN   NaN  ...   NaN   \n",
       "\n",
       "    992   993   994   995   996   997   998   999   1000  \n",
       "44   4.0   NaN   NaN   4.0   NaN   NaN   NaN   NaN   NaN  \n",
       "61   NaN   NaN   NaN   NaN   NaN   NaN   NaN   4.0   NaN  \n",
       "67   3.0   NaN   NaN   NaN   NaN   NaN   NaN   NaN   NaN  \n",
       "72   NaN   NaN   NaN   NaN   NaN   NaN   NaN   NaN   NaN  \n",
       "86   NaN   NaN   5.0   3.0   4.0   NaN   NaN   NaN   NaN  \n",
       "\n",
       "[5 rows x 1000 columns]"
      ]
     },
     "execution_count": 46,
     "metadata": {},
     "output_type": "execute_result"
    }
   ],
   "source": [
    "X = matrix.copy()\n",
    "X.head()"
   ]
  },
  {
   "cell_type": "code",
   "execution_count": 47,
   "metadata": {},
   "outputs": [
    {
     "data": {
      "text/plain": [
       "1176952"
      ]
     },
     "execution_count": 47,
     "metadata": {},
     "output_type": "execute_result"
    }
   ],
   "source": [
    "na = X.isna()\n",
    "observed = X.shape[0]*X.shape[1] - np.sum(np.sum(na))\n",
    "total = X.shape[0]*X.shape[1]\n",
    "observed"
   ]
  },
  {
   "cell_type": "code",
   "execution_count": 48,
   "metadata": {},
   "outputs": [
    {
     "data": {
      "text/plain": [
       "0.1176952"
      ]
     },
     "execution_count": 48,
     "metadata": {},
     "output_type": "execute_result"
    }
   ],
   "source": [
    "observed/total"
   ]
  },
  {
   "cell_type": "code",
   "execution_count": 49,
   "metadata": {},
   "outputs": [],
   "source": [
    "# So one every 10 entries is observed"
   ]
  },
  {
   "cell_type": "code",
   "execution_count": 50,
   "metadata": {},
   "outputs": [],
   "source": [
    "# We will factorise X as the product U*Z.t, \n",
    "# where U is 10000xk and Z is 1000*k "
   ]
  },
  {
   "cell_type": "code",
   "execution_count": 51,
   "metadata": {},
   "outputs": [],
   "source": [
    "# The value of k determines the level of compression, \n",
    "# or the number of latent factors we will take \n",
    "# into consideration \n",
    "k = 100"
   ]
  },
  {
   "cell_type": "code",
   "execution_count": 52,
   "metadata": {},
   "outputs": [],
   "source": [
    "# Initialise U and Z \n",
    "U = 0.1*np.random.randn(10000,k)\n",
    "Z = 0.1*np.random.randn(1000,k)"
   ]
  },
  {
   "cell_type": "code",
   "execution_count": 53,
   "metadata": {},
   "outputs": [],
   "source": [
    "# Now we can define the cost function\n",
    "# as the sum of the errors on each observed value"
   ]
  },
  {
   "cell_type": "code",
   "execution_count": 54,
   "metadata": {},
   "outputs": [],
   "source": [
    "def cost(A,B):\n",
    "    return np.sum(np.sum((X-A.dot(B.T))**2))/(2*observed)"
   ]
  },
  {
   "cell_type": "code",
   "execution_count": 55,
   "metadata": {},
   "outputs": [],
   "source": [
    "# We can use a first order method to minimise \n",
    "# the cost function "
   ]
  },
  {
   "cell_type": "code",
   "execution_count": 56,
   "metadata": {},
   "outputs": [],
   "source": [
    "# To be faster and cheaper we use \n",
    "# STOCHASTIC GRADIENT DESCENT\n",
    "# The stochastic gradient will randomly \n",
    "# pick a sample and update the rows of U \n",
    "# and Z corresponding to that sample.\n",
    "\n",
    "# For the sample x_dn we will update \n",
    "# the row U_d and the row Z_n with the \n",
    "# update being equal to "
   ]
  },
  {
   "cell_type": "markdown",
   "metadata": {},
   "source": [
    "$$ z_n = (X_{dn}-u_d^Tz_n)u_d$$\n",
    "$$ u_d = (X_{dn}-u_d^Tz_n)z_n$$"
   ]
  },
  {
   "cell_type": "code",
   "execution_count": 66,
   "metadata": {},
   "outputs": [],
   "source": [
    "def update(d,n,X,A,B,gamma):\n",
    "    error = X.loc[d,n] - A[d-1,:].dot(B[n-1,:])\n",
    "    A= A+ gamma*error*B[n-1,:]\n",
    "    B= B+ gamma*error*A[d-1,:]\n",
    "    return A,B"
   ]
  },
  {
   "cell_type": "code",
   "execution_count": 67,
   "metadata": {},
   "outputs": [
    {
     "data": {
      "text/html": [
       "<div>\n",
       "<style scoped>\n",
       "    .dataframe tbody tr th:only-of-type {\n",
       "        vertical-align: middle;\n",
       "    }\n",
       "\n",
       "    .dataframe tbody tr th {\n",
       "        vertical-align: top;\n",
       "    }\n",
       "\n",
       "    .dataframe thead th {\n",
       "        text-align: right;\n",
       "    }\n",
       "</style>\n",
       "<table border=\"1\" class=\"dataframe\">\n",
       "  <thead>\n",
       "    <tr style=\"text-align: right;\">\n",
       "      <th></th>\n",
       "      <th>Id</th>\n",
       "      <th>Prediction</th>\n",
       "      <th>row</th>\n",
       "      <th>col</th>\n",
       "    </tr>\n",
       "  </thead>\n",
       "  <tbody>\n",
       "    <tr>\n",
       "      <th>0</th>\n",
       "      <td>r44_c1</td>\n",
       "      <td>4</td>\n",
       "      <td>44</td>\n",
       "      <td>1</td>\n",
       "    </tr>\n",
       "    <tr>\n",
       "      <th>1</th>\n",
       "      <td>r61_c1</td>\n",
       "      <td>3</td>\n",
       "      <td>61</td>\n",
       "      <td>1</td>\n",
       "    </tr>\n",
       "    <tr>\n",
       "      <th>2</th>\n",
       "      <td>r67_c1</td>\n",
       "      <td>4</td>\n",
       "      <td>67</td>\n",
       "      <td>1</td>\n",
       "    </tr>\n",
       "    <tr>\n",
       "      <th>3</th>\n",
       "      <td>r72_c1</td>\n",
       "      <td>3</td>\n",
       "      <td>72</td>\n",
       "      <td>1</td>\n",
       "    </tr>\n",
       "    <tr>\n",
       "      <th>4</th>\n",
       "      <td>r86_c1</td>\n",
       "      <td>5</td>\n",
       "      <td>86</td>\n",
       "      <td>1</td>\n",
       "    </tr>\n",
       "  </tbody>\n",
       "</table>\n",
       "</div>"
      ],
      "text/plain": [
       "       Id  Prediction  row  col\n",
       "0  r44_c1           4   44    1\n",
       "1  r61_c1           3   61    1\n",
       "2  r67_c1           4   67    1\n",
       "3  r72_c1           3   72    1\n",
       "4  r86_c1           5   86    1"
      ]
     },
     "execution_count": 67,
     "metadata": {},
     "output_type": "execute_result"
    }
   ],
   "source": [
    "# We still have to solve the part where we randomly pick \n",
    "# the indices. For this, we'll use the original indices matrix\n",
    "data.head()"
   ]
  },
  {
   "cell_type": "code",
   "execution_count": 68,
   "metadata": {},
   "outputs": [],
   "source": [
    "def generate_indeces():\n",
    "    index = np.random.randint(0,data.shape[0])\n",
    "    sample = data.loc[index]\n",
    "    d = sample[\"row\"]\n",
    "    n = sample[\"col\"]\n",
    "    return d,n"
   ]
  },
  {
   "cell_type": "code",
   "execution_count": null,
   "metadata": {},
   "outputs": [],
   "source": [
    "# Initialise U and Z \n",
    "U = 0.1*np.random.randn(10000,k)\n",
    "Z = 0.1*np.random.randn(1000,k)"
   ]
  },
  {
   "cell_type": "code",
   "execution_count": 86,
   "metadata": {},
   "outputs": [],
   "source": [
    "# Now let's put it all together \n",
    "def stochastic_gradient_descent(X,U,Z,epochs,gamma):\n",
    "    for e in range(epochs):\n",
    "        error = cost(U,Z)\n",
    "        print(\"--------------- Epoch \",e,\" ---------------------\")\n",
    "        print(\"--- Initial error: \",error)\n",
    "        for o in range(1000):\n",
    "            d,n = generate_indeces()\n",
    "            U,Z = update(d,n,X,U,Z,gamma)\n",
    "            if o%100 == 0:\n",
    "                error = cost(U,Z)\n",
    "                print(\"Epoch \",e,\", iterate \",o,\", error \",error)\n",
    "        print(\"Epoch \",e,\", iterate \",o,\", error \",error)  \n",
    "    return U,Z\n",
    "    "
   ]
  },
  {
   "cell_type": "code",
   "execution_count": 74,
   "metadata": {},
   "outputs": [
    {
     "name": "stdout",
     "output_type": "stream",
     "text": [
      "--------------- Epoch  0  ---------------------\n",
      "--- Initial error:  8.070329420796087\n",
      "Epoch  0 , iterate  0 , error  8.070282913494157\n",
      "Epoch  0 , iterate  100 , error  8.06260197314513\n",
      "Epoch  0 , iterate  200 , error  8.043203728056021\n",
      "Epoch  0 , iterate  300 , error  7.997072566531665\n",
      "Epoch  0 , iterate  400 , error  7.898768645473882\n",
      "Epoch  0 , iterate  500 , error  7.688911709861439\n",
      "Epoch  0 , iterate  600 , error  7.293748828140556\n",
      "Epoch  0 , iterate  700 , error  6.548848945296184\n",
      "Epoch  0 , iterate  800 , error  5.352490871466803\n",
      "Epoch  0 , iterate  900 , error  3.7457186938382567\n",
      "Epoch  0 , iterate  1000 , error  2.0463225075438793\n",
      "Epoch  0 , iterate  1100 , error  1.1967444265720835\n",
      "Epoch  0 , iterate  1200 , error  0.8437171625865463\n",
      "Epoch  0 , iterate  1300 , error  0.7004772667853153\n",
      "Epoch  0 , iterate  1400 , error  0.6595653608976051\n",
      "Epoch  0 , iterate  1500 , error  0.661980861500193\n",
      "Epoch  0 , iterate  1600 , error  0.6623731692592132\n",
      "Epoch  0 , iterate  1700 , error  0.6640376897838601\n",
      "Epoch  0 , iterate  1800 , error  0.6593106714207522\n",
      "Epoch  0 , iterate  1900 , error  0.6688420839886318\n",
      "Epoch  0 , iterate  2000 , error  0.6602370775670554\n",
      "Epoch  0 , iterate  2100 , error  0.6631552353040515\n",
      "Epoch  0 , iterate  2200 , error  0.6591865637684685\n",
      "Epoch  0 , iterate  2300 , error  0.6660041272207318\n",
      "Epoch  0 , iterate  2400 , error  0.6624432117250394\n",
      "Epoch  0 , iterate  2500 , error  0.6604435706002938\n",
      "Epoch  0 , iterate  2600 , error  0.6637399118829103\n",
      "Epoch  0 , iterate  2700 , error  0.6591324659918002\n",
      "Epoch  0 , iterate  2800 , error  0.6629712374213574\n",
      "Epoch  0 , iterate  2900 , error  0.666402945659128\n",
      "Epoch  0 , iterate  3000 , error  0.6620491803110097\n",
      "Epoch  0 , iterate  3100 , error  0.6606618001897887\n",
      "Epoch  0 , iterate  3200 , error  0.6709397909398839\n",
      "Epoch  0 , iterate  3300 , error  0.6602079343092602\n",
      "Epoch  0 , iterate  3400 , error  0.6642047517581626\n",
      "Epoch  0 , iterate  3500 , error  0.6619667008069081\n",
      "Epoch  0 , iterate  3600 , error  0.6621716928856352\n",
      "Epoch  0 , iterate  3700 , error  0.6593593714560315\n",
      "Epoch  0 , iterate  3800 , error  0.658686533952552\n",
      "Epoch  0 , iterate  3900 , error  0.6589429808762266\n",
      "Epoch  0 , iterate  4000 , error  0.6588882204769552\n",
      "Epoch  0 , iterate  4100 , error  0.6593101709864174\n",
      "Epoch  0 , iterate  4200 , error  0.6585744962385932\n",
      "Epoch  0 , iterate  4300 , error  0.6707449625642002\n",
      "Epoch  0 , iterate  4400 , error  0.6619570772731777\n",
      "Epoch  0 , iterate  4500 , error  0.6637466439001537\n",
      "Epoch  0 , iterate  4600 , error  0.6585367380436276\n",
      "Epoch  0 , iterate  4700 , error  0.6603904643576577\n",
      "Epoch  0 , iterate  4800 , error  0.6586354917468382\n",
      "Epoch  0 , iterate  4900 , error  0.6599346784091982\n",
      "Epoch  0 , iterate  4999 , error  0.6599346784091982\n"
     ]
    }
   ],
   "source": [
    "# run with gamma = 0.001\n",
    "epochs = 5\n",
    "gamma = 0.001\n",
    "U,Z = stochastic_gradient_descent(X)"
   ]
  },
  {
   "cell_type": "code",
   "execution_count": 87,
   "metadata": {},
   "outputs": [
    {
     "name": "stdout",
     "output_type": "stream",
     "text": [
      "--------------- Epoch  0  ---------------------\n",
      "--- Initial error:  0.6595405048837962\n",
      "Epoch  0 , iterate  0 , error  0.6595781552751231\n",
      "Epoch  0 , iterate  100 , error  0.6594067828759727\n",
      "Epoch  0 , iterate  200 , error  0.6586754948998046\n",
      "Epoch  0 , iterate  300 , error  0.6586563408211114\n",
      "Epoch  0 , iterate  400 , error  0.6588296816004547\n",
      "Epoch  0 , iterate  500 , error  0.6589794316585669\n",
      "Epoch  0 , iterate  600 , error  0.6588342392207169\n",
      "Epoch  0 , iterate  700 , error  0.6587179744134406\n",
      "Epoch  0 , iterate  800 , error  0.6590383248780912\n",
      "Epoch  0 , iterate  900 , error  0.6590752011737087\n",
      "Epoch  0 , iterate  999 , error  0.6590752011737087\n",
      "--------------- Epoch  1  ---------------------\n",
      "--- Initial error:  0.6599748032904387\n",
      "Epoch  1 , iterate  0 , error  0.6598719221091484\n",
      "Epoch  1 , iterate  100 , error  0.6606204741498621\n",
      "Epoch  1 , iterate  200 , error  0.6607868831509838\n",
      "Epoch  1 , iterate  300 , error  0.6613533914156355\n",
      "Epoch  1 , iterate  400 , error  0.6609472962869345\n",
      "Epoch  1 , iterate  500 , error  0.660311021915762\n",
      "Epoch  1 , iterate  600 , error  0.6589478512140149\n",
      "Epoch  1 , iterate  700 , error  0.6587875726879513\n",
      "Epoch  1 , iterate  800 , error  0.6584090699263675\n",
      "Epoch  1 , iterate  900 , error  0.6583484077675319\n",
      "Epoch  1 , iterate  999 , error  0.6583484077675319\n",
      "--------------- Epoch  2  ---------------------\n",
      "--- Initial error:  0.6582183189188806\n",
      "Epoch  2 , iterate  0 , error  0.6582054078693107\n",
      "Epoch  2 , iterate  100 , error  0.6582014774071082\n",
      "Epoch  2 , iterate  200 , error  0.6582239564741197\n",
      "Epoch  2 , iterate  300 , error  0.658275149078436\n",
      "Epoch  2 , iterate  400 , error  0.6582615837622117\n",
      "Epoch  2 , iterate  500 , error  0.658382948205036\n",
      "Epoch  2 , iterate  600 , error  0.6581560353748667\n",
      "Epoch  2 , iterate  700 , error  0.6582863674684286\n",
      "Epoch  2 , iterate  800 , error  0.65818971525957\n",
      "Epoch  2 , iterate  900 , error  0.658218811090352\n",
      "Epoch  2 , iterate  999 , error  0.658218811090352\n",
      "--------------- Epoch  3  ---------------------\n",
      "--- Initial error:  0.6582202196668605\n",
      "Epoch  3 , iterate  0 , error  0.6582296742340779\n",
      "Epoch  3 , iterate  100 , error  0.6581608980663123\n",
      "Epoch  3 , iterate  200 , error  0.658153625069037\n",
      "Epoch  3 , iterate  300 , error  0.6581247298734874\n",
      "Epoch  3 , iterate  400 , error  0.6581513161112436\n",
      "Epoch  3 , iterate  500 , error  0.6581822753799396\n",
      "Epoch  3 , iterate  600 , error  0.6582163489270517\n",
      "Epoch  3 , iterate  700 , error  0.6582715229218842\n",
      "Epoch  3 , iterate  800 , error  0.658320042507811\n",
      "Epoch  3 , iterate  900 , error  0.6582946003735709\n",
      "Epoch  3 , iterate  999 , error  0.6582946003735709\n",
      "--------------- Epoch  4  ---------------------\n",
      "--- Initial error:  0.6583307017870603\n",
      "Epoch  4 , iterate  0 , error  0.658315899324863\n",
      "Epoch  4 , iterate  100 , error  0.6582724628335542\n",
      "Epoch  4 , iterate  200 , error  0.6584237539043423\n",
      "Epoch  4 , iterate  300 , error  0.6582619783518554\n",
      "Epoch  4 , iterate  400 , error  0.6583045637699656\n",
      "Epoch  4 , iterate  500 , error  0.6582329752510637\n",
      "Epoch  4 , iterate  600 , error  0.6585663371345103\n",
      "Epoch  4 , iterate  700 , error  0.658908281890048\n",
      "Epoch  4 , iterate  800 , error  0.6589344647729665\n",
      "Epoch  4 , iterate  900 , error  0.658430086985187\n",
      "Epoch  4 , iterate  999 , error  0.658430086985187\n"
     ]
    }
   ],
   "source": [
    "# we run it again, with a smaller gamma, for a longer time \n",
    "epochs = 5\n",
    "gamma = 0.0001\n",
    "U2, Z2 = stochastic_gradient_descent(X,U,Z,epochs,gamma)"
   ]
  },
  {
   "cell_type": "code",
   "execution_count": 88,
   "metadata": {},
   "outputs": [
    {
     "name": "stdout",
     "output_type": "stream",
     "text": [
      "--------------- Epoch  0  ---------------------\n",
      "--- Initial error:  0.6581870651651802\n",
      "Epoch  0 , iterate  0 , error  0.6581777756080148\n",
      "Epoch  0 , iterate  100 , error  0.6582288719053\n",
      "Epoch  0 , iterate  200 , error  0.6582330825446215\n",
      "Epoch  0 , iterate  300 , error  0.658104093082451\n",
      "Epoch  0 , iterate  400 , error  0.6582141074189061\n",
      "Epoch  0 , iterate  500 , error  0.6582684841493978\n",
      "Epoch  0 , iterate  600 , error  0.6583235071713258\n",
      "Epoch  0 , iterate  700 , error  0.6584063992968587\n",
      "Epoch  0 , iterate  800 , error  0.6581591353316334\n",
      "Epoch  0 , iterate  900 , error  0.6581772455455587\n",
      "Epoch  0 , iterate  999 , error  0.6581772455455587\n",
      "--------------- Epoch  1  ---------------------\n",
      "--- Initial error:  0.6581435191236014\n",
      "Epoch  1 , iterate  0 , error  0.6581165698848906\n",
      "Epoch  1 , iterate  100 , error  0.6582205408935811\n",
      "Epoch  1 , iterate  200 , error  0.6582654730336821\n",
      "Epoch  1 , iterate  300 , error  0.658093786570533\n",
      "Epoch  1 , iterate  400 , error  0.6582642627736723\n",
      "Epoch  1 , iterate  500 , error  0.6581965719583379\n",
      "Epoch  1 , iterate  600 , error  0.6582831691906759\n",
      "Epoch  1 , iterate  700 , error  0.6581203136229892\n",
      "Epoch  1 , iterate  800 , error  0.6581097295750771\n",
      "Epoch  1 , iterate  900 , error  0.6580131453450224\n",
      "Epoch  1 , iterate  999 , error  0.6580131453450224\n",
      "--------------- Epoch  2  ---------------------\n",
      "--- Initial error:  0.6580279034151122\n",
      "Epoch  2 , iterate  0 , error  0.6580268217981784\n",
      "Epoch  2 , iterate  100 , error  0.6584470397260174\n",
      "Epoch  2 , iterate  200 , error  0.6582271720779937\n",
      "Epoch  2 , iterate  300 , error  0.6582281255602807\n",
      "Epoch  2 , iterate  400 , error  0.6580886788958432\n",
      "Epoch  2 , iterate  500 , error  0.6582865203018418\n",
      "Epoch  2 , iterate  600 , error  0.6585590574082723\n",
      "Epoch  2 , iterate  700 , error  0.6592867003507142\n",
      "Epoch  2 , iterate  800 , error  0.6591376028212526\n",
      "Epoch  2 , iterate  900 , error  0.6586054131906612\n",
      "Epoch  2 , iterate  999 , error  0.6586054131906612\n",
      "--------------- Epoch  3  ---------------------\n",
      "--- Initial error:  0.6584645321263565\n",
      "Epoch  3 , iterate  0 , error  0.6585163859001623\n",
      "Epoch  3 , iterate  100 , error  0.6583140097103399\n",
      "Epoch  3 , iterate  200 , error  0.6587156290864299\n",
      "Epoch  3 , iterate  300 , error  0.6587833965467388\n",
      "Epoch  3 , iterate  400 , error  0.6589805064592426\n",
      "Epoch  3 , iterate  500 , error  0.6590027457196318\n",
      "Epoch  3 , iterate  600 , error  0.6585777710465331\n",
      "Epoch  3 , iterate  700 , error  0.6580111269770865\n",
      "Epoch  3 , iterate  800 , error  0.658672184724306\n",
      "Epoch  3 , iterate  900 , error  0.6582823602480072\n",
      "Epoch  3 , iterate  999 , error  0.6582823602480072\n",
      "--------------- Epoch  4  ---------------------\n",
      "--- Initial error:  0.6580629548615544\n",
      "Epoch  4 , iterate  0 , error  0.6580796222339721\n",
      "Epoch  4 , iterate  100 , error  0.6579721359060341\n",
      "Epoch  4 , iterate  200 , error  0.6580304279712664\n",
      "Epoch  4 , iterate  300 , error  0.6579924853953443\n",
      "Epoch  4 , iterate  400 , error  0.6579439649482199\n",
      "Epoch  4 , iterate  500 , error  0.6579459605989243\n",
      "Epoch  4 , iterate  600 , error  0.6579246593184531\n",
      "Epoch  4 , iterate  700 , error  0.6579641560035118\n",
      "Epoch  4 , iterate  800 , error  0.6579167092229253\n",
      "Epoch  4 , iterate  900 , error  0.6579146597854204\n",
      "Epoch  4 , iterate  999 , error  0.6579146597854204\n"
     ]
    }
   ],
   "source": [
    "# we run it again, with a smaller gamma, for a longer time \n",
    "epochs = 5\n",
    "gamma = 0.0001\n",
    "U3, Z3 = stochastic_gradient_descent(X,U2,Z2,epochs,gamma)"
   ]
  },
  {
   "cell_type": "code",
   "execution_count": 98,
   "metadata": {},
   "outputs": [
    {
     "name": "stdout",
     "output_type": "stream",
     "text": [
      "--------------- Epoch  0  ---------------------\n",
      "--- Initial error:  0.6579070277069473\n",
      "Epoch  0 , iterate  0 , error  0.6579076724139062\n",
      "Epoch  0 , iterate  100 , error  0.6579143745159357\n",
      "Epoch  0 , iterate  200 , error  0.6596843282806821\n",
      "Epoch  0 , iterate  300 , error  0.6582280476956198\n",
      "Epoch  0 , iterate  400 , error  0.657911842631518\n",
      "Epoch  0 , iterate  500 , error  0.6581238384044894\n",
      "Epoch  0 , iterate  600 , error  0.6582232376437894\n",
      "Epoch  0 , iterate  700 , error  0.6583486138606096\n",
      "Epoch  0 , iterate  800 , error  0.6579582169802293\n",
      "Epoch  0 , iterate  900 , error  0.6599793338029392\n",
      "Epoch  0 , iterate  999 , error  0.6599793338029392\n",
      "--------------- Epoch  1  ---------------------\n",
      "--- Initial error:  0.661040397818933\n",
      "Epoch  1 , iterate  0 , error  0.6603262813966737\n",
      "Epoch  1 , iterate  100 , error  0.6590105956687904\n",
      "Epoch  1 , iterate  200 , error  0.6590091583662678\n",
      "Epoch  1 , iterate  300 , error  0.6578830678645021\n",
      "Epoch  1 , iterate  400 , error  0.6578291784203601\n",
      "Epoch  1 , iterate  500 , error  0.6576917832686009\n",
      "Epoch  1 , iterate  600 , error  0.6577199503927704\n",
      "Epoch  1 , iterate  700 , error  0.6577911132919495\n",
      "Epoch  1 , iterate  800 , error  0.6578389785348934\n",
      "Epoch  1 , iterate  900 , error  0.6590702057334678\n",
      "Epoch  1 , iterate  999 , error  0.6590702057334678\n",
      "--------------- Epoch  2  ---------------------\n",
      "--- Initial error:  0.6578815897473613\n",
      "Epoch  2 , iterate  0 , error  0.6580416221309173\n",
      "Epoch  2 , iterate  100 , error  0.6599589059224397\n",
      "Epoch  2 , iterate  200 , error  0.6576013662283756\n",
      "Epoch  2 , iterate  300 , error  0.6581249456996359\n",
      "Epoch  2 , iterate  400 , error  0.6576038350709664\n",
      "Epoch  2 , iterate  500 , error  0.6575881651330879\n",
      "Epoch  2 , iterate  600 , error  0.6583396179524146\n",
      "Epoch  2 , iterate  700 , error  0.6602988412585244\n",
      "Epoch  2 , iterate  800 , error  0.6600359313797677\n",
      "Epoch  2 , iterate  900 , error  0.6576213268488534\n",
      "Epoch  2 , iterate  999 , error  0.6576213268488534\n",
      "--------------- Epoch  3  ---------------------\n",
      "--- Initial error:  0.6574692581079492\n",
      "Epoch  3 , iterate  0 , error  0.6574687873399322\n",
      "Epoch  3 , iterate  100 , error  0.6578520464366431\n",
      "Epoch  3 , iterate  200 , error  0.6574742115362331\n",
      "Epoch  3 , iterate  300 , error  0.6613610410246232\n",
      "Epoch  3 , iterate  400 , error  0.6579450275987302\n",
      "Epoch  3 , iterate  500 , error  0.6607852085644906\n",
      "Epoch  3 , iterate  600 , error  0.6594079018727994\n",
      "Epoch  3 , iterate  700 , error  0.6573680481468568\n",
      "Epoch  3 , iterate  800 , error  0.6583175141361214\n",
      "Epoch  3 , iterate  900 , error  0.6596020155606797\n",
      "Epoch  3 , iterate  999 , error  0.6596020155606797\n",
      "--------------- Epoch  4  ---------------------\n",
      "--- Initial error:  0.6575827345740708\n",
      "Epoch  4 , iterate  0 , error  0.657455730376029\n",
      "Epoch  4 , iterate  100 , error  0.6591574262587275\n",
      "Epoch  4 , iterate  200 , error  0.6586247412290688\n",
      "Epoch  4 , iterate  300 , error  0.6580387698866762\n",
      "Epoch  4 , iterate  400 , error  0.6599909372911473\n",
      "Epoch  4 , iterate  500 , error  0.6572201732365965\n",
      "Epoch  4 , iterate  600 , error  0.65726752130362\n",
      "Epoch  4 , iterate  700 , error  0.6572720792777406\n",
      "Epoch  4 , iterate  800 , error  0.6572163233206982\n",
      "Epoch  4 , iterate  900 , error  0.657393768690879\n",
      "Epoch  4 , iterate  999 , error  0.657393768690879\n"
     ]
    }
   ],
   "source": [
    "# we run it again, this time with a bigger gamma, for the same time \n",
    "epochs = 5\n",
    "gamma = 0.0005\n",
    "U4, Z4 = stochastic_gradient_descent(X,U3,Z3,epochs,gamma)"
   ]
  },
  {
   "cell_type": "code",
   "execution_count": 100,
   "metadata": {},
   "outputs": [
    {
     "name": "stdout",
     "output_type": "stream",
     "text": [
      "--------------- Epoch  0  ---------------------\n",
      "--- Initial error:  0.6579221514643193\n",
      "Epoch  0 , iterate  0 , error  0.658038896109861\n",
      "Epoch  0 , iterate  100 , error  0.6571218550090772\n",
      "Epoch  0 , iterate  200 , error  0.6595341095709008\n",
      "Epoch  0 , iterate  300 , error  0.6595528977926739\n",
      "Epoch  0 , iterate  400 , error  0.6571915101644487\n",
      "Epoch  0 , iterate  500 , error  0.6577200182908389\n",
      "Epoch  0 , iterate  600 , error  0.6579176079094893\n",
      "Epoch  0 , iterate  700 , error  0.6574521522760255\n",
      "Epoch  0 , iterate  800 , error  0.6613834983761248\n",
      "Epoch  0 , iterate  900 , error  0.6597383428093894\n",
      "Epoch  0 , iterate  999 , error  0.6597383428093894\n",
      "--------------- Epoch  1  ---------------------\n",
      "--- Initial error:  0.6603087274832891\n",
      "Epoch  1 , iterate  0 , error  0.6611718226404374\n",
      "Epoch  1 , iterate  100 , error  0.6576790306260781\n",
      "Epoch  1 , iterate  200 , error  0.6572706246314117\n",
      "Epoch  1 , iterate  300 , error  0.6623249852602452\n",
      "Epoch  1 , iterate  400 , error  0.6570508232932006\n",
      "Epoch  1 , iterate  500 , error  0.6596304140240379\n",
      "Epoch  1 , iterate  600 , error  0.6614944017347676\n",
      "Epoch  1 , iterate  700 , error  0.6613151789495635\n",
      "Epoch  1 , iterate  800 , error  0.6581387859122981\n",
      "Epoch  1 , iterate  900 , error  0.6565372786866888\n",
      "Epoch  1 , iterate  999 , error  0.6565372786866888\n",
      "--------------- Epoch  2  ---------------------\n",
      "--- Initial error:  0.6755956035190711\n",
      "Epoch  2 , iterate  0 , error  0.6737053462130019\n",
      "Epoch  2 , iterate  100 , error  0.6580082244243473\n",
      "Epoch  2 , iterate  200 , error  0.6570403658476045\n",
      "Epoch  2 , iterate  300 , error  0.6575185813922574\n",
      "Epoch  2 , iterate  400 , error  0.6563622299540484\n",
      "Epoch  2 , iterate  500 , error  0.6573582030585587\n",
      "Epoch  2 , iterate  600 , error  0.6567542561408974\n",
      "Epoch  2 , iterate  700 , error  0.6737408298401966\n",
      "Epoch  2 , iterate  800 , error  0.6562031905114388\n",
      "Epoch  2 , iterate  900 , error  0.6576663235982626\n",
      "Epoch  2 , iterate  999 , error  0.6576663235982626\n",
      "--------------- Epoch  3  ---------------------\n",
      "--- Initial error:  0.6564764309442751\n",
      "Epoch  3 , iterate  0 , error  0.6562937302345447\n",
      "Epoch  3 , iterate  100 , error  0.6637070030512963\n",
      "Epoch  3 , iterate  200 , error  0.6726038374692282\n",
      "Epoch  3 , iterate  300 , error  0.6562985888946749\n",
      "Epoch  3 , iterate  400 , error  0.6570648857543921\n",
      "Epoch  3 , iterate  500 , error  0.6569102708392466\n",
      "Epoch  3 , iterate  600 , error  0.6601604738810486\n",
      "Epoch  3 , iterate  700 , error  0.6560034178009212\n",
      "Epoch  3 , iterate  800 , error  0.6593108733527883\n",
      "Epoch  3 , iterate  900 , error  0.6568382793814362\n",
      "Epoch  3 , iterate  999 , error  0.6568382793814362\n",
      "--------------- Epoch  4  ---------------------\n",
      "--- Initial error:  0.6559668661410861\n",
      "Epoch  4 , iterate  0 , error  0.6559611192530984\n",
      "Epoch  4 , iterate  100 , error  0.6560242307386929\n",
      "Epoch  4 , iterate  200 , error  0.656138842819316\n",
      "Epoch  4 , iterate  300 , error  0.6569766449519954\n",
      "Epoch  4 , iterate  400 , error  0.6586587414541886\n",
      "Epoch  4 , iterate  500 , error  0.6558865156835697\n",
      "Epoch  4 , iterate  600 , error  0.6562882997745152\n",
      "Epoch  4 , iterate  700 , error  0.6561416813462464\n",
      "Epoch  4 , iterate  800 , error  0.665650535161604\n",
      "Epoch  4 , iterate  900 , error  0.6625795649274624\n",
      "Epoch  4 , iterate  999 , error  0.6625795649274624\n"
     ]
    }
   ],
   "source": [
    "# we run it again, this time with a bigger gamma, for the same time \n",
    "epochs = 5\n",
    "gamma = 0.001\n",
    "U5, Z5= stochastic_gradient_descent(X,U4,Z4,epochs,gamma)"
   ]
  },
  {
   "cell_type": "code",
   "execution_count": 99,
   "metadata": {},
   "outputs": [],
   "source": [
    "# Completing the matrix X with the factorized version U*Z\n",
    "completed = U4.dot(Z4.T)"
   ]
  },
  {
   "cell_type": "markdown",
   "metadata": {},
   "source": [
    "# Remember to save"
   ]
  },
  {
   "cell_type": "code",
   "execution_count": 64,
   "metadata": {},
   "outputs": [],
   "source": [
    " X.to_csv(\"matrix.csv\")"
   ]
  },
  {
   "cell_type": "code",
   "execution_count": 91,
   "metadata": {},
   "outputs": [
    {
     "data": {
      "text/html": [
       "<div>\n",
       "<style scoped>\n",
       "    .dataframe tbody tr th:only-of-type {\n",
       "        vertical-align: middle;\n",
       "    }\n",
       "\n",
       "    .dataframe tbody tr th {\n",
       "        vertical-align: top;\n",
       "    }\n",
       "\n",
       "    .dataframe thead th {\n",
       "        text-align: right;\n",
       "    }\n",
       "</style>\n",
       "<table border=\"1\" class=\"dataframe\">\n",
       "  <thead>\n",
       "    <tr style=\"text-align: right;\">\n",
       "      <th></th>\n",
       "      <th>1</th>\n",
       "      <th>2</th>\n",
       "      <th>3</th>\n",
       "      <th>4</th>\n",
       "      <th>5</th>\n",
       "      <th>6</th>\n",
       "      <th>7</th>\n",
       "      <th>8</th>\n",
       "      <th>9</th>\n",
       "      <th>10</th>\n",
       "      <th>...</th>\n",
       "      <th>991</th>\n",
       "      <th>992</th>\n",
       "      <th>993</th>\n",
       "      <th>994</th>\n",
       "      <th>995</th>\n",
       "      <th>996</th>\n",
       "      <th>997</th>\n",
       "      <th>998</th>\n",
       "      <th>999</th>\n",
       "      <th>1000</th>\n",
       "    </tr>\n",
       "  </thead>\n",
       "  <tbody>\n",
       "    <tr>\n",
       "      <th>44</th>\n",
       "      <td>4.563736</td>\n",
       "      <td>3.741196</td>\n",
       "      <td>3.771147</td>\n",
       "      <td>4.158151</td>\n",
       "      <td>4.201784</td>\n",
       "      <td>4.613622</td>\n",
       "      <td>4.062889</td>\n",
       "      <td>4.187085</td>\n",
       "      <td>4.206585</td>\n",
       "      <td>4.442228</td>\n",
       "      <td>...</td>\n",
       "      <td>4.235842</td>\n",
       "      <td>3.794160</td>\n",
       "      <td>4.146881</td>\n",
       "      <td>4.274104</td>\n",
       "      <td>4.255629</td>\n",
       "      <td>4.108252</td>\n",
       "      <td>4.246185</td>\n",
       "      <td>4.220075</td>\n",
       "      <td>3.975903</td>\n",
       "      <td>4.253765</td>\n",
       "    </tr>\n",
       "    <tr>\n",
       "      <th>61</th>\n",
       "      <td>4.411763</td>\n",
       "      <td>3.845903</td>\n",
       "      <td>3.965030</td>\n",
       "      <td>4.138996</td>\n",
       "      <td>4.304614</td>\n",
       "      <td>4.455227</td>\n",
       "      <td>4.221584</td>\n",
       "      <td>4.114344</td>\n",
       "      <td>4.013472</td>\n",
       "      <td>4.428195</td>\n",
       "      <td>...</td>\n",
       "      <td>4.388418</td>\n",
       "      <td>4.132745</td>\n",
       "      <td>4.216962</td>\n",
       "      <td>4.290299</td>\n",
       "      <td>4.261546</td>\n",
       "      <td>4.180392</td>\n",
       "      <td>4.321260</td>\n",
       "      <td>4.165140</td>\n",
       "      <td>3.930046</td>\n",
       "      <td>4.040173</td>\n",
       "    </tr>\n",
       "    <tr>\n",
       "      <th>67</th>\n",
       "      <td>4.423566</td>\n",
       "      <td>3.783939</td>\n",
       "      <td>3.784076</td>\n",
       "      <td>4.009504</td>\n",
       "      <td>4.202390</td>\n",
       "      <td>4.309046</td>\n",
       "      <td>4.174735</td>\n",
       "      <td>4.051049</td>\n",
       "      <td>3.918190</td>\n",
       "      <td>4.482734</td>\n",
       "      <td>...</td>\n",
       "      <td>4.081868</td>\n",
       "      <td>3.889046</td>\n",
       "      <td>4.038174</td>\n",
       "      <td>4.030824</td>\n",
       "      <td>4.240599</td>\n",
       "      <td>4.033240</td>\n",
       "      <td>4.133848</td>\n",
       "      <td>4.067195</td>\n",
       "      <td>3.943926</td>\n",
       "      <td>4.122645</td>\n",
       "    </tr>\n",
       "    <tr>\n",
       "      <th>72</th>\n",
       "      <td>4.462344</td>\n",
       "      <td>4.025768</td>\n",
       "      <td>3.722808</td>\n",
       "      <td>4.135230</td>\n",
       "      <td>4.259163</td>\n",
       "      <td>4.309456</td>\n",
       "      <td>4.202192</td>\n",
       "      <td>3.974448</td>\n",
       "      <td>4.005771</td>\n",
       "      <td>4.404364</td>\n",
       "      <td>...</td>\n",
       "      <td>3.945642</td>\n",
       "      <td>3.914383</td>\n",
       "      <td>4.085443</td>\n",
       "      <td>4.210444</td>\n",
       "      <td>4.115034</td>\n",
       "      <td>3.961138</td>\n",
       "      <td>4.002790</td>\n",
       "      <td>4.171902</td>\n",
       "      <td>3.922188</td>\n",
       "      <td>4.228494</td>\n",
       "    </tr>\n",
       "    <tr>\n",
       "      <th>86</th>\n",
       "      <td>4.208900</td>\n",
       "      <td>3.630612</td>\n",
       "      <td>3.505327</td>\n",
       "      <td>3.612157</td>\n",
       "      <td>3.860906</td>\n",
       "      <td>4.094545</td>\n",
       "      <td>3.915693</td>\n",
       "      <td>3.836708</td>\n",
       "      <td>3.928660</td>\n",
       "      <td>4.082280</td>\n",
       "      <td>...</td>\n",
       "      <td>3.827751</td>\n",
       "      <td>3.580238</td>\n",
       "      <td>3.700839</td>\n",
       "      <td>3.542575</td>\n",
       "      <td>3.924400</td>\n",
       "      <td>3.597302</td>\n",
       "      <td>3.671745</td>\n",
       "      <td>3.750344</td>\n",
       "      <td>3.854041</td>\n",
       "      <td>3.799512</td>\n",
       "    </tr>\n",
       "  </tbody>\n",
       "</table>\n",
       "<p>5 rows × 1000 columns</p>\n",
       "</div>"
      ],
      "text/plain": [
       "        1         2         3         4         5         6         7     \\\n",
       "44  4.563736  3.741196  3.771147  4.158151  4.201784  4.613622  4.062889   \n",
       "61  4.411763  3.845903  3.965030  4.138996  4.304614  4.455227  4.221584   \n",
       "67  4.423566  3.783939  3.784076  4.009504  4.202390  4.309046  4.174735   \n",
       "72  4.462344  4.025768  3.722808  4.135230  4.259163  4.309456  4.202192   \n",
       "86  4.208900  3.630612  3.505327  3.612157  3.860906  4.094545  3.915693   \n",
       "\n",
       "        8         9         10    ...      991       992       993       994   \\\n",
       "44  4.187085  4.206585  4.442228  ...  4.235842  3.794160  4.146881  4.274104   \n",
       "61  4.114344  4.013472  4.428195  ...  4.388418  4.132745  4.216962  4.290299   \n",
       "67  4.051049  3.918190  4.482734  ...  4.081868  3.889046  4.038174  4.030824   \n",
       "72  3.974448  4.005771  4.404364  ...  3.945642  3.914383  4.085443  4.210444   \n",
       "86  3.836708  3.928660  4.082280  ...  3.827751  3.580238  3.700839  3.542575   \n",
       "\n",
       "        995       996       997       998       999       1000  \n",
       "44  4.255629  4.108252  4.246185  4.220075  3.975903  4.253765  \n",
       "61  4.261546  4.180392  4.321260  4.165140  3.930046  4.040173  \n",
       "67  4.240599  4.033240  4.133848  4.067195  3.943926  4.122645  \n",
       "72  4.115034  3.961138  4.002790  4.171902  3.922188  4.228494  \n",
       "86  3.924400  3.597302  3.671745  3.750344  3.854041  3.799512  \n",
       "\n",
       "[5 rows x 1000 columns]"
      ]
     },
     "execution_count": 91,
     "metadata": {},
     "output_type": "execute_result"
    }
   ],
   "source": [
    "X_rec = pd.DataFrame(completed)\n",
    "X_rec = X_rec.set_index(X.index)\n",
    "X_rec.columns = X.columns\n",
    "X_rec.head(5)"
   ]
  },
  {
   "cell_type": "code",
   "execution_count": 95,
   "metadata": {},
   "outputs": [
    {
     "data": {
      "text/html": [
       "<div>\n",
       "<style scoped>\n",
       "    .dataframe tbody tr th:only-of-type {\n",
       "        vertical-align: middle;\n",
       "    }\n",
       "\n",
       "    .dataframe tbody tr th {\n",
       "        vertical-align: top;\n",
       "    }\n",
       "\n",
       "    .dataframe thead th {\n",
       "        text-align: right;\n",
       "    }\n",
       "</style>\n",
       "<table border=\"1\" class=\"dataframe\">\n",
       "  <thead>\n",
       "    <tr style=\"text-align: right;\">\n",
       "      <th></th>\n",
       "      <th>Id</th>\n",
       "      <th>Prediction</th>\n",
       "      <th>row</th>\n",
       "      <th>col</th>\n",
       "      <th>True_pred</th>\n",
       "    </tr>\n",
       "  </thead>\n",
       "  <tbody>\n",
       "    <tr>\n",
       "      <th>0</th>\n",
       "      <td>r37_c1</td>\n",
       "      <td>3</td>\n",
       "      <td>37</td>\n",
       "      <td>1</td>\n",
       "      <td>4.200288</td>\n",
       "    </tr>\n",
       "    <tr>\n",
       "      <th>1</th>\n",
       "      <td>r73_c1</td>\n",
       "      <td>3</td>\n",
       "      <td>73</td>\n",
       "      <td>1</td>\n",
       "      <td>4.675035</td>\n",
       "    </tr>\n",
       "    <tr>\n",
       "      <th>2</th>\n",
       "      <td>r156_c1</td>\n",
       "      <td>3</td>\n",
       "      <td>156</td>\n",
       "      <td>1</td>\n",
       "      <td>4.346989</td>\n",
       "    </tr>\n",
       "    <tr>\n",
       "      <th>3</th>\n",
       "      <td>r160_c1</td>\n",
       "      <td>3</td>\n",
       "      <td>160</td>\n",
       "      <td>1</td>\n",
       "      <td>4.171748</td>\n",
       "    </tr>\n",
       "    <tr>\n",
       "      <th>4</th>\n",
       "      <td>r248_c1</td>\n",
       "      <td>3</td>\n",
       "      <td>248</td>\n",
       "      <td>1</td>\n",
       "      <td>4.520813</td>\n",
       "    </tr>\n",
       "  </tbody>\n",
       "</table>\n",
       "</div>"
      ],
      "text/plain": [
       "        Id  Prediction  row  col  True_pred\n",
       "0   r37_c1           3   37    1   4.200288\n",
       "1   r73_c1           3   73    1   4.675035\n",
       "2  r156_c1           3  156    1   4.346989\n",
       "3  r160_c1           3  160    1   4.171748\n",
       "4  r248_c1           3  248    1   4.520813"
      ]
     },
     "execution_count": 95,
     "metadata": {},
     "output_type": "execute_result"
    }
   ],
   "source": [
    "subm[\"True_pred\"] = list(map(lambda r,c: X_rec.loc[r,c],subm[\"row\"],subm[\"col\"]))\n",
    "subm.head()"
   ]
  },
  {
   "cell_type": "code",
   "execution_count": 96,
   "metadata": {},
   "outputs": [
    {
     "data": {
      "text/html": [
       "<div>\n",
       "<style scoped>\n",
       "    .dataframe tbody tr th:only-of-type {\n",
       "        vertical-align: middle;\n",
       "    }\n",
       "\n",
       "    .dataframe tbody tr th {\n",
       "        vertical-align: top;\n",
       "    }\n",
       "\n",
       "    .dataframe thead th {\n",
       "        text-align: right;\n",
       "    }\n",
       "</style>\n",
       "<table border=\"1\" class=\"dataframe\">\n",
       "  <thead>\n",
       "    <tr style=\"text-align: right;\">\n",
       "      <th></th>\n",
       "      <th>Id</th>\n",
       "      <th>Prediction</th>\n",
       "    </tr>\n",
       "  </thead>\n",
       "  <tbody>\n",
       "    <tr>\n",
       "      <th>0</th>\n",
       "      <td>r37_c1</td>\n",
       "      <td>4.200288</td>\n",
       "    </tr>\n",
       "    <tr>\n",
       "      <th>1</th>\n",
       "      <td>r73_c1</td>\n",
       "      <td>4.675035</td>\n",
       "    </tr>\n",
       "    <tr>\n",
       "      <th>2</th>\n",
       "      <td>r156_c1</td>\n",
       "      <td>4.346989</td>\n",
       "    </tr>\n",
       "    <tr>\n",
       "      <th>3</th>\n",
       "      <td>r160_c1</td>\n",
       "      <td>4.171748</td>\n",
       "    </tr>\n",
       "    <tr>\n",
       "      <th>4</th>\n",
       "      <td>r248_c1</td>\n",
       "      <td>4.520813</td>\n",
       "    </tr>\n",
       "    <tr>\n",
       "      <th>...</th>\n",
       "      <td>...</td>\n",
       "      <td>...</td>\n",
       "    </tr>\n",
       "    <tr>\n",
       "      <th>1176947</th>\n",
       "      <td>r9974_c1000</td>\n",
       "      <td>4.057663</td>\n",
       "    </tr>\n",
       "    <tr>\n",
       "      <th>1176948</th>\n",
       "      <td>r9977_c1000</td>\n",
       "      <td>3.797008</td>\n",
       "    </tr>\n",
       "    <tr>\n",
       "      <th>1176949</th>\n",
       "      <td>r9978_c1000</td>\n",
       "      <td>3.509707</td>\n",
       "    </tr>\n",
       "    <tr>\n",
       "      <th>1176950</th>\n",
       "      <td>r9982_c1000</td>\n",
       "      <td>3.874927</td>\n",
       "    </tr>\n",
       "    <tr>\n",
       "      <th>1176951</th>\n",
       "      <td>r9996_c1000</td>\n",
       "      <td>4.062067</td>\n",
       "    </tr>\n",
       "  </tbody>\n",
       "</table>\n",
       "<p>1176952 rows × 2 columns</p>\n",
       "</div>"
      ],
      "text/plain": [
       "                  Id  Prediction\n",
       "0             r37_c1    4.200288\n",
       "1             r73_c1    4.675035\n",
       "2            r156_c1    4.346989\n",
       "3            r160_c1    4.171748\n",
       "4            r248_c1    4.520813\n",
       "...              ...         ...\n",
       "1176947  r9974_c1000    4.057663\n",
       "1176948  r9977_c1000    3.797008\n",
       "1176949  r9978_c1000    3.509707\n",
       "1176950  r9982_c1000    3.874927\n",
       "1176951  r9996_c1000    4.062067\n",
       "\n",
       "[1176952 rows x 2 columns]"
      ]
     },
     "execution_count": 96,
     "metadata": {},
     "output_type": "execute_result"
    }
   ],
   "source": [
    "new_sub = subm[[\"Id\",\"True_pred\"]]\n",
    "new_sub.columns = [\"Id\",\"Prediction\"]\n",
    "new_sub"
   ]
  },
  {
   "cell_type": "code",
   "execution_count": 97,
   "metadata": {},
   "outputs": [],
   "source": [
    "new_sub.to_csv(\"submission_completion.csv\",index=False)"
   ]
  },
  {
   "cell_type": "code",
   "execution_count": null,
   "metadata": {},
   "outputs": [],
   "source": []
  }
 ],
 "metadata": {
  "kernelspec": {
   "display_name": "Python 3",
   "language": "python",
   "name": "python3"
  },
  "language_info": {
   "codemirror_mode": {
    "name": "ipython",
    "version": 3
   },
   "file_extension": ".py",
   "mimetype": "text/x-python",
   "name": "python",
   "nbconvert_exporter": "python",
   "pygments_lexer": "ipython3",
   "version": "3.7.5"
  }
 },
 "nbformat": 4,
 "nbformat_minor": 2
}
