{
  "nbformat": 4,
  "nbformat_minor": 0,
  "metadata": {
    "colab": {
      "name": "Intro to quantum computing.ipynb",
      "provenance": [],
      "authorship_tag": "ABX9TyNBAhLSd8cXIjRFucb1B95j",
      "include_colab_link": true
    },
    "kernelspec": {
      "name": "python3",
      "display_name": "Python 3"
    }
  },
  "cells": [
    {
      "cell_type": "markdown",
      "metadata": {
        "id": "view-in-github",
        "colab_type": "text"
      },
      "source": [
        "<a href=\"https://colab.research.google.com/github/GiuliaLanzillotta/exercises/blob/master/Intro_to_quantum_computing.ipynb\" target=\"_parent\"><img src=\"https://colab.research.google.com/assets/colab-badge.svg\" alt=\"Open In Colab\"/></a>"
      ]
    },
    {
      "cell_type": "markdown",
      "metadata": {
        "id": "Lr83tVcEJBb5",
        "colab_type": "text"
      },
      "source": [
        "# Quantum machine learning \n",
        "Material from EdX course of University of Toronto : [link](https://courses.edx.org/courses/course-v1:University_of_TorontoX+UTQML101x+2T2019/course/) "
      ]
    },
    {
      "cell_type": "markdown",
      "metadata": {
        "id": "fdbJS3XtKAIG",
        "colab_type": "text"
      },
      "source": [
        "**Two quantum computing paradigms**: quantum annealing and gate-model quantum computing."
      ]
    },
    {
      "cell_type": "markdown",
      "metadata": {
        "id": "8S2poyG9I_vO",
        "colab_type": "text"
      },
      "source": [
        "### <font color='blue'>Frameworks</font>\n",
        "The gate-model paradigm has many options:\n",
        "- Rigetti Computing : Forest SDK \n",
        "- IBM Q : Qiskit.\n",
        "\n",
        "With quantum annealing, the de facto choice is the D-Wave Ocean suite."
      ]
    },
    {
      "cell_type": "code",
      "metadata": {
        "id": "_x-y2Psgejm5",
        "colab_type": "code",
        "colab": {}
      },
      "source": [
        "pip install qiskit-terra[visualization] "
      ],
      "execution_count": 0,
      "outputs": []
    },
    {
      "cell_type": "code",
      "metadata": {
        "id": "j8EKEnLQJArh",
        "colab_type": "code",
        "colab": {}
      },
      "source": [
        "pip install dwave-networkx dimod minorminer qiskit qiskit-aqua"
      ],
      "execution_count": 0,
      "outputs": []
    },
    {
      "cell_type": "code",
      "metadata": {
        "id": "LU0KgTONgdtu",
        "colab_type": "code",
        "colab": {}
      },
      "source": [
        "pip install qiskit-ibmq-provider"
      ],
      "execution_count": 0,
      "outputs": []
    },
    {
      "cell_type": "markdown",
      "metadata": {
        "id": "LPtc_c2Id5CK",
        "colab_type": "text"
      },
      "source": [
        "## <font color='green'> Simulating a coin tossing on a quantum computer</font>\n"
      ]
    },
    {
      "cell_type": "markdown",
      "metadata": {
        "id": "R3i-asUTeGfY",
        "colab_type": "text"
      },
      "source": [
        "We create a circuit of a single qubit and a single classical register where the results of the sampling (measurements) go."
      ]
    },
    {
      "cell_type": "code",
      "metadata": {
        "id": "wt9MbOdmJ7TD",
        "colab_type": "code",
        "colab": {}
      },
      "source": [
        "from qiskit import QuantumCircuit, ClassicalRegister, QuantumRegister\n",
        "from qiskit import execute\n",
        "from qiskit import BasicAer"
      ],
      "execution_count": 0,
      "outputs": []
    },
    {
      "cell_type": "code",
      "metadata": {
        "id": "j_yIxrBBeST3",
        "colab_type": "code",
        "colab": {}
      },
      "source": [
        "backend = BasicAer.get_backend(name=\"qasm_simulator\", hub=None)\n",
        "# NB: we are SIMULATING the behaviour of a quantum computer"
      ],
      "execution_count": 0,
      "outputs": []
    },
    {
      "cell_type": "markdown",
      "metadata": {
        "id": "CTwgs4MmhEbL",
        "colab_type": "text"
      },
      "source": [
        "Constructing the circuit"
      ]
    },
    {
      "cell_type": "code",
      "metadata": {
        "id": "HRvYeHquf7Ai",
        "colab_type": "code",
        "colab": {}
      },
      "source": [
        "q = QuantumRegister(1) #where the results of the simulation will be stored \n",
        "# NB: for this experiment we are operating with just one qubit"
      ],
      "execution_count": 0,
      "outputs": []
    },
    {
      "cell_type": "code",
      "metadata": {
        "id": "wnrumHJJgvsP",
        "colab_type": "code",
        "colab": {}
      },
      "source": [
        "c = ClassicalRegister(1)"
      ],
      "execution_count": 0,
      "outputs": []
    },
    {
      "cell_type": "code",
      "metadata": {
        "id": "bH9pY7XmgxmU",
        "colab_type": "code",
        "colab": {}
      },
      "source": [
        "circuit = QuantumCircuit(q,c)"
      ],
      "execution_count": 0,
      "outputs": []
    },
    {
      "cell_type": "markdown",
      "metadata": {
        "id": "Sp-4sz4PhIG8",
        "colab_type": "text"
      },
      "source": [
        "Executing"
      ]
    },
    {
      "cell_type": "code",
      "metadata": {
        "id": "0xHbglm_g67z",
        "colab_type": "code",
        "colab": {
          "base_uri": "https://localhost:8080/",
          "height": 35
        },
        "outputId": "35c65064-22b1-4d89-8454-c5ad8ef55998"
      },
      "source": [
        "job = execute(circuit, backend, shots=100)"
      ],
      "execution_count": 13,
      "outputs": [
        {
          "output_type": "stream",
          "text": [
            "No measurements in circuit \"circuit0\", classical register will remain all zeros.\n"
          ],
          "name": "stderr"
        }
      ]
    },
    {
      "cell_type": "code",
      "metadata": {
        "id": "ThEPQCDhhNsC",
        "colab_type": "code",
        "colab": {}
      },
      "source": [
        "result = job.result()"
      ],
      "execution_count": 0,
      "outputs": []
    },
    {
      "cell_type": "code",
      "metadata": {
        "id": "_BaIXTLMhStP",
        "colab_type": "code",
        "colab": {
          "base_uri": "https://localhost:8080/",
          "height": 35
        },
        "outputId": "e03f3958-aea0-47e5-91a5-13445aa757c6"
      },
      "source": [
        "result.get_counts()"
      ],
      "execution_count": 15,
      "outputs": [
        {
          "output_type": "execute_result",
          "data": {
            "text/plain": [
              "{'0': 100}"
            ]
          },
          "metadata": {
            "tags": []
          },
          "execution_count": 15
        }
      ]
    },
    {
      "cell_type": "markdown",
      "metadata": {
        "id": "VVx8gwrjhkvn",
        "colab_type": "text"
      },
      "source": [
        "Visualize the result"
      ]
    },
    {
      "cell_type": "code",
      "metadata": {
        "id": "yFrgtr4shVNs",
        "colab_type": "code",
        "colab": {}
      },
      "source": [
        "from qiskit.tools.visualization import plot_histogram, plot_bloch_multivector"
      ],
      "execution_count": 0,
      "outputs": []
    },
    {
      "cell_type": "code",
      "metadata": {
        "id": "1zDs9DBIhmXy",
        "colab_type": "code",
        "colab": {}
      },
      "source": [
        "backend_statevector = BasicAer.get_backend('statevector_simulator')"
      ],
      "execution_count": 0,
      "outputs": []
    },
    {
      "cell_type": "code",
      "metadata": {
        "id": "47dAuWtGhpne",
        "colab_type": "code",
        "colab": {}
      },
      "source": [
        "circuit = QuantumCircuit(q, c)"
      ],
      "execution_count": 0,
      "outputs": []
    },
    {
      "cell_type": "code",
      "metadata": {
        "id": "mKdu7DzphsoR",
        "colab_type": "code",
        "colab": {
          "base_uri": "https://localhost:8080/",
          "height": 35
        },
        "outputId": "eaa40041-4b33-4174-d1e2-c412fadbf3f1"
      },
      "source": [
        "circuit.i(q[0]) # identity gate"
      ],
      "execution_count": 20,
      "outputs": [
        {
          "output_type": "execute_result",
          "data": {
            "text/plain": [
              "<qiskit.circuit.instructionset.InstructionSet at 0x7efc1e090eb8>"
            ]
          },
          "metadata": {
            "tags": []
          },
          "execution_count": 20
        }
      ]
    },
    {
      "cell_type": "code",
      "metadata": {
        "id": "MuL-27nThxF-",
        "colab_type": "code",
        "colab": {
          "base_uri": "https://localhost:8080/",
          "height": 268
        },
        "outputId": "9ebf6c4e-ccd3-4fc0-b6cf-a8f7b0386fa8"
      },
      "source": [
        "job = execute(circuit, backend_statevector) # by default it executes 1024 shots\n",
        "plot_bloch_multivector(job.result().get_statevector(circuit))"
      ],
      "execution_count": 22,
      "outputs": [
        {
          "output_type": "execute_result",
          "data": {
            "image/png": "[encoded data removed]",
            "text/plain": [
              "<Figure size 288x288 with 1 Axes>"
            ]
          },
          "metadata": {
            "tags": []
          },
          "execution_count": 22
        }
      ]
    },
    {
      "cell_type": "markdown",
      "metadata": {
        "id": "gq4jAj1LiDbp",
        "colab_type": "text"
      },
      "source": [
        "Above is an handy representation of *pure quantum states*: a **Bloch sphere**. <br>\n",
        "The Bloch sphere representation uses the fact that combining (or multiplying) a quantum state by itself doesn't change it. We can exploit this by normalising the state setting its $l_2$ to 1. <br>\n",
        "This normalization reduces an otherwise 4-dimensional representation to 3 dimensions, which are represented in the Bloch sphere in an unusual way. \n",
        "\n"
      ]
    },
    {
      "cell_type": "code",
      "metadata": {
        "id": "eqTzm-iph6jn",
        "colab_type": "code",
        "colab": {}
      },
      "source": [
        ""
      ],
      "execution_count": 0,
      "outputs": []
    }
  ]
}