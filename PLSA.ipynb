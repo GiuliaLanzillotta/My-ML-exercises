{
  "nbformat": 4,
  "nbformat_minor": 0,
  "metadata": {
    "colab": {
      "name": "PLSA.ipynb",
      "provenance": [],
      "authorship_tag": "ABX9TyOT3mBL3Aw1B0bK0bTD8npf",
      "include_colab_link": true
    },
    "kernelspec": {
      "name": "python3",
      "display_name": "Python 3"
    },
    "accelerator": "GPU"
  },
  "cells": [
    {
      "cell_type": "markdown",
      "metadata": {
        "id": "view-in-github",
        "colab_type": "text"
      },
      "source": [
        "<a href=\"https://colab.research.google.com/github/GiuliaLanzillotta/exercises/blob/master/PLSA.ipynb\" target=\"_parent\"><img src=\"https://colab.research.google.com/assets/colab-badge.svg\" alt=\"Open In Colab\"/></a>"
      ]
    },
    {
      "cell_type": "code",
      "metadata": {
        "id": "fhh1qqPY1IVm",
        "colab_type": "code",
        "colab": {}
      },
      "source": [
        "import numpy as np\n",
        "import pandas as pd\n",
        "from sklearn.feature_extraction.text import CountVectorizer\n",
        "import scipy\n",
        "import math\n",
        "import matplotlib.pyplot as plt\n",
        "%matplotlib inline\n",
        "\n",
        "DEBUG = True"
      ],
      "execution_count": 0,
      "outputs": []
    },
    {
      "cell_type": "markdown",
      "metadata": {
        "id": "0jo7-owh2u5k",
        "colab_type": "text"
      },
      "source": [
        "# PLSA\n",
        "\n",
        "The paper : https://arxiv.org/ftp/arxiv/papers/1301/1301.6705.pdf\n",
        "\n",
        "> #### We will use **Probabilistic latent semantic analysis** to extract the topics from a corpus of documents. We'll use  a preprocessed dataset of documents from the Associated Press.\n",
        "\n",
        "\n",
        "\n",
        "\n",
        "Before diving into the code let's talk about the model we're using here. <br>The PLSA model is a probabilistic model over a corpus. It identifies *each document as a mixture of topics* (latent or unobserved variables), and *each topic as a multinomial distribution* over the words in the vocabulary. Below is a sketch of the model:\n",
        "$$ d \\rightarrow z \\rightarrow w $$\n",
        "where $d$ is a document in the corpus, $z$ is the latent variable topic and $w$ is the random variable word. \n",
        "<br>\n",
        "**The main drawback of this approach**? The inability to generalise to new documents, which derives from the fact that this model does not take into account a generative hypothesis for documents as well (look for LDA to see a complete generative model).\n",
        "<br>\n",
        "<br>\n",
        "Enough with the presentation, let's get started. \n"
      ]
    },
    {
      "cell_type": "markdown",
      "metadata": {
        "id": "dV41aL4EcPsm",
        "colab_type": "text"
      },
      "source": [
        "## Data loading and pre-processing "
      ]
    },
    {
      "cell_type": "code",
      "metadata": {
        "id": "Loy172BLcUR_",
        "colab_type": "code",
        "colab": {
          "base_uri": "https://localhost:8080/",
          "height": 35
        },
        "outputId": "c1c8195b-1826-4d2d-e18b-18c740824d21"
      },
      "source": [
        "# Note : I have uploaded the data on the hosted runtime, and un-packed it with the folliwing \n",
        "# commands. You need the data in your execution directory to be able to run these lines.\n",
        "!ls"
      ],
      "execution_count": 2,
      "outputs": [
        {
          "output_type": "stream",
          "text": [
            "associated-press  associated-press.tar\tsample_data\n"
          ],
          "name": "stdout"
        }
      ]
    },
    {
      "cell_type": "code",
      "metadata": {
        "id": "G6a32KkRcmjz",
        "colab_type": "code",
        "colab": {}
      },
      "source": [
        "! gunzip associated-press.tar.gz && tar -xvf associated-press.tar"
      ],
      "execution_count": 0,
      "outputs": []
    },
    {
      "cell_type": "code",
      "metadata": {
        "id": "n-Z412c3coJB",
        "colab_type": "code",
        "colab": {
          "base_uri": "https://localhost:8080/",
          "height": 52
        },
        "outputId": "096f6942-535d-4ac1-c8e1-6834c8ac39c0"
      },
      "source": [
        "!ls && ls associated-press"
      ],
      "execution_count": 4,
      "outputs": [
        {
          "output_type": "stream",
          "text": [
            "associated-press  associated-press.tar\tsample_data\n",
            "doc.dat  test.dat  train.dat  voc.dat\n"
          ],
          "name": "stdout"
        }
      ]
    },
    {
      "cell_type": "code",
      "metadata": {
        "id": "n4A0C8P4cskj",
        "colab_type": "code",
        "colab": {}
      },
      "source": [
        "# The data is organised it 4 different sets \n",
        "# We'll open the training set now\n",
        "train_docs = []\n",
        "with open(\"associated-press/train.dat\", 'r') as f:\n",
        "    for line in f.readlines():\n",
        "        train_docs.append(line)"
      ],
      "execution_count": 0,
      "outputs": []
    },
    {
      "cell_type": "code",
      "metadata": {
        "id": "bt57NMRsdGJQ",
        "colab_type": "code",
        "colab": {
          "base_uri": "https://localhost:8080/",
          "height": 55
        },
        "outputId": "d3b79f35-071d-4f80-ca59-85a2f84e6b5a"
      },
      "source": [
        "train_docs[1]"
      ],
      "execution_count": 4,
      "outputs": [
        {
          "output_type": "execute_result",
          "data": {
            "text/plain": [
              "'work posit reach reach peopl year thought million million million presid govern year year first percent state appear abl time billion told resid complet day develop made made made made wednesday wednesday jerusalem investig compani compani compani compani parti parti group group anonym effect financ payment make spokesman isra isra think assur rappaport rappaport rappaport rappaport rappaport rappaport rappaport construct foreign foreign foreign foreign offici offici offici offici offici offici offici offici public take gener septemb septemb believ polit partner ask spoke earlier go oil oil oil oil oil oil war minist minist sell promi say came deni deni man specif mention attorney attorney person relay offer sale sale submit inc idea friend friend put acknowledg speak improp vice israel israel thing border border ministri ministri ministri mee mee mee secret come iii think refer close close shimon possibl relat focu handl handl repr wrongdo project pere pere pere pere pere pere pere pere pere pere pere pere pere labor engin lead condit al press iraq iraq franciscoba indic offer offer offer offer offer offer offer offer offer mark robert point tom san san san knowledg e seriou propo refer crazi arrang fund discount consent keep portion concern termin third post minist bruce dispo town plan import receiv edwin swiss swiss nativ see iraqi iraqi bomb bomb propo thing say senior port pipelin pipelin pipelin pipelin pipelin telephon francisco francisco conduct directli sourc wallach wallach flynn answer wage bechtel bechtel bechtel bechtel bechtel bechtel bechtel run memo memo memo memo memo knew comment associ comment jordan jordan quot denounc discuss behalf built arrang israel israel israel israel israel israel\\n'"
            ]
          },
          "metadata": {
            "tags": []
          },
          "execution_count": 4
        }
      ]
    },
    {
      "cell_type": "code",
      "metadata": {
        "id": "oMXpL_vfdNMV",
        "colab_type": "code",
        "colab": {}
      },
      "source": [
        "# As we can see the text has already been pre-processed (tokenization, stemming)\n",
        "# Now we'll transform each dataset in a term-document matrix \n",
        "vectorizer = CountVectorizer(vocabulary=None)\n",
        "train_X = vectorizer.fit_transform(train_docs)\n",
        "# by defaul the Vectorizer builds a sparse matrix\n",
        "# being the dataset relatively small we can afford working \n",
        "# with the entire matrix in memory \n",
        "train_X = train_X.toarray()"
      ],
      "execution_count": 0,
      "outputs": []
    },
    {
      "cell_type": "code",
      "metadata": {
        "id": "PCvopEODdlwZ",
        "colab_type": "code",
        "colab": {
          "base_uri": "https://localhost:8080/",
          "height": 139
        },
        "outputId": "d088f3bd-5b68-4ece-a8f4-12e205956cc1"
      },
      "source": [
        "train_X"
      ],
      "execution_count": 6,
      "outputs": [
        {
          "output_type": "execute_result",
          "data": {
            "text/plain": [
              "array([[0, 0, 0, ..., 0, 0, 0],\n",
              "       [0, 0, 0, ..., 0, 0, 0],\n",
              "       [0, 0, 0, ..., 0, 0, 0],\n",
              "       ...,\n",
              "       [0, 0, 0, ..., 0, 0, 0],\n",
              "       [0, 0, 0, ..., 0, 0, 0],\n",
              "       [0, 0, 0, ..., 0, 0, 0]])"
            ]
          },
          "metadata": {
            "tags": []
          },
          "execution_count": 6
        }
      ]
    },
    {
      "cell_type": "code",
      "metadata": {
        "id": "Hv74dgpRdzxD",
        "colab_type": "code",
        "colab": {
          "base_uri": "https://localhost:8080/",
          "height": 35
        },
        "outputId": "8f2a0535-2d3a-4d12-b1e7-cffacdc4e6ad"
      },
      "source": [
        "# as you can see the matrix is very sparse \n",
        "train_X.shape"
      ],
      "execution_count": 7,
      "outputs": [
        {
          "output_type": "execute_result",
          "data": {
            "text/plain": [
              "(2000, 6756)"
            ]
          },
          "metadata": {
            "tags": []
          },
          "execution_count": 7
        }
      ]
    },
    {
      "cell_type": "code",
      "metadata": {
        "id": "pJQ_b828eZv2",
        "colab_type": "code",
        "colab": {
          "base_uri": "https://localhost:8080/",
          "height": 35
        },
        "outputId": "4f1fdc8b-60d1-4c44-e5e8-c7f5943fdaa9"
      },
      "source": [
        "total_entries = train_X.shape[0]*train_X.shape[0]\n",
        "observed_entries = sum(sum(train_X))\n",
        "sparseness_factor = observed_entries/total_entries\n",
        "sparseness_factor"
      ],
      "execution_count": 8,
      "outputs": [
        {
          "output_type": "execute_result",
          "data": {
            "text/plain": [
              "0.097353"
            ]
          },
          "metadata": {
            "tags": []
          },
          "execution_count": 8
        }
      ]
    },
    {
      "cell_type": "code",
      "metadata": {
        "id": "c24I9ABGece0",
        "colab_type": "code",
        "colab": {}
      },
      "source": [
        "n_docs = train_X.shape[0]\n",
        "n_terms = train_X.shape[1]"
      ],
      "execution_count": 0,
      "outputs": []
    },
    {
      "cell_type": "markdown",
      "metadata": {
        "id": "yFsyWVojfKgs",
        "colab_type": "text"
      },
      "source": [
        "## Model building "
      ]
    },
    {
      "cell_type": "markdown",
      "metadata": {
        "id": "a220AhUvfuKQ",
        "colab_type": "text"
      },
      "source": [
        "\n",
        "\n",
        "> One mln dollar question: how many topics will be covered in 2k documents from the associated press?\n",
        "\n"
      ]
    },
    {
      "cell_type": "code",
      "metadata": {
        "id": "HQS16OzkfFKe",
        "colab_type": "code",
        "colab": {}
      },
      "source": [
        "# The first, and also the hardest modeling choice to make here is the \n",
        "# number of topics, which must be known before-hand.\n",
        "# Of course, we can use cross-validation to sort out the best option,\n",
        "# but for the sake of the implementation we'll now set it to an \n",
        "# arbitrary constant. \n",
        "n_topics = 20"
      ],
      "execution_count": 0,
      "outputs": []
    },
    {
      "cell_type": "markdown",
      "metadata": {
        "id": "8RUTrlUlgY-s",
        "colab_type": "text"
      },
      "source": [
        "#### Here we initialise our model.\n",
        "\n",
        "<br> \n",
        "*Components*<br>\n",
        "The PLSA model is made of 3 matrices: $U$, $V$ and $Q$. \n",
        "<br>The matrix $U$ relates the documents to the topics: $u_{i}$ is the row vector that expresses the mixture components in the $i$-th document. Similarly, the matrix $V$ relates the words to the topics: $v_{j}$ is the row vector whose entries express the probability of the $j$-th word to have been generated by the relative topic. The underlying assumption is that each word has been generated by only one topic. Finally the matrix $Q$ contains the posterior probabilities for each topic: the entry $q_{ijz}$ expresses the probability that the $j$-th word in the $i$-th document belongs to the topic $z$.\n",
        "<br><br>\n",
        "*Constrants*<br>\n",
        "The initialisation of the matrices has to take into account the constraints that they have to satisfy. Each row of the above matrices must sum up to one and each entry must be non-negative, since the vectors in these matrices are probability vectors."
      ]
    },
    {
      "cell_type": "code",
      "metadata": {
        "id": "0ByBlxltfnE8",
        "colab_type": "code",
        "colab": {}
      },
      "source": [
        "def init(n_topics, n_docs, n_words):\n",
        "  U = np.random.rand(n_docs,n_topics)\n",
        "  V = np.random.rand(n_words, n_topics)\n",
        "  Q = np.random.rand(n_docs,n_words,n_topics)\n",
        "  # Constraint \n",
        "  U = U/np.sum(U,axis=1).reshape(-1,1)\n",
        "  V = V/np.sum(V,axis=1).reshape(-1,1)\n",
        "  Q = Q/np.sum(Q,axis=2).reshape(Q.shape[0],-1,1)\n",
        "  return U,V,Q"
      ],
      "execution_count": 0,
      "outputs": []
    },
    {
      "cell_type": "markdown",
      "metadata": {
        "id": "mqDnhlVvk1i0",
        "colab_type": "text"
      },
      "source": [
        "### EM Inference \n",
        "Implementing the **Expectation-Maximization** algorithm applied to PLSA. <br>\n",
        "We are using the Expectation-Maximization algo to maximize an otherwise intractable distribution. More specifically we are maximing the lower bound obtained via Jensen inequality."
      ]
    },
    {
      "cell_type": "markdown",
      "metadata": {
        "id": "Do8zNwALlNvB",
        "colab_type": "text"
      },
      "source": [
        "***Expectation step***<br>\n",
        "Here we update our posterior probabilities according to the current estimates for the matrices U and V. "
      ]
    },
    {
      "cell_type": "code",
      "metadata": {
        "id": "luOIiHXfktWs",
        "colab_type": "code",
        "colab": {}
      },
      "source": [
        "def compute_expectation(U,V,Q):\n",
        "  # a constant to avoid dividing by 0 \n",
        "  eps=1e-2\n",
        "  # update the matrix\n",
        "  Q = np.einsum('ik,jk -> ijk', U,V)\n",
        "  denominator = np.maximum(eps,np.einsum('ik,jk -> ij', U,V))\n",
        "  Q = Q/denominator.reshape(Q.shape[0],-1,1)\n",
        "  # check simplex constraint\n",
        "  assert np.all(np.einsum('ijk -> ij', Q) - 1 < eps), \"The entries do not sum up to 1\"\n",
        "  # check the non-negativity constraint\n",
        "  assert np.any(Q<0) == False, \"There are negative entries\"\n",
        "  return Q"
      ],
      "execution_count": 0,
      "outputs": []
    },
    {
      "cell_type": "markdown",
      "metadata": {
        "id": "QhZSy68pnrMe",
        "colab_type": "text"
      },
      "source": [
        "***Maximization step***<br>\n",
        "Here we update new estimates for the matrices U and V, according to the responsibilities we've computed before"
      ]
    },
    {
      "cell_type": "code",
      "metadata": {
        "id": "7s7GCA0Em9kN",
        "colab_type": "code",
        "colab": {}
      },
      "source": [
        "def compute_maximization(U,V,Q,X):\n",
        "  # a constant to avoid dividing by 0 \n",
        "  eps=1e-2\n",
        "\n",
        "  U = np.einsum('ij, ijz -> iz', X,Q)\n",
        "  denominator = np.maximum(eps,np.einsum('ij -> i', X))\n",
        "  U = U/denominator.reshape(-1,1)\n",
        "  # check simplex constraint\n",
        "  assert np.all(np.einsum('ik -> i', U) - 1 < eps), \"The entries do not sum up to 1\"\n",
        "  # check the non-negativity constraint\n",
        "  assert np.any(U<0) == False, \"There are negative entries\"\n",
        "\n",
        "  V = np.einsum('ij, ijz -> jz', X,Q)\n",
        "  denominator = np.maximum(eps,np.einsum('ij , ijz-> j', X, Q))\n",
        "  V = V/denominator.reshape(-1,1)\n",
        "  # check simplex constraint\n",
        "  assert np.all(np.einsum('jk -> j', V) - 1 < eps), \"The entries do not sum up to 1\"\n",
        "  # check the non-negativity constraint\n",
        "  assert np.any(V<0) == False, \"There are negative entries\"\n",
        "\n",
        "  return U,V\n"
      ],
      "execution_count": 0,
      "outputs": []
    },
    {
      "cell_type": "markdown",
      "metadata": {
        "id": "4FwsBS44qiwg",
        "colab_type": "text"
      },
      "source": [
        "Here are some utility functions that we'll be used in the training loop"
      ]
    },
    {
      "cell_type": "code",
      "metadata": {
        "id": "yO4R5C59nMq2",
        "colab_type": "code",
        "colab": {}
      },
      "source": [
        "def compute_lower_bound(U, V, Q, X): \n",
        "  # a constant to avoid dividing by 0 \n",
        "  eps=1e-4\n",
        "  lb = np.einsum('ijk,ik -> ij', Q,np.log(np.maximum(U,eps))) \\\n",
        "      + np.einsum('ijk,jk -> ij', Q,np.log(np.maximum(V,eps))) \\\n",
        "      - np.einsum('ijk,ijk -> ij', Q,np.log(np.maximum(Q,eps)))\n",
        "  \n",
        "  lb = np.einsum('ij,ij -> ',X,lb)\n",
        "\n",
        "  return lb\n",
        "\n",
        "def compute_loglikelihood(U, V, X): \n",
        "  # a constant to avoid dividing by 0 \n",
        "  eps=1e-4\n",
        "  \n",
        "  ll = np.einsum('ik,jk -> ij', U,V)\n",
        "  ll = np.einsum('ij,ij -> ',X,np.log(np.maximum(ll,eps)))\n",
        "\n",
        "  return ll"
      ],
      "execution_count": 0,
      "outputs": []
    },
    {
      "cell_type": "markdown",
      "metadata": {
        "id": "VNYkncjMtlEB",
        "colab_type": "text"
      },
      "source": [
        "### The training loop "
      ]
    },
    {
      "cell_type": "code",
      "metadata": {
        "id": "nfOBXDvAuX3l",
        "colab_type": "code",
        "colab": {}
      },
      "source": [
        "training = True"
      ],
      "execution_count": 0,
      "outputs": []
    },
    {
      "cell_type": "code",
      "metadata": {
        "id": "WPN7Uu2OvjkM",
        "colab_type": "code",
        "colab": {}
      },
      "source": [
        "from datetime import datetime"
      ],
      "execution_count": 0,
      "outputs": []
    },
    {
      "cell_type": "code",
      "metadata": {
        "id": "t7S3gA4KsyeV",
        "colab_type": "code",
        "colab": {
          "base_uri": "https://localhost:8080/",
          "height": 634
        },
        "outputId": "919f2afd-4715-46c9-976c-a3606816961c"
      },
      "source": [
        "start = datetime.now()\n",
        "if training:\n",
        "  U,V,Q = init(n_topics, n_docs, n_terms)\n",
        "  n_itrs = 25 # number of iterations \n",
        "  lowerbounds = np.zeros(n_itrs)\n",
        "  loglikelihoods = np.zeros(n_itrs)\n",
        "  for i in range(n_itrs):\n",
        "      print(\"EM iteration {}\".format(i))\n",
        "      Q = compute_expectation(U, V, Q)\n",
        "      U, V = compute_maximization(U, V, Q, train_X)\n",
        "      lowerbounds[i] = compute_lower_bound(U,V,Q,train_X)\n",
        "      loglikelihoods[i] = compute_loglikelihood(U,V,train_X)\n",
        "end = datetime.now()\n",
        "duration = end-start\n",
        "print(\"Total time = \", duration)"
      ],
      "execution_count": 33,
      "outputs": [
        {
          "output_type": "stream",
          "text": [
            "EM iteration 0\n",
            "EM iteration 1\n",
            "EM iteration 2\n",
            "EM iteration 3\n",
            "EM iteration 4\n",
            "EM iteration 5\n",
            "EM iteration 6\n",
            "EM iteration 7\n",
            "EM iteration 8\n",
            "EM iteration 9\n",
            "EM iteration 10\n",
            "EM iteration 11\n",
            "EM iteration 12\n",
            "EM iteration 13\n",
            "EM iteration 14\n",
            "EM iteration 15\n",
            "EM iteration 16\n",
            "EM iteration 17\n",
            "EM iteration 18\n",
            "EM iteration 19\n",
            "EM iteration 20\n",
            "EM iteration 21\n",
            "EM iteration 22\n",
            "EM iteration 23\n",
            "EM iteration 24\n"
          ],
          "name": "stdout"
        },
        {
          "output_type": "error",
          "ename": "AttributeError",
          "evalue": "ignored",
          "traceback": [
            "\u001b[0;31m---------------------------------------------------------------------------\u001b[0m",
            "\u001b[0;31mAttributeError\u001b[0m                            Traceback (most recent call last)",
            "\u001b[0;32m<ipython-input-33-959659570b3b>\u001b[0m in \u001b[0;36m<module>\u001b[0;34m()\u001b[0m\n\u001b[1;32m     13\u001b[0m \u001b[0mend\u001b[0m \u001b[0;34m=\u001b[0m \u001b[0mdatetime\u001b[0m\u001b[0;34m.\u001b[0m\u001b[0mnow\u001b[0m\u001b[0;34m(\u001b[0m\u001b[0;34m)\u001b[0m\u001b[0;34m\u001b[0m\u001b[0;34m\u001b[0m\u001b[0m\n\u001b[1;32m     14\u001b[0m \u001b[0mduration\u001b[0m \u001b[0;34m=\u001b[0m \u001b[0mend\u001b[0m\u001b[0;34m-\u001b[0m\u001b[0mstart\u001b[0m\u001b[0;34m\u001b[0m\u001b[0;34m\u001b[0m\u001b[0m\n\u001b[0;32m---> 15\u001b[0;31m \u001b[0mprint\u001b[0m\u001b[0;34m(\u001b[0m\u001b[0;34m\"Total time =\"\u001b[0m\u001b[0;34m,\u001b[0m  \u001b[0mduration\u001b[0m\u001b[0;34m.\u001b[0m\u001b[0mstrftime\u001b[0m\u001b[0;34m(\u001b[0m\u001b[0;34m\"%H:%M:%S\"\u001b[0m\u001b[0;34m)\u001b[0m\u001b[0;34m)\u001b[0m\u001b[0;34m\u001b[0m\u001b[0;34m\u001b[0m\u001b[0m\n\u001b[0m",
            "\u001b[0;31mAttributeError\u001b[0m: 'datetime.timedelta' object has no attribute 'strftime'"
          ]
        }
      ]
    },
    {
      "cell_type": "code",
      "metadata": {
        "id": "57SvRox7Ex_N",
        "colab_type": "code",
        "colab": {
          "base_uri": "https://localhost:8080/",
          "height": 35
        },
        "outputId": "680770c7-8ebf-4625-de2a-1e6e6e179bee"
      },
      "source": [
        "rint(\"Total time = \", duration)"
      ],
      "execution_count": 34,
      "outputs": [
        {
          "output_type": "stream",
          "text": [
            "Total time =  0:05:15.502507\n"
          ],
          "name": "stdout"
        }
      ]
    },
    {
      "cell_type": "code",
      "metadata": {
        "id": "1pDiP-X0t6yw",
        "colab_type": "code",
        "colab": {
          "base_uri": "https://localhost:8080/",
          "height": 385
        },
        "outputId": "60332178-9560-4111-fad3-2a49ccae73a3"
      },
      "source": [
        "# Now some plotting to make us all happy to be here \n",
        "iters = np.arange(n_itrs)\n",
        "plt.figure(figsize=(12,6))\n",
        "plt.plot(iters,lowerbounds,'b', label='lower bound')\n",
        "plt.plot(iters,loglikelihoods,'g', label=\"log likelihood\")\n",
        "plt.legend()\n",
        "plt.show()"
      ],
      "execution_count": 41,
      "outputs": [
        {
          "output_type": "display_data",
          "data": {
            "image/png": "[encoded data removed]",
            "text/plain": [
              "<Figure size 864x432 with 1 Axes>"
            ]
          },
          "metadata": {
            "tags": []
          }
        }
      ]
    },
    {
      "cell_type": "markdown",
      "metadata": {
        "id": "nQJYFV-LwutI",
        "colab_type": "text"
      },
      "source": [
        "## Results analysis\n",
        "\n",
        "Now that we finally got our results for ```n_topics = 100``` we can analyse them, by looking, for example, at the most probable and the least probable words for each topic.\n",
        "\n"
      ]
    },
    {
      "cell_type": "code",
      "metadata": {
        "id": "UGtG4phFvLPc",
        "colab_type": "code",
        "colab": {}
      },
      "source": [
        "from operator import itemgetter \n",
        "\n",
        "n_top = 5 # 5 most probable\n",
        "n_low = 5 # 5 least probable\n",
        "names = vectorizer.get_feature_names() # get back the words associated with each index \n",
        "sorted_idx = np.argsort(V, axis=0)\n",
        "\n",
        "def show_topic(topic_idx):\n",
        "  words_top = sorted_idx[-6:-1,topic_idx]\n",
        "  words_bottom = sorted_idx[0:5,topic_idx]\n",
        "  print(\"TOPIC \", topic_idx)\n",
        "  print(\"5 most probable words:\")\n",
        "  print(itemgetter(*words_top)(names))\n",
        "  print(\"5 least probable words:\")\n",
        "  print(itemgetter(*words_bottom)(names))"
      ],
      "execution_count": 0,
      "outputs": []
    },
    {
      "cell_type": "code",
      "metadata": {
        "id": "DoOcFJyezxNy",
        "colab_type": "code",
        "colab": {
          "base_uri": "https://localhost:8080/",
          "height": 1000
        },
        "outputId": "d7a914d2-0013-4b48-8c0e-111e80fe8056"
      },
      "source": [
        "for i in range(n_topics):\n",
        "  print(\"--------\")\n",
        "  show_topic(i)"
      ],
      "execution_count": 77,
      "outputs": [
        {
          "output_type": "stream",
          "text": [
            "--------\n",
            "TOPIC  0\n",
            "5 most probable words:\n",
            "('vega', 'tenor', 'intersect', 'chart', 'gunter')\n",
            "5 least probable words:\n",
            "('aaron', 'pet', 'pesticid', 'pest', 'pessim')\n",
            "--------\n",
            "TOPIC  1\n",
            "5 most probable words:\n",
            "('oat', 'schroeder', 'cholesterol', 'popey', 'quaker')\n",
            "5 least probable words:\n",
            "('aaron', 'peru', 'persuad', 'perspect', 'personnel')\n",
            "--------\n",
            "TOPIC  2\n",
            "5 most probable words:\n",
            "('edgar', 'literari', 'rambo', 'wagner', 'stallon')\n",
            "5 least probable words:\n",
            "('aaron', 'pig', 'pierr', 'piec', 'pie')\n",
            "--------\n",
            "TOPIC  3\n",
            "5 most probable words:\n",
            "('filipino', 'filibust', 'file', 'fijian', 'firstclass')\n",
            "5 least probable words:\n",
            "('aaron', 'platoon', 'platform', 'plate', 'plastic')\n",
            "--------\n",
            "TOPIC  4\n",
            "5 most probable words:\n",
            "('video', 'broaden', 'raton', 'boca', 'blockbust')\n",
            "5 least probable words:\n",
            "('aaron', 'plagu', 'placement', 'place', 'pizza')\n",
            "--------\n",
            "TOPIC  5\n",
            "5 most probable words:\n",
            "('absent', 'meager', 'appl', 'puett', 'kephart')\n",
            "5 least probable words:\n",
            "('aaron', 'packag', 'pack', 'pacif', 'pace')\n",
            "--------\n",
            "TOPIC  6\n",
            "5 most probable words:\n",
            "('filipino', 'filibust', 'file', 'fijian', 'firstclass')\n",
            "5 least probable words:\n",
            "('aaron', 'platoon', 'platform', 'plate', 'plastic')\n",
            "--------\n",
            "TOPIC  7\n",
            "5 most probable words:\n",
            "('filipino', 'filibust', 'file', 'fijian', 'firstclass')\n",
            "5 least probable words:\n",
            "('aaron', 'platoon', 'platform', 'plate', 'plastic')\n",
            "--------\n",
            "TOPIC  8\n",
            "5 most probable words:\n",
            "('filmmak', 'film', 'fill', 'filipino', 'firstquart')\n",
            "5 least probable words:\n",
            "('bcspehealth', 'chaney', 'merrel', 'hsn', 'kenner')\n",
            "--------\n",
            "TOPIC  9\n",
            "5 most probable words:\n",
            "('filipino', 'filibust', 'file', 'fijian', 'firstclass')\n",
            "5 least probable words:\n",
            "('aaron', 'platoon', 'platform', 'plate', 'plastic')\n",
            "--------\n",
            "TOPIC  10\n",
            "5 most probable words:\n",
            "('instant', 'ashar', 'unsolicit', 'kodak', 'shamrock')\n",
            "5 least probable words:\n",
            "('aaron', 'pilgrim', 'pile', 'pigeon', 'pig')\n",
            "--------\n",
            "TOPIC  11\n",
            "5 most probable words:\n",
            "('patriarca', 'twitchel', 'bendectin', 'tonka', 'kenner')\n",
            "5 least probable words:\n",
            "('aaron', 'fakhri', 'potato', 'postwar', 'portugu')\n",
            "--------\n",
            "TOPIC  12\n",
            "5 most probable words:\n",
            "('filipino', 'filibust', 'file', 'fijian', 'firstclass')\n",
            "5 least probable words:\n",
            "('aaron', 'platoon', 'platform', 'plate', 'plastic')\n",
            "--------\n",
            "TOPIC  13\n",
            "5 most probable words:\n",
            "('filipino', 'filibust', 'file', 'fijian', 'firstclass')\n",
            "5 least probable words:\n",
            "('aaron', 'platoon', 'platform', 'plate', 'plastic')\n",
            "--------\n",
            "TOPIC  14\n",
            "5 most probable words:\n",
            "('racist', 'longstand', 'vocal', 'racism', 'peoria')\n",
            "5 least probable words:\n",
            "('aaron', 'pit', 'pistol', 'pipelin', 'pipe')\n",
            "--------\n",
            "TOPIC  15\n",
            "5 most probable words:\n",
            "('timothi', 'oh', 'foremost', 'elliott', 'elliot')\n",
            "5 least probable words:\n",
            "('aaron', 'place', 'pizza', 'pittston', 'pittsburgh')\n",
            "--------\n",
            "TOPIC  16\n",
            "5 most probable words:\n",
            "('minu', 'invent', 'supercomput', 'fahrenheit', 'transistor')\n",
            "5 least probable words:\n",
            "('aaron', 'pittston', 'pittsburgh', 'pitch', 'pit')\n",
            "--------\n",
            "TOPIC  17\n",
            "5 most probable words:\n",
            "('bestknown', 'unsolicit', 'payless', 'sec', 'jeffer')\n",
            "5 least probable words:\n",
            "('aaron', 'parker', 'park', 'parish', 'pari')\n",
            "--------\n",
            "TOPIC  18\n",
            "5 most probable words:\n",
            "('highyield', 'induc', 'petersburg', 'quartet', 'barbershop')\n",
            "5 least probable words:\n",
            "('aaron', 'montana', 'monsignor', 'monro', 'monoxid')\n",
            "--------\n",
            "TOPIC  19\n",
            "5 most probable words:\n",
            "('basketb', 'stun', 'squarefoot', 'pamphlet', 'stein')\n",
            "5 least probable words:\n",
            "('aaron', 'physician', 'physic', 'phylli', 'phrase')\n"
          ],
          "name": "stdout"
        }
      ]
    },
    {
      "cell_type": "code",
      "metadata": {
        "id": "Z7cjF-EnGPrv",
        "colab_type": "code",
        "colab": {}
      },
      "source": [
        ""
      ],
      "execution_count": 0,
      "outputs": []
    }
  ]
}