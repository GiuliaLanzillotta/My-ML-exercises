{
  "nbformat": 4,
  "nbformat_minor": 0,
  "metadata": {
    "colab": {
      "name": "Cnn.ipynb",
      "provenance": [],
      "authorship_tag": "ABX9TyPxMEY6tWAuBfzAfLLMU+Qu",
      "include_colab_link": true
    },
    "kernelspec": {
      "name": "python3",
      "display_name": "Python 3"
    },
    "accelerator": "GPU"
  },
  "cells": [
    {
      "cell_type": "markdown",
      "metadata": {
        "id": "view-in-github",
        "colab_type": "text"
      },
      "source": [
        "<a href=\"https://colab.research.google.com/github/GiuliaLanzillotta/exercises/blob/master/Cnn.ipynb\" target=\"_parent\"><img src=\"https://colab.research.google.com/assets/colab-badge.svg\" alt=\"Open In Colab\"/></a>"
      ]
    },
    {
      "cell_type": "markdown",
      "metadata": {
        "id": "5YlHE6e0t5jK",
        "colab_type": "text"
      },
      "source": [
        "# Some fun with Convolutional Neural Networks\n",
        "--- \n",
        "This code is partly taken from @ETHZ **Machine perception** class \n",
        "```\n",
        "# What you need for this notebook:\n",
        "# Python 3 \n",
        "# Tensorflow 1.x : we will build a CNN with the 1.x APIs \n",
        "# (I know, this sounds suicidal now, but it's still a good exercise)\n",
        "\n",
        "```\n",
        "\n",
        "\n"
      ]
    },
    {
      "cell_type": "markdown",
      "metadata": {
        "id": "B5ohjDbOuJyj",
        "colab_type": "text"
      },
      "source": [
        "\n",
        "\n",
        "> ### But what is a convolution? \n",
        "A convolution is a mathematical operation used in image processing tasks. It takes as input a signal (not necessarly an image) and a kernel or filter, and it applies the filter to the original signal, producing a *filtered* signal. \n",
        "\n",
        "Depending on what filter you use to convolve an image with, you can use convolutions to blur an image (i.e., removing high-frequency noise), detect edges, and many other cool operations. \n",
        "\n",
        "\n"
      ]
    },
    {
      "cell_type": "markdown",
      "metadata": {
        "id": "5I9qi8-Ovik8",
        "colab_type": "text"
      },
      "source": [
        "\n",
        "\n",
        "> ### And what does it have to do with recognising cats? \n",
        "In the context of CNN convolution is not used to produced a desired effect on an image. We build a neural network architecture with a specific task  in mind (e.g. recognising what is in the picture) and we let the neural network learn the best *sequence of convolution filters* to accomplish the task easily. \n",
        "\n",
        "\n",
        "Enough with the talking, **let's code**!\n",
        "\n",
        "\n",
        "\n"
      ]
    },
    {
      "cell_type": "markdown",
      "metadata": {
        "id": "gxjmcQXqxnKN",
        "colab_type": "text"
      },
      "source": [
        "## Gathering the data"
      ]
    },
    {
      "cell_type": "code",
      "metadata": {
        "id": "v_2kE1httkz2",
        "colab_type": "code",
        "colab": {}
      },
      "source": [
        "%tensorflow_version 1.x\n",
        "import tensorflow as tf\n",
        "from tensorflow.python.util import deprecation\n",
        "deprecation._PRINT_DEPRECATION_WARNINGS = False # we don't like the warnings"
      ],
      "execution_count": 0,
      "outputs": []
    },
    {
      "cell_type": "code",
      "metadata": {
        "id": "6cozHFXQzCL3",
        "colab_type": "code",
        "outputId": "d5ce4c85-1a81-4363-9a6e-034d9f684a6e",
        "colab": {
          "base_uri": "https://localhost:8080/",
          "height": 104
        }
      },
      "source": [
        "import numpy as np\n",
        "import matplotlib.pyplot as plt\n",
        "import math\n",
        "import os\n",
        "\n",
        "# Tensorboard in Colab environment.\n",
        "!pip install tensorboardcolab\n",
        "from tensorboardcolab import *\n",
        "tbc = TensorBoardColab()"
      ],
      "execution_count": 3,
      "outputs": [
        {
          "output_type": "stream",
          "text": [
            "Requirement already satisfied: tensorboardcolab in /usr/local/lib/python3.6/dist-packages (0.0.22)\n"
          ],
          "name": "stdout"
        },
        {
          "output_type": "stream",
          "text": [
            "Using TensorFlow backend.\n"
          ],
          "name": "stderr"
        },
        {
          "output_type": "stream",
          "text": [
            "Wait for 8 seconds...\n",
            "TensorBoard link:\n",
            "https://596341e1.ngrok.io\n"
          ],
          "name": "stdout"
        }
      ]
    },
    {
      "cell_type": "code",
      "metadata": {
        "id": "DJw5lRzr2yxF",
        "colab_type": "code",
        "colab": {}
      },
      "source": [
        "# This is the dataset we are using\n",
        "from tensorflow.examples.tutorials.mnist import input_data"
      ],
      "execution_count": 0,
      "outputs": []
    },
    {
      "cell_type": "code",
      "metadata": {
        "id": "pVmUjQ4S1vji",
        "colab_type": "code",
        "colab": {
          "base_uri": "https://localhost:8080/",
          "height": 156
        },
        "outputId": "649be800-fdeb-4af9-b26f-4bcde18864a8"
      },
      "source": [
        "# Import the data\n",
        "log_dir = \"/tmp/tensorflow/mnist_cnn/logs\"\n",
        "mnist = input_data.read_data_sets(log_dir, one_hot=False, fake_data=False)"
      ],
      "execution_count": 5,
      "outputs": [
        {
          "output_type": "stream",
          "text": [
            "Successfully downloaded train-images-idx3-ubyte.gz 9912422 bytes.\n",
            "Extracting /tmp/tensorflow/mnist_cnn/logs/train-images-idx3-ubyte.gz\n",
            "Successfully downloaded train-labels-idx1-ubyte.gz 28881 bytes.\n",
            "Extracting /tmp/tensorflow/mnist_cnn/logs/train-labels-idx1-ubyte.gz\n",
            "Successfully downloaded t10k-images-idx3-ubyte.gz 1648877 bytes.\n",
            "Extracting /tmp/tensorflow/mnist_cnn/logs/t10k-images-idx3-ubyte.gz\n",
            "Successfully downloaded t10k-labels-idx1-ubyte.gz 4542 bytes.\n",
            "Extracting /tmp/tensorflow/mnist_cnn/logs/t10k-labels-idx1-ubyte.gz\n"
          ],
          "name": "stdout"
        }
      ]
    },
    {
      "cell_type": "code",
      "metadata": {
        "id": "RYpQQTp81_aP",
        "colab_type": "code",
        "colab": {}
      },
      "source": [
        "features_dict = {\n",
        "    \"image_shape\" : (28,28), \n",
        "    \"num_image_channels\" : 1 ,\n",
        "    \"num_classes\": 10\n",
        "}\n",
        "image_size_flat = features_dict[\"image_shape\"][0]*features_dict[\"image_shape\"][1]\\\n",
        "*features_dict[\"num_image_channels\"]"
      ],
      "execution_count": 0,
      "outputs": []
    },
    {
      "cell_type": "code",
      "metadata": {
        "id": "pJQsFewS2cVl",
        "colab_type": "code",
        "colab": {}
      },
      "source": [
        "# Helper function to plot the images \n",
        "def plot_9_images(images, cls_true, cls_pred=None):\n",
        "    assert len(images) == len(cls_true)==9\n",
        "    fig, axes = plt.subplots(3, 3)\n",
        "    fig.subplots_adjust(hspace=0.3, wspace=0.3)\n",
        "    for i,ax in enumerate(axes.flat):\n",
        "      ax.imshow(images[i].reshape(features_dict[\"image_shape\"]), cmap='binary')\n",
        "      # Show true and predicted classes.\n",
        "      if cls_pred is None:\n",
        "          xlabel = \"True: {0}\".format(cls_true[i])\n",
        "      else:\n",
        "          xlabel = \"True: {0}, Pred: {1}\".format(cls_true[i], cls_pred[i])\n",
        "      ax.set_xlabel(xlabel)\n",
        "      # Remove ticks \n",
        "      ax.set_xticks([])\n",
        "      ax.set_yticks([])"
      ],
      "execution_count": 0,
      "outputs": []
    },
    {
      "cell_type": "code",
      "metadata": {
        "id": "qj3nvWt-2uHW",
        "colab_type": "code",
        "outputId": "3cde41da-e990-49a7-a332-87ea3f8e0c0e",
        "colab": {
          "base_uri": "https://localhost:8080/",
          "height": 331
        }
      },
      "source": [
        "# Print some stats\n",
        "print(\"Size of:\")\n",
        "print(\"- Training-set:\\t\\t{}\".format(len(mnist.train.labels)))\n",
        "print(\"- Test-set:\\t\\t{}\".format(len(mnist.test.labels)))\n",
        "print(\"- Validation-set:\\t{}\".format(len(mnist.validation.labels)))\n",
        "# Plot some images from the test set\n",
        "plot_9_images(images= mnist.test.images[9:18], cls_true= mnist.test.labels[9:18])"
      ],
      "execution_count": 8,
      "outputs": [
        {
          "output_type": "stream",
          "text": [
            "Size of:\n",
            "- Training-set:\t\t55000\n",
            "- Test-set:\t\t10000\n",
            "- Validation-set:\t5000\n"
          ],
          "name": "stdout"
        },
        {
          "output_type": "display_data",
          "data": {
            "image/png": "[encoded data removed]",
            "text/plain": [
              "<Figure size 432x288 with 9 Axes>"
            ]
          },
          "metadata": {
            "tags": []
          }
        }
      ]
    },
    {
      "cell_type": "markdown",
      "metadata": {
        "id": "yYElXYdVxqMc",
        "colab_type": "text"
      },
      "source": [
        "## Building the model"
      ]
    },
    {
      "cell_type": "markdown",
      "metadata": {
        "id": "KbcM48FxBs2w",
        "colab_type": "text"
      },
      "source": [
        "#### Hyperparameters "
      ]
    },
    {
      "cell_type": "code",
      "metadata": {
        "id": "S7VRVppoxt5_",
        "colab_type": "code",
        "colab": {}
      },
      "source": [
        "# Setting the hyperparameters through FLAGS\n",
        "# Helper function to reset the flags\n",
        "def del_all_flags(FLAGS):\n",
        "    flags_dict = FLAGS._flags()    \n",
        "    keys_list = [keys for keys in flags_dict]    \n",
        "    for keys in keys_list:\n",
        "        FLAGS.__delattr__(keys)\n",
        "\n",
        "# reset all \n",
        "del_all_flags(tf.flags.FLAGS)\n",
        "\n",
        "# define the new ones\n",
        "tf.app.flags.DEFINE_string(\"log_dir\", log_dir, \"Summaries log directory\")\n",
        "tf.app.flags.DEFINE_string(\"feature_map_sizes\", \"32,64,128\", \"Number of layers to be used and number of feature maps per layer\")\n",
        "tf.app.flags.DEFINE_string(\"filter_sizes\", \"5,5,5\", \"Size of square filters per layer\")\n",
        "tf.app.flags.DEFINE_string(\"strides\", \"1,1,1\", \"Size of the stride in each convolution\")\n",
        "tf.app.flags.DEFINE_float(\"learning_rate\", 1e-3, \"Learning rate (default: 1e-3)\")\n",
        "tf.app.flags.DEFINE_integer(\"batch_size\", 128, \"Batch size (default: 128)\")\n",
        "tf.app.flags.DEFINE_integer(\"max_steps\", 10000, \"Number training steps/iterations (default: 1000)\")\n",
        "tf.app.flags.DEFINE_integer(\"evaluate_every_step\", 250, \"Evaluate model on validation set after this many steps/iterations (i.e., batches) (default: 50)\")\n",
        "tf.app.flags.DEFINE_string('f', '', 'kernel')  # Dummy entry so that colab doesn't complain."
      ],
      "execution_count": 0,
      "outputs": []
    },
    {
      "cell_type": "code",
      "metadata": {
        "id": "h68jgROY4Jx7",
        "colab_type": "code",
        "outputId": "fb809470-457e-4436-8a6f-b2b9bcf8e6a5",
        "colab": {
          "base_uri": "https://localhost:8080/",
          "height": 208
        }
      },
      "source": [
        "# Now let's check we have correctly set the flags\n",
        "FLAGS = tf.app.flags.FLAGS\n",
        "print(\"FLAGS:\")\n",
        "for key in FLAGS.flag_values_dict():\n",
        "  print(\"{:<22}: {}\".format(key.upper(), FLAGS[key].value))\n",
        "print(\"\")"
      ],
      "execution_count": 10,
      "outputs": [
        {
          "output_type": "stream",
          "text": [
            "FLAGS:\n",
            "LOG_DIR               : /tmp/tensorflow/mnist_cnn/logs\n",
            "FEATURE_MAP_SIZES     : 32,64,128\n",
            "FILTER_SIZES          : 5,5,5\n",
            "STRIDES               : 1,1,1\n",
            "LEARNING_RATE         : 0.001\n",
            "BATCH_SIZE            : 128\n",
            "MAX_STEPS             : 10000\n",
            "EVALUATE_EVERY_STEP   : 250\n",
            "F                     : \n",
            "\n"
          ],
          "name": "stdout"
        }
      ]
    },
    {
      "cell_type": "markdown",
      "metadata": {
        "id": "ognFL2okBxzB",
        "colab_type": "text"
      },
      "source": [
        "#### Variables (or parameters)"
      ]
    },
    {
      "cell_type": "code",
      "metadata": {
        "id": "azq7fdMo4ZpO",
        "colab_type": "code",
        "colab": {}
      },
      "source": [
        "# Now we create some helper functions to create the variables of the model (the trainable parameters)\n",
        "def new_weight(shape):\n",
        "  return tf.Variable(tf.contrib.layers.xavier_initializer(uniform=False)(shape=shape))\n",
        "def new_bias(shape):\n",
        "  return tf.Variable(tf.constant(0.1, shape=shape))\n",
        "\n",
        "# helper function to compute summary statistics for each variable\n",
        "def get_summary(var):\n",
        "  mean = tf.reduce_mean(var)\n",
        "  tf.summary.scalar(\"mean\",mean)\n",
        "  tf.summary.scalar('max', tf.reduce_max(var))\n",
        "  tf.summary.scalar('min', tf.reduce_min(var))\n",
        "  with tf.name_scope('stddev'):\n",
        "    stddev = tf.sqrt(tf.reduce_mean(tf.square(var - mean)))\n",
        "  tf.summary.scalar('stddev', stddev)\n",
        "  tf.summary.histogram('histogram', var)"
      ],
      "execution_count": 0,
      "outputs": []
    },
    {
      "cell_type": "markdown",
      "metadata": {
        "id": "dW01XFgVB1X2",
        "colab_type": "text"
      },
      "source": [
        "#### Layers (the nodes in our computational graph)"
      ]
    },
    {
      "cell_type": "code",
      "metadata": {
        "id": "ku0UsUeN5hjl",
        "colab_type": "code",
        "colab": {}
      },
      "source": [
        "# Now what is left is to draw the computational graph, inserting some nodes first\n",
        "# and some edges later"
      ],
      "execution_count": 0,
      "outputs": []
    },
    {
      "cell_type": "code",
      "metadata": {
        "id": "KS9vblzQCF0y",
        "colab_type": "code",
        "colab": {}
      },
      "source": [
        "# Helper functions to create layers \n",
        "\n",
        "# 1. FULLY CONNECTED\n",
        "def dense(input,output_dim,layer_name,activation=tf.nn.relu):\n",
        "  with tf.name_scope(layer_name): # example '/layer'\n",
        "    input_dim = input.get_shape()[-1].value\n",
        "    with tf.name_scope('weights'): ## '/layer/weights'\n",
        "      weights = new_weight([input_dim, output_dim])\n",
        "      get_summary(weights)\n",
        "    with tf.name_scope('biases'): ## '/layer/biases'\n",
        "      biases = new_bias([output_dim])\n",
        "      get_summary(biases)\n",
        "    with tf.name_scope('affine_op'): ## 'layer/affine_op'\n",
        "      affine = tf.matmul(input, weights) + biases\n",
        "      tf.summary.histogram('affine', affine)\n",
        "    activations = activation(affine, name='activation') ## 'layer/activation'\n",
        "    tf.summary.histogram('activations', activations)\n",
        "    return activations, weights\n",
        "\n",
        "# 2. CONVOLUTION \n",
        "# Defaults: \n",
        "# - square filters \n",
        "# - symmetric strides [1, s, s, 1]\n",
        "# - max pooling with kernel 2x2, strides 2x2 ans SAME padding\n",
        "def convl_square(input, filter_size, num_filters, layer_name, \n",
        "            pooling = True, strides=1, activation = tf.nn.relu, \n",
        "            padding = \"SAME\"):\n",
        "  # Note: padding should be either \"SAME\" or \"VALID\"\n",
        "  with tf.name_scope(layer_name):\n",
        "    # Initialise \n",
        "    num_input_channels = input.get_shape()[-1].value\n",
        "    kernel_shape = [filter_size, filter_size, num_input_channels, num_filters]\n",
        "    weights = new_weight(shape=kernel_shape)\n",
        "    biases = new_bias(shape=[num_filters])\n",
        "    # Convolutional layer\n",
        "    layer = tf.nn.conv2d(input=input,filter=weights, \n",
        "                         strides=[1, strides, strides, 1],padding=padding)\n",
        "    layer += biases\n",
        "    # Pooling layer \n",
        "    if pooling:\n",
        "      layer = tf.nn.max_pool(value=layer,ksize=[1, 2, 2, 1], \n",
        "                             strides=[1, 2, 2, 1], padding='SAME')\n",
        "    # Activation \n",
        "    # Note that ReLU is normally executed before the pooling,\n",
        "    # but since relu(max_pool(x)) == max_pool(relu(x)) we can\n",
        "    # save 75% of the relu-operations by max-pooling first.\n",
        "    layer = activation(layer)\n",
        "\n",
        "    return layer, weights\n",
        "\n",
        "# 3. FLATTEN \n",
        "# Flattening the 4-dimensional tensor (output of the convolution)\n",
        "# into 2 dimensions (expected input to a fully connected)\n",
        "def flatten(input):\n",
        "  # layer_shape == [num_images, img_height, img_width, num_channels]\n",
        "  layer_shape = input.get_shape()\n",
        "  # The 4 dimensions will be flattened into [num_samples, num_features]\n",
        "  num_features = layer_shape[1:4].num_elements()\n",
        "  layer_flat = tf.reshape(input, [-1, num_features])\n",
        "  return layer_flat, num_features"
      ],
      "execution_count": 0,
      "outputs": []
    },
    {
      "cell_type": "markdown",
      "metadata": {
        "id": "C2yCJEiVxuWK",
        "colab_type": "text"
      },
      "source": [
        "## Trainin the model"
      ]
    },
    {
      "cell_type": "code",
      "metadata": {
        "id": "JAmQOysTx4bw",
        "colab_type": "code",
        "colab": {}
      },
      "source": [
        "# First of all, placeholders! \n",
        "with tf.name_scope('input'):\n",
        "  images_flat = tf.placeholder(tf.float32, [None, image_size_flat], name='x-input')\n",
        "  data_placeholder = tf.reshape(images_flat, [-1, features_dict[\"image_shape\"][0], \n",
        "                                              features_dict[\"image_shape\"][1], \n",
        "                                              features_dict[\"num_image_channels\"]])\n",
        "  label_placeholder = tf.placeholder(tf.int32, [None], name='y-input')"
      ],
      "execution_count": 0,
      "outputs": []
    },
    {
      "cell_type": "code",
      "metadata": {
        "id": "9GZ61_GEChbi",
        "colab_type": "code",
        "colab": {}
      },
      "source": [
        "# Then , hyperparameters\n",
        "feature_map_sizes = list(map(int, FLAGS.feature_map_sizes.split(',')))\n",
        "filter_sizes = list(map(int, FLAGS.filter_sizes.split(',')))\n",
        "strides = list(map(int, FLAGS.strides.split(',')))\n",
        "assert len(filter_sizes) == len(feature_map_sizes) == len(strides)"
      ],
      "execution_count": 0,
      "outputs": []
    },
    {
      "cell_type": "code",
      "metadata": {
        "id": "5WFHdihg5xFi",
        "colab_type": "code",
        "colab": {
          "base_uri": "https://localhost:8080/",
          "height": 156
        },
        "outputId": "dd7f4149-a11d-4cec-ae0b-61d905362d29"
      },
      "source": [
        "# Now, assemble the model!\n",
        "next_in = data_placeholder\n",
        "weights = []\n",
        "layer_outs = []\n",
        "# SERIE OF CONVOLUTIONS\n",
        "for i, (num_out_channels, filter_size, stride) in \\\n",
        "enumerate(zip(feature_map_sizes, filter_sizes, strides)):\n",
        "    next_in, w = convl_square(next_in, filter_size, num_out_channels,\n",
        "                              'conv{}_layer'.format(i), pooling=True,strides=stride)\n",
        "    weights.append(w)\n",
        "    layer_outs.append(next_in)\n",
        "# FLATTENING \n",
        "out_flat, _ = flatten(next_in)\n",
        "# FULLY CONNECTED HEAD\n",
        "logits, _ = dense(out_flat, features_dict[\"num_classes\"], \n",
        "                        'dense_layer', activation=tf.identity)\n",
        "probs = tf.nn.softmax(logits)"
      ],
      "execution_count": 16,
      "outputs": [
        {
          "output_type": "stream",
          "text": [
            "WARNING:tensorflow:\n",
            "The TensorFlow contrib module will not be included in TensorFlow 2.0.\n",
            "For more information, please see:\n",
            "  * https://github.com/tensorflow/community/blob/master/rfcs/20180907-contrib-sunset.md\n",
            "  * https://github.com/tensorflow/addons\n",
            "  * https://github.com/tensorflow/io (for I/O related ops)\n",
            "If you depend on functionality not listed there, please file an issue.\n",
            "\n"
          ],
          "name": "stdout"
        }
      ]
    },
    {
      "cell_type": "code",
      "metadata": {
        "id": "-0icqq9VLKz6",
        "colab_type": "code",
        "colab": {}
      },
      "source": [
        "# Loss function: Cross-Entropy\n",
        "# the cross entropy function is implicitly measuring the KL-divergence\n",
        "# between the data distribution and the model output distribution\n",
        "with tf.name_scope('cross_entropy'):\n",
        "    cross_entropy_loss = tf.reduce_mean(\n",
        "        tf.nn.sparse_softmax_cross_entropy_with_logits(logits=logits, labels=label_placeholder))\n",
        "    tf.summary.scalar('cross_entropy_loss', cross_entropy_loss)"
      ],
      "execution_count": 0,
      "outputs": []
    },
    {
      "cell_type": "code",
      "metadata": {
        "id": "iDpu_4v7MYXH",
        "colab_type": "code",
        "colab": {
          "base_uri": "https://localhost:8080/",
          "height": 35
        },
        "outputId": "0bdbaa24-fc0e-427b-f1ec-8d1771eb4e27"
      },
      "source": [
        "# Helper function to check the number of trainable parameters\n",
        "def count_trainable_parameters():\n",
        "    \"\"\"Counts the number of trainable parameters in the current default graph.\"\"\"\n",
        "    tot_count = 0\n",
        "    for v in tf.trainable_variables():\n",
        "        v_count = 1\n",
        "        for d in v.get_shape():\n",
        "            v_count *= d.value\n",
        "        tot_count += v_count\n",
        "    return tot_count\n",
        "print(\"Number of trainable parameters: {}\".format(count_trainable_parameters()))"
      ],
      "execution_count": 18,
      "outputs": [
        {
          "output_type": "stream",
          "text": [
            "Number of trainable parameters: 277514\n"
          ],
          "name": "stdout"
        }
      ]
    },
    {
      "cell_type": "code",
      "metadata": {
        "id": "oAnLDQnXMjsT",
        "colab_type": "code",
        "colab": {}
      },
      "source": [
        "# Now the optimizer ! \n",
        "# We use SGD \n",
        "global_step = tf.Variable(1, name='global_step', trainable=False)\n",
        "with tf.name_scope('train'):\n",
        "    train_step = tf.train.GradientDescentOptimizer(FLAGS.learning_rate).minimize(\n",
        "        cross_entropy_loss, global_step=global_step)    \n",
        "with tf.name_scope('accuracy'):\n",
        "    with tf.name_scope('correct_predictions'):\n",
        "        correct_predictions = tf.nn.in_top_k(logits, label_placeholder, 1)\n",
        "    with tf.name_scope('accuracy'):\n",
        "        accuracy = tf.reduce_mean(tf.cast(correct_predictions, tf.float32))\n",
        "    tf.summary.scalar('accuracy', accuracy)"
      ],
      "execution_count": 0,
      "outputs": []
    },
    {
      "cell_type": "code",
      "metadata": {
        "id": "YZPH8r-YM3mL",
        "colab_type": "code",
        "colab": {
          "base_uri": "https://localhost:8080/",
          "height": 72
        },
        "outputId": "6e07c7a0-28af-4040-84d1-8380f0debc55"
      },
      "source": [
        "# Finally we create the session and initialize the variables \n",
        "sess = tf.InteractiveSession()\n",
        "\n",
        "train_writer = tbc.get_deep_writers(\"single_layer_model/train\")\n",
        "train_writer.add_graph(sess.graph)\n",
        "valid_writer = tbc.get_deep_writers(\"single_layer_model/valid\")\n",
        "valid_writer.add_graph(sess.graph)\n",
        "\n",
        "sess.run(tf.global_variables_initializer())\n",
        "\n",
        "summaries_merged = tf.summary.merge_all()"
      ],
      "execution_count": 20,
      "outputs": [
        {
          "output_type": "stream",
          "text": [
            "WARNING:tensorflow:From /usr/local/lib/python3.6/dist-packages/tensorboardcolab/core.py:49: The name tf.summary.FileWriter is deprecated. Please use tf.compat.v1.summary.FileWriter instead.\n",
            "\n"
          ],
          "name": "stdout"
        }
      ]
    },
    {
      "cell_type": "code",
      "metadata": {
        "id": "z7TumAOxNA06",
        "colab_type": "code",
        "colab": {}
      },
      "source": [
        "# Helper function to manage the input \n",
        "def feed_dict(train_mode):\n",
        "    if train_mode:\n",
        "        xs, ys = mnist.train.next_batch(FLAGS.batch_size)\n",
        "    else:\n",
        "        xs, ys = mnist.validation.images, mnist.validation.labels\n",
        "    return {images_flat:xs, label_placeholder:ys}\n",
        "\n",
        "# TRAINING LOOP\n",
        "def do_train_step(num_steps, summary_op):\n",
        "    for i in range(num_steps):\n",
        "        step = tf.train.global_step(sess, global_step)\n",
        "        if step % FLAGS.evaluate_every_step == 0:\n",
        "            summary, acc_valid = sess.run([summary_op, accuracy], feed_dict=feed_dict(False))\n",
        "            valid_writer.add_summary(summary, step)\n",
        "            print('[{}] Accuracy Training [{:.3f}], Validation [{:.3f}]'.format(step, acc_valid, acc_train)) \n",
        "\n",
        "        summary, acc_train, _ = sess.run([summary_op, accuracy, train_step], feed_dict=feed_dict(True))\n",
        "        train_writer.add_summary(summary, step)"
      ],
      "execution_count": 0,
      "outputs": []
    },
    {
      "cell_type": "code",
      "metadata": {
        "id": "jHseAx96TCg3",
        "colab_type": "code",
        "colab": {
          "base_uri": "https://localhost:8080/",
          "height": 711
        },
        "outputId": "e9992ddc-84b8-41dd-b80a-28741f69817c"
      },
      "source": [
        "do_train_step(10000, summaries_merged)"
      ],
      "execution_count": 22,
      "outputs": [
        {
          "output_type": "stream",
          "text": [
            "[250] Accuracy Training [0.272], Validation [0.281]\n",
            "[500] Accuracy Training [0.559], Validation [0.555]\n",
            "[750] Accuracy Training [0.585], Validation [0.578]\n",
            "[1000] Accuracy Training [0.648], Validation [0.633]\n",
            "[1250] Accuracy Training [0.703], Validation [0.664]\n",
            "[1500] Accuracy Training [0.750], Validation [0.727]\n",
            "[1750] Accuracy Training [0.785], Validation [0.805]\n",
            "[2000] Accuracy Training [0.802], Validation [0.852]\n",
            "[2250] Accuracy Training [0.834], Validation [0.805]\n",
            "[2500] Accuracy Training [0.851], Validation [0.875]\n",
            "[2750] Accuracy Training [0.872], Validation [0.805]\n",
            "[3000] Accuracy Training [0.879], Validation [0.859]\n",
            "[3250] Accuracy Training [0.888], Validation [0.898]\n",
            "[3500] Accuracy Training [0.900], Validation [0.852]\n",
            "[3750] Accuracy Training [0.902], Validation [0.930]\n",
            "[4000] Accuracy Training [0.905], Validation [0.922]\n",
            "[4250] Accuracy Training [0.913], Validation [0.922]\n",
            "[4500] Accuracy Training [0.915], Validation [0.930]\n",
            "[4750] Accuracy Training [0.919], Validation [0.898]\n",
            "[5000] Accuracy Training [0.922], Validation [0.945]\n",
            "[5250] Accuracy Training [0.924], Validation [0.945]\n",
            "[5500] Accuracy Training [0.926], Validation [0.922]\n",
            "[5750] Accuracy Training [0.933], Validation [0.945]\n",
            "[6000] Accuracy Training [0.931], Validation [0.914]\n",
            "[6250] Accuracy Training [0.934], Validation [0.938]\n",
            "[6500] Accuracy Training [0.938], Validation [0.883]\n",
            "[6750] Accuracy Training [0.939], Validation [0.977]\n",
            "[7000] Accuracy Training [0.940], Validation [0.914]\n",
            "[7250] Accuracy Training [0.940], Validation [0.930]\n",
            "[7500] Accuracy Training [0.943], Validation [0.898]\n",
            "[7750] Accuracy Training [0.944], Validation [0.930]\n",
            "[8000] Accuracy Training [0.945], Validation [0.906]\n",
            "[8250] Accuracy Training [0.947], Validation [0.945]\n",
            "[8500] Accuracy Training [0.948], Validation [0.945]\n",
            "[8750] Accuracy Training [0.950], Validation [0.922]\n",
            "[9000] Accuracy Training [0.950], Validation [0.938]\n",
            "[9250] Accuracy Training [0.952], Validation [0.953]\n",
            "[9500] Accuracy Training [0.952], Validation [0.938]\n",
            "[9750] Accuracy Training [0.953], Validation [0.930]\n",
            "[10000] Accuracy Training [0.955], Validation [0.938]\n"
          ],
          "name": "stdout"
        }
      ]
    },
    {
      "cell_type": "code",
      "metadata": {
        "id": "D9Pg4REbUZYp",
        "colab_type": "code",
        "colab": {}
      },
      "source": [
        "# Now it's time to test\n",
        "test_images = mnist.test.images[0:9]\n",
        "test_cls_true = mnist.test.labels[0:9]\n",
        "feed_dict = {images_flat: test_images}\n",
        "logits_np = sess.run(logits, feed_dict)"
      ],
      "execution_count": 0,
      "outputs": []
    },
    {
      "cell_type": "code",
      "metadata": {
        "id": "uJC55SO6U2-1",
        "colab_type": "code",
        "colab": {
          "base_uri": "https://localhost:8080/",
          "height": 262
        },
        "outputId": "07148280-1b5c-4bcd-d5c6-fbf7972b3e8a"
      },
      "source": [
        "test_cls_predicted = np.argmax(logits_np, axis=-1)\n",
        "plot_9_images(test_images, test_cls_true, test_cls_predicted)"
      ],
      "execution_count": 24,
      "outputs": [
        {
          "output_type": "display_data",
          "data": {
            "image/png": "[encoded data removed]",
            "text/plain": [
              "<Figure size 432x288 with 9 Axes>"
            ]
          },
          "metadata": {
            "tags": []
          }
        }
      ]
    },
    {
      "cell_type": "code",
      "metadata": {
        "id": "RtG2AXytVH6m",
        "colab_type": "code",
        "colab": {}
      },
      "source": [
        ""
      ],
      "execution_count": 0,
      "outputs": []
    }
  ]
}