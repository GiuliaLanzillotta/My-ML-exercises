{
  "nbformat": 4,
  "nbformat_minor": 0,
  "metadata": {
    "colab": {
      "name": "Adversarial attacks on MNIST.ipynb",
      "provenance": [],
      "authorship_tag": "ABX9TyMXDDbbFkcZp1Y5RBuuzsQn",
      "include_colab_link": true
    },
    "kernelspec": {
      "name": "python3",
      "display_name": "Python 3"
    }
  },
  "cells": [
    {
      "cell_type": "markdown",
      "metadata": {
        "id": "view-in-github",
        "colab_type": "text"
      },
      "source": [
        "<a href=\"https://colab.research.google.com/github/GiuliaLanzillotta/exercises/blob/master/Adversarial_attacks_on_MNIST.ipynb\" target=\"_parent\"><img src=\"https://colab.research.google.com/assets/colab-badge.svg\" alt=\"Open In Colab\"/></a>"
      ]
    },
    {
      "cell_type": "markdown",
      "metadata": {
        "id": "QV1lcyF1W7NC"
      },
      "source": [
        "# Adversarial attacks on MNIST\n",
        "\n",
        "Today we're going to do 2 things: \n",
        "- Traine a naive CNN on MNIST\n",
        "- Attack it with different techniques\n",
        "\n",
        "Let's start!\n",
        "\n"
      ]
    },
    {
      "cell_type": "code",
      "metadata": {
        "id": "JIYOGHD-YOYF"
      },
      "source": [
        "# uncomment if not already installed  \n",
        "#!pip install tensorboardX"
      ],
      "execution_count": 1,
      "outputs": []
    },
    {
      "cell_type": "code",
      "metadata": {
        "id": "-B2QCeWTXtA4",
        "outputId": "2e4e0021-cb41-4380-aed0-9aaa4aae162f",
        "colab": {
          "base_uri": "https://localhost:8080/",
          "height": 35
        }
      },
      "source": [
        "# Imports + constants\n",
        "import torch\n",
        "import torch.nn as nn\n",
        "import torch.optim as optim\n",
        "import torch.nn.functional as F\n",
        "import numpy as np\n",
        "import time\n",
        "from torchvision import datasets, transforms\n",
        "\n",
        "use_cuda = False\n",
        "device = torch.device(\"cuda\" if use_cuda else \"cpu\")\n",
        "batch_size = 64\n",
        "\n",
        "import matplotlib.pyplot as plt\n",
        "\n",
        "# Reproducibility \n",
        "# Notice that complete reproducibility is not guaranteed anyway \n",
        "# (for example due to the non perfect associativity of floating point addition)\n",
        "# Look here for more : https://pytorch.org/docs/stable/notes/randomness.html\n",
        "np.random.seed(42)\n",
        "torch.manual_seed(42)"
      ],
      "execution_count": 2,
      "outputs": [
        {
          "output_type": "execute_result",
          "data": {
            "text/plain": [
              "<torch._C.Generator at 0x7f50a3821600>"
            ]
          },
          "metadata": {
            "tags": []
          },
          "execution_count": 2
        }
      ]
    },
    {
      "cell_type": "markdown",
      "metadata": {
        "id": "0a0LqBJ0XfMA"
      },
      "source": [
        "## MNIST classifier"
      ]
    },
    {
      "cell_type": "markdown",
      "metadata": {
        "id": "zG5HZqtSZHSO"
      },
      "source": [
        "### The architecture"
      ]
    },
    {
      "cell_type": "code",
      "metadata": {
        "id": "ffWO65hoWxMo"
      },
      "source": [
        "class Net(nn.Module):\n",
        "  \"\"\"2 layers feed-forward classifier for MNIST images\"\"\"\n",
        "  def __init__(self):\n",
        "        super(Net, self).__init__()\n",
        "        self.fc = nn.Linear(28*28, 200)\n",
        "        self.fc2 = nn.Linear(200,10)\n",
        "\n",
        "  def forward(self, x):\n",
        "      x = x.view((-1, 28*28))\n",
        "      x = F.relu(self.fc(x))\n",
        "      x = self.fc2(x)\n",
        "      return x"
      ],
      "execution_count": 3,
      "outputs": []
    },
    {
      "cell_type": "code",
      "metadata": {
        "id": "GYohHAM5Zu9Y"
      },
      "source": [
        "class ConvNet(nn.Module):\n",
        "  \"\"\"Pretty basic CNN classifier for MNIST images.\"\"\"\n",
        "  def __init__(self):\n",
        "      # We'll use 6 convolutional layers with decreasing convolution window \n",
        "      # and increasing number of channels \n",
        "      # + ReLU after each layer \n",
        "      # + batch normalization\n",
        "      # + dropout and 2 fully connected layers as a classification head \n",
        "      super(ConvNet, self).__init__()\n",
        "      self.conv1 = nn.Conv2d(1, 32, kernel_size=(5, 5))\n",
        "      self.bn1 = nn.BatchNorm2d(32)\n",
        "      self.conv2 = nn.Conv2d(32, 32, kernel_size=(5, 5))\n",
        "      self.bn2 = nn.BatchNorm2d(32)\n",
        "      self.conv3 = nn.Conv2d(32, 64, kernel_size=(3, 3))\n",
        "      self.bn3 = nn.BatchNorm2d(64)\n",
        "      self.conv4 = nn.Conv2d(64, 64, kernel_size=(3, 3))\n",
        "      self.bn4 = nn.BatchNorm2d(64)\n",
        "      self.conv5 = nn.Conv2d(64, 128, kernel_size=(3, 3))\n",
        "      self.bn5 = nn.BatchNorm2d(128)\n",
        "      self.conv6 = nn.Conv2d(128, 128, kernel_size=(1, 1))\n",
        "      self.bn6 = nn.BatchNorm2d(128)\n",
        "      self.conv2_drop = nn.Dropout2d(p=0.2)\n",
        "      self.fc1 = nn.Linear(128, 100)\n",
        "      self.fc2 = nn.Linear(100, 10)\n",
        "\n",
        "  def forward(self, x):\n",
        "      ##  CONVOLUTIONAL LAYERS \n",
        "      x = F.relu(self.conv1(x))\n",
        "      x = self.bn1(x)\n",
        "      x = F.relu(self.conv2(x))\n",
        "      x = self.conv2_drop(F.max_pool2d(self.bn2(x), 2))\n",
        "      x = F.relu(self.conv3(x))\n",
        "      x = self.bn3(x)\n",
        "      x = F.relu(self.conv4(x))\n",
        "      x = self.bn4(x)\n",
        "      x = F.max_pool2d(x, 2)\n",
        "      x = self.conv2_drop(x)\n",
        "      x = F.relu(self.conv5(x))\n",
        "      x = self.bn5(x)\n",
        "      x = F.relu(self.conv6(x))\n",
        "      x = self.bn6(x)\n",
        "      ## CLASSIFICATION HEAD \n",
        "      size = x.size()[1] * x.size()[2] * x.size()[3]\n",
        "      # flattening \n",
        "      x = x.view(-1, size)\n",
        "      x = F.relu(self.fc1(x))\n",
        "      x = self.fc2(x)\n",
        "      return x\n"
      ],
      "execution_count": 4,
      "outputs": []
    },
    {
      "cell_type": "markdown",
      "metadata": {
        "id": "_nEnzUryZJyu"
      },
      "source": [
        "### The data "
      ]
    },
    {
      "cell_type": "code",
      "metadata": {
        "id": "a7RBlTLCZMQI"
      },
      "source": [
        "# Here do 2 things: \n",
        "# 1. Download the MNIST dataset (already divided into train and test)\n",
        "# 2. normalize the input s.t. we have a certain mean and sd (note that the provided\n",
        "# mean and sd are the empirical ones from the data)\n",
        "train_dataset = datasets.MNIST('mnist_data/', train=True, download=True, \n",
        "                               transform=transforms.Compose([transforms.ToTensor(), \n",
        "                                                             transforms.Normalize((0.1307,), (0.3081,))]))\n",
        "test_dataset = datasets.MNIST('mnist_data/', train=False, download=True, \n",
        "                              transform=transforms.Compose([transforms.ToTensor(), \n",
        "                                                            transforms.Normalize((0.1307,), (0.3081,))]))"
      ],
      "execution_count": null,
      "outputs": []
    },
    {
      "cell_type": "code",
      "metadata": {
        "id": "1o1ci2cDcpIc"
      },
      "source": [
        "# Use a DataLoader to avoid iterating through the data yourself\n",
        "# Notice the batch_size=64 that we defined above \n",
        "train_loader = torch.utils.data.DataLoader(train_dataset, batch_size=batch_size, shuffle=True)\n",
        "test_loader = torch.utils.data.DataLoader(test_dataset, batch_size=batch_size, shuffle=False)"
      ],
      "execution_count": 6,
      "outputs": []
    },
    {
      "cell_type": "markdown",
      "metadata": {
        "id": "pvrpr-PKZMhM"
      },
      "source": [
        "### Training "
      ]
    },
    {
      "cell_type": "code",
      "metadata": {
        "id": "8l4njkbmc2t4"
      },
      "source": [
        "# (This has any effect only if the model is not already there)\n",
        "ff_model = Net().to(device)\n",
        "conv_model = ConvNet().to(device)\n",
        "\n",
        "#This has any effect only on certain modules\n",
        "# (e.g. Dropout, BatchNorm) which behave differently \n",
        "# in train and test mode.\n",
        "ff_model.train()\n",
        "conv_model.train()"
      ],
      "execution_count": null,
      "outputs": []
    },
    {
      "cell_type": "code",
      "metadata": {
        "id": "r55wbv2rZM35"
      },
      "source": [
        "learning_rate = 0.0001\n",
        "num_epochs = 5\n",
        "# Optimizers:\n",
        "\"\"\" SGD vs Adam \"\"\"\n",
        "#opt = optim.SGD(params=model.parameters(), lr=learning_rate)\n",
        "opt = optim.Adam(params=conv_model.parameters(), lr=learning_rate)\n",
        "# Loss: \n",
        "ce_loss = torch.nn.CrossEntropyLoss()"
      ],
      "execution_count": 9,
      "outputs": []
    },
    {
      "cell_type": "code",
      "metadata": {
        "id": "hgwHF22UdOjs",
        "outputId": "09a8725c-eb31-4058-9bd2-cc7d222d8b86",
        "colab": {
          "base_uri": "https://localhost:8080/",
          "height": 1000
        }
      },
      "source": [
        "tot_steps = 0\n",
        "for epoch in range(1,num_epochs+1):\n",
        "  print(\"-------------- Epoch \"+str(epoch)+\" -------------\")\n",
        "  t1 = time.time()\n",
        "  for batch_idx, (x_batch, y_batch) in enumerate(train_loader):\n",
        "    x_batch, y_batch = x_batch.to(device), y_batch.to(device)\n",
        "    tot_steps += 1\n",
        "    opt.zero_grad()\n",
        "    out = conv_model(x_batch)\n",
        "    batch_loss = ce_loss(out, y_batch)\n",
        "\n",
        "    # show accuracy every 100 steps\n",
        "    if batch_idx % 100 == 0:\n",
        "      pred = torch.max(out, dim=1)[1] # predictions\n",
        "      acc = pred.eq(y_batch).sum().item() / float(batch_size) # accuracy\n",
        "      print(\"Batch \"+str(batch_idx)+\": \"+ str(acc))\n",
        "\n",
        "    batch_loss.backward()\n",
        "    opt.step() \n",
        "  t2 = time.time()\n",
        "  print(\"Time = %.2lf seconds\"%(t2-t1))"
      ],
      "execution_count": 11,
      "outputs": [
        {
          "output_type": "stream",
          "text": [
            "-------------- Epoch 1 -------------\n",
            "Batch 0: 0.078125\n",
            "Batch 100: 0.78125\n",
            "Batch 200: 0.90625\n",
            "Batch 300: 0.96875\n",
            "Batch 400: 0.96875\n",
            "Batch 500: 0.9375\n",
            "Batch 600: 0.96875\n",
            "Batch 700: 0.953125\n",
            "Batch 800: 1.0\n",
            "Batch 900: 0.984375\n",
            "Time = 163.63 seconds\n",
            "-------------- Epoch 2 -------------\n",
            "Batch 0: 1.0\n",
            "Batch 100: 0.96875\n",
            "Batch 200: 0.9375\n",
            "Batch 300: 0.984375\n",
            "Batch 400: 1.0\n",
            "Batch 500: 0.984375\n",
            "Batch 600: 0.96875\n",
            "Batch 700: 1.0\n",
            "Batch 800: 0.96875\n",
            "Batch 900: 1.0\n",
            "Time = 162.66 seconds\n",
            "-------------- Epoch 3 -------------\n",
            "Batch 0: 0.984375\n",
            "Batch 100: 1.0\n",
            "Batch 200: 0.953125\n",
            "Batch 300: 1.0\n",
            "Batch 400: 0.96875\n",
            "Batch 500: 0.953125\n",
            "Batch 600: 0.9375\n",
            "Batch 700: 1.0\n",
            "Batch 800: 0.984375\n",
            "Batch 900: 1.0\n",
            "Time = 162.59 seconds\n",
            "-------------- Epoch 4 -------------\n",
            "Batch 0: 0.984375\n",
            "Batch 100: 0.96875\n",
            "Batch 200: 0.984375\n",
            "Batch 300: 1.0\n",
            "Batch 400: 0.984375\n",
            "Batch 500: 0.953125\n",
            "Batch 600: 0.96875\n",
            "Batch 700: 0.984375\n",
            "Batch 800: 0.984375\n",
            "Batch 900: 1.0\n",
            "Time = 162.23 seconds\n",
            "-------------- Epoch 5 -------------\n",
            "Batch 0: 0.984375\n",
            "Batch 100: 0.984375\n",
            "Batch 200: 0.984375\n",
            "Batch 300: 1.0\n",
            "Batch 400: 0.9375\n",
            "Batch 500: 0.984375\n",
            "Batch 600: 1.0\n",
            "Batch 700: 0.984375\n",
            "Batch 800: 0.96875\n",
            "Batch 900: 0.984375\n",
            "Time = 162.38 seconds\n"
          ],
          "name": "stdout"
        }
      ]
    },
    {
      "cell_type": "code",
      "metadata": {
        "id": "AQ1kXDiFeP3U",
        "outputId": "0de582a9-e650-4497-9485-87a4c728931c",
        "colab": {
          "base_uri": "https://localhost:8080/",
          "height": 35
        }
      },
      "source": [
        "# Evaluate on the test set \n",
        "tot_test, tot_acc = 0.0, 0.0\n",
        "for batch_idx, (x_batch, y_batch) in enumerate(test_loader):\n",
        "    x_batch, y_batch = x_batch.to(device), y_batch.to(device)\n",
        "    out = conv_model(x_batch)\n",
        "    pred = torch.max(out, dim=1)[1]\n",
        "    acc = pred.eq(y_batch).sum().item()\n",
        "    tot_acc += acc\n",
        "    tot_test += x_batch.size()[0]\n",
        "acc = tot_acc/tot_test\n",
        "print('Accuracy %.5lf'%(acc))"
      ],
      "execution_count": 12,
      "outputs": [
        {
          "output_type": "stream",
          "text": [
            "Accuracy 0.98860\n"
          ],
          "name": "stdout"
        }
      ]
    },
    {
      "cell_type": "markdown",
      "metadata": {
        "id": "3oFGmjJkQkpU"
      },
      "source": [
        "Here I'll save the result of some trials:\n",
        "\n",
        "    1) Net + Adam x 5 epochs = 0.9575 test accuracy / time x epoch around 11 s\n",
        "    2) ConvNet + Adam x 5 epochs = 0.98870 test accuracy/ time x epoch around 170 s\n",
        "\n",
        "Notice that this result are obtained by training on CPU"
      ]
    },
    {
      "cell_type": "markdown",
      "metadata": {
        "id": "gy7kacRpXhkA"
      },
      "source": [
        "## Attacks"
      ]
    },
    {
      "cell_type": "code",
      "metadata": {
        "id": "gSN-q5MeOVy5"
      },
      "source": [
        "# decide which model to try your attacks on\n",
        "model = conv_model"
      ],
      "execution_count": 13,
      "outputs": []
    },
    {
      "cell_type": "code",
      "metadata": {
        "id": "0Ew0qQPjXr7y"
      },
      "source": [
        "# We first load the test dataset again. \n",
        "# Notice that this time we don't want to normalize the input right away \n",
        "# (as we want to be able to search for adversarial examples in the original \n",
        "# image domain)\n",
        "test_dataset = datasets.MNIST('mnist_data/', train=False, download=True, \n",
        "                              transform=transforms.Compose([transforms.ToTensor()]))\n",
        "# In order to be able for our trained model to function with this un-normalized\n",
        "# input we need to insert a normalization layer first \n",
        "class Normalize(nn.Module):\n",
        "    def forward(self, x):\n",
        "        return (x - 0.1307)/0.3081\n",
        "model = nn.Sequential(Normalize(), model)\n",
        "# and here we also create a version of the model that outputs the class probabilities\n",
        "model_to_prob = nn.Sequential(model, nn.Softmax())\n",
        "# we put the neural net into evaluation mode (this disables features like dropout)\n",
        "model.eval()\n",
        "model_to_prob.eval()"
      ],
      "execution_count": null,
      "outputs": []
    },
    {
      "cell_type": "markdown",
      "metadata": {
        "id": "HGY0oZO_SqxR"
      },
      "source": [
        "#### The attacks \n",
        "We're now going to implement 4 different attacks (actually 2, each one of them in its targeted and untargeted version). \n",
        "\n",
        "1) **FGSM** : fast gradient sign method. One shot algorithm, meaning that the output is obtained in only one step. \n",
        "\n",
        "2) **PGD** : projected gradient descent (method) - an iterative evolution of the previous one\n"
      ]
    },
    {
      "cell_type": "code",
      "metadata": {
        "id": "CddvlDufgEPG"
      },
      "source": [
        "def fgsm(model, x, lbl, eps, targeted=True):\n",
        "    \"\"\" Implementing both targeted and untargeted FGSM algorithm.\"\"\"\n",
        "\n",
        "    # detatch the input from the graph of previous computation \n",
        "    input_ = x.clone().detach_()\n",
        "    # tell pytorch to track the gradients wrt input x\n",
        "    input_.requires_grad_()\n",
        "    # loss here \n",
        "    loss = ce_loss(model(input_), torch.tensor([lbl], dtype=torch.long))\n",
        "    # gradient of the loss \n",
        "    loss.backward() \n",
        "    # now comes the difference in logic between targeted and untargeted attacks\n",
        "    \n",
        "    # The idea here is to minimise the model's loss \n",
        "    # with respect to the target label \n",
        "    if targeted: x_adv = input_ - eps*torch.sign(input_.grad)\n",
        "    # The idea here is to maximise the model's loss wrt \n",
        "    # the original label ('label')\n",
        "    else: x_adv = input_ + eps*torch.sign(input_.grad)\n",
        "\n",
        "    return x_adv\n",
        "\n",
        "\n",
        "def pgd(model, x, lbl, k, eps, eps_step, targeted=True, clipping=True):\n",
        "    # The idea here is to search for adversarial example \n",
        "    # inside a ball around the original example x \n",
        "    # As projection is easier in this case, we use an L-infinity \n",
        "    # ball of radius eps \n",
        "    # if clipping is set to True we restrict the outputs to \n",
        "    # the [0,1]^n box if clipping is set to True\n",
        "\n",
        "    # random initialization \n",
        "    eta = torch.rand_like(x)*2*eps - eps\n",
        "    x_adv = x + eta\n",
        "    # iteration \n",
        "    for steps in range(1,k+1):\n",
        "      # computing fgsm step \n",
        "      next_x = fgsm(model, x_adv, lbl, eps_step, targeted=targeted)\n",
        "\n",
        "      # projecting the step into the ball \n",
        "      delta = next_x - x\n",
        "      delta = torch.clamp(delta, min=-1*eps, max=eps)  \n",
        "\n",
        "      # taking the step    \n",
        "      x_adv = x + delta\n",
        "\n",
        "      if clipping: \n",
        "        # projecting the output to the [0,1] box\n",
        "        x_adv = torch.clamp(x_adv, min=0, max=1)\n",
        "\n",
        "      # check if we have an adversarial example \n",
        "      out = model(x_adv)\n",
        "      pred = torch.max(out, dim=1)\n",
        "      if pred==lbl and targeted: return x_adv\n",
        "      if pred!=lbl and not targeted: return x_adv\n",
        "\n",
        "    return x_adv\n"
      ],
      "execution_count": 32,
      "outputs": []
    },
    {
      "cell_type": "code",
      "metadata": {
        "id": "5PhkBBzqgBal"
      },
      "source": [
        "# define a show function that displays the original image together with the \n",
        "# adversarial example and the model predictions\n",
        "def show(original, adv, model_to_prob):\n",
        "    p0 = model_to_prob(original).detach().numpy()\n",
        "    p1 = model_to_prob(adv).detach().numpy()\n",
        "    f, axarr = plt.subplots(1,2)\n",
        "    axarr[0].imshow(original.detach().numpy().reshape(28, 28), cmap='gray')\n",
        "    axarr[0].set_title(\"Original, class: \" + str(p0.argmax()))\n",
        "    axarr[1].imshow(adv.detach().numpy().reshape(28, 28), cmap='gray')\n",
        "    axarr[1].set_title(\"Adversarial, class: \" + str(p1.argmax()))"
      ],
      "execution_count": 33,
      "outputs": []
    },
    {
      "cell_type": "markdown",
      "metadata": {
        "id": "JlXY6rRpUiiJ"
      },
      "source": [
        "Trying out attacks! "
      ]
    },
    {
      "cell_type": "code",
      "metadata": {
        "id": "91afM6GNUnB2",
        "outputId": "83786bd6-9dce-48dd-b170-ef5dc22b98eb",
        "colab": {
          "base_uri": "https://localhost:8080/",
          "height": 283
        }
      },
      "source": [
        "original = torch.unsqueeze(test_dataset[1][0], dim=0)\n",
        "f, axarr = plt.subplots(1,1)\n",
        "axarr.imshow(original[0][0], cmap='gray')"
      ],
      "execution_count": 47,
      "outputs": [
        {
          "output_type": "execute_result",
          "data": {
            "text/plain": [
              "<matplotlib.image.AxesImage at 0x7f504cd21550>"
            ]
          },
          "metadata": {
            "tags": []
          },
          "execution_count": 47
        },
        {
          "output_type": "display_data",
          "data": {
            "image/png": "[encoded data removed]",
            "text/plain": [
              "<Figure size 432x288 with 1 Axes>"
            ]
          },
          "metadata": {
            "tags": [],
            "needs_background": "light"
          }
        }
      ]
    },
    {
      "cell_type": "code",
      "metadata": {
        "id": "F_ZBtAPNUkcE"
      },
      "source": [
        "# try out our attacks\n",
        "original = torch.unsqueeze(test_dataset[0][0], dim=0)\n",
        "adv = fgsm(model, original, lbl=, eps=0.08, targeted=True)\n",
        "show(original, adv, model_to_prob)"
      ],
      "execution_count": null,
      "outputs": []
    },
    {
      "cell_type": "code",
      "metadata": {
        "id": "vUVVUNLHgF0M",
        "outputId": "fd651d00-453c-450f-9729-3e34fb242c58",
        "colab": {
          "base_uri": "https://localhost:8080/",
          "height": 271
        }
      },
      "source": [
        "# try out our attacks\n",
        "original = torch.unsqueeze(test_dataset[0][0], dim=0)\n",
        "adv = pgd(model, original, lbl=, k=100, eps=0.08, eps_step=0.05, targeted=True)\n",
        "show(original, adv, model_to_prob)"
      ],
      "execution_count": 34,
      "outputs": [
        {
          "output_type": "stream",
          "text": [
            "/usr/local/lib/python3.6/dist-packages/torch/nn/modules/container.py:117: UserWarning: Implicit dimension choice for softmax has been deprecated. Change the call to include dim=X as an argument.\n",
            "  input = module(input)\n"
          ],
          "name": "stderr"
        },
        {
          "output_type": "display_data",
          "data": {
            "image/png": "[encoded data removed]",
            "text/plain": [
              "<Figure size 432x288 with 2 Axes>"
            ]
          },
          "metadata": {
            "tags": [],
            "needs_background": "light"
          }
        }
      ]
    },
    {
      "cell_type": "code",
      "metadata": {
        "id": "6lrK0p32bqx4"
      },
      "source": [
        ""
      ],
      "execution_count": null,
      "outputs": []
    }
  ]
}