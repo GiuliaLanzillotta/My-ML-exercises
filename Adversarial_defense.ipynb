{
  "nbformat": 4,
  "nbformat_minor": 0,
  "metadata": {
    "colab": {
      "name": "Adversarial defense.ipynb",
      "provenance": [],
      "authorship_tag": "ABX9TyO0JSpWFgYAJy9Hmc9kKRzV",
      "include_colab_link": true
    },
    "kernelspec": {
      "name": "python3",
      "display_name": "Python 3"
    }
  },
  "cells": [
    {
      "cell_type": "markdown",
      "metadata": {
        "id": "view-in-github",
        "colab_type": "text"
      },
      "source": [
        "<a href=\"https://colab.research.google.com/github/GiuliaLanzillotta/exercises/blob/master/Adversarial_defense.ipynb\" target=\"_parent\"><img src=\"https://colab.research.google.com/assets/colab-badge.svg\" alt=\"Open In Colab\"/></a>"
      ]
    },
    {
      "cell_type": "markdown",
      "metadata": {
        "id": "GvBIVuZkyVgx"
      },
      "source": [
        "# Adversarial defense \n",
        "\n",
        "Today we'll experiment with adversarial training as an adversarial defense technique. <br>\n",
        "\n",
        "More specifically we'll employ [PGD](https://arxiv.org/pdf/1706.06083.pdf) and [TRADES](https://arxiv.org/pdf/1901.08573.pdf) attack to make our net more robust during training. \n"
      ]
    },
    {
      "cell_type": "code",
      "metadata": {
        "id": "fIuQvCcothZn"
      },
      "source": [
        "import os\n",
        "from tqdm import tqdm\n",
        "import torch\n",
        "import torch.nn as nn\n",
        "import torch.nn.functional as F\n",
        "import torch.optim as optim\n",
        "from torchvision import datasets, transforms"
      ],
      "execution_count": 1,
      "outputs": []
    },
    {
      "cell_type": "markdown",
      "metadata": {
        "id": "6roEhzyFy2AV"
      },
      "source": [
        "We'll be again be working with the MNIST dataset "
      ]
    },
    {
      "cell_type": "markdown",
      "metadata": {
        "id": "r2i30W5jyudh"
      },
      "source": [
        "1. Define a shallow ReLU network "
      ]
    },
    {
      "cell_type": "code",
      "metadata": {
        "id": "H28j_VzkysfM"
      },
      "source": [
        "class Net(nn.Module):\n",
        "    def __init__(self):\n",
        "        super(Net, self).__init__()\n",
        "        self.fc1 = nn.Linear(28 * 28, 200)\n",
        "        self.fc2 = nn.Linear(200, 10)\n",
        "\n",
        "    def forward(self, x):\n",
        "        x = x.view((-1, 28 * 28))\n",
        "        x = F.relu(self.fc1(x))\n",
        "        x = self.fc2(x)\n",
        "        return x"
      ],
      "execution_count": 2,
      "outputs": []
    },
    {
      "cell_type": "markdown",
      "metadata": {
        "id": "51VDPYKZzICO"
      },
      "source": [
        "Let's also add a normalisation layer.<br>\n",
        "It will be inserted as a first \"layer\" to the network. This allows us to search for adverserial examples to the real image, rather than to the normalized image. "
      ]
    },
    {
      "cell_type": "code",
      "metadata": {
        "id": "FfMlkWxNzLnj"
      },
      "source": [
        "class Normalize(nn.Module):\n",
        "    def forward(self, x):\n",
        "        return (x - 0.1307) / 0.3081"
      ],
      "execution_count": 3,
      "outputs": []
    },
    {
      "cell_type": "markdown",
      "metadata": {
        "id": "6Du0ucKDzOsj"
      },
      "source": [
        "And let's set a few hyperparameters"
      ]
    },
    {
      "cell_type": "code",
      "metadata": {
        "id": "nGSJ2zjAzM0n"
      },
      "source": [
        "batch_size = 512\n",
        "seed = 42\n",
        "learning_rate = 0.01\n",
        "num_epochs = 10 \n",
        "eps = 0.1 #PGD parameter (defines the magnitude of the perturbation)\n",
        "k = 7 #PGD steps\n",
        "trades_fact = 1.0 #TRADES lambda "
      ],
      "execution_count": 4,
      "outputs": []
    },
    {
      "cell_type": "markdown",
      "metadata": {
        "id": "AW2fCyeAzzlP"
      },
      "source": [
        "A few more lines of preparatory code ..."
      ]
    },
    {
      "cell_type": "code",
      "metadata": {
        "id": "neFeWovqzv5o",
        "outputId": "4870b199-d1fc-477e-d347-a56089bde632",
        "colab": {
          "base_uri": "https://localhost:8080/",
          "height": 35
        }
      },
      "source": [
        "device = 'cuda' if torch.cuda.is_available() else 'cpu'\n",
        "torch.manual_seed(seed)"
      ],
      "execution_count": 5,
      "outputs": [
        {
          "output_type": "execute_result",
          "data": {
            "text/plain": [
              "<torch._C.Generator at 0x7f8fb0a52768>"
            ]
          },
          "metadata": {
            "tags": []
          },
          "execution_count": 5
        }
      ]
    },
    {
      "cell_type": "code",
      "metadata": {
        "id": "h4zvI-820SBK"
      },
      "source": [
        "model = nn.Sequential(Normalize(), Net())\n",
        "model = model.to(device)"
      ],
      "execution_count": 6,
      "outputs": []
    },
    {
      "cell_type": "markdown",
      "metadata": {
        "id": "eZ60YN2Gz8tl"
      },
      "source": [
        "2. Load dataset (MNIST)"
      ]
    },
    {
      "cell_type": "code",
      "metadata": {
        "id": "B7nzjTPSz7dX"
      },
      "source": [
        "# Warning: running this will download the data locally\n",
        "train_dataset = datasets.MNIST('mnist_data/', train=True, download=True, transform=transforms.Compose([transforms.ToTensor()]))\n",
        "test_dataset = datasets.MNIST('mnist_data/', train=False, download=True, transform=transforms.Compose([transforms.ToTensor()]))"
      ],
      "execution_count": null,
      "outputs": []
    },
    {
      "cell_type": "code",
      "metadata": {
        "id": "fR88BXlY0awZ"
      },
      "source": [
        "train_loader = torch.utils.data.DataLoader(train_dataset, batch_size=batch_size, shuffle=True)\n",
        "test_loader = torch.utils.data.DataLoader(test_dataset, batch_size=batch_size, shuffle=False)"
      ],
      "execution_count": 8,
      "outputs": []
    },
    {
      "cell_type": "markdown",
      "metadata": {
        "id": "SXZTDJGz0jL5"
      },
      "source": [
        "3. Implement the defenses "
      ]
    },
    {
      "cell_type": "code",
      "metadata": {
        "id": "qUP7XoNZ0hpt"
      },
      "source": [
        "def get_PGD_adversarial_example(x,y, eps, net, k):\n",
        "  \"\"\" \n",
        "  Returns adversarial example in epsilon infinity ball around x\n",
        "  using untargeted PGD attack. \n",
        "  \"\"\" \n",
        "  pass\n",
        "\n",
        "def get_PGD_Bmax(x_batch, y_batch, eps, net, k):\n",
        "  \"\"\" \n",
        "  Returns alternative set of points that maximise \n",
        "  the loss of the newtork \n",
        "  \"\"\"\n",
        "  pass\n",
        "\n",
        "def compute_adv_accuracy(x_batch, y_batch, eps, k, lambda, method=\"PGD\"):\n",
        "  \"\"\"\n",
        "  Returns the adversarial accuracy on the given batch. \n",
        "  \"\"\"\n",
        "  # iterate through the batch:\n",
        "  # for the correctly classified examples check whether there's \n",
        "  # an adversarial example "
      ],
      "execution_count": null,
      "outputs": []
    },
    {
      "cell_type": "markdown",
      "metadata": {
        "id": "TlEGrghj1syk"
      },
      "source": [
        "4. Train and evaluate "
      ]
    },
    {
      "cell_type": "code",
      "metadata": {
        "id": "rdGBk-UG1uSe"
      },
      "source": [
        "opt = optim.Adam(params=model.parameters(), lr=learning_rate, weight_decay=1e-5)\n",
        "scheduler = optim.lr_scheduler.StepLR(opt, 15)\n",
        "ce_loss = torch.nn.CrossEntropyLoss()\n",
        "kl_loss = torch.nn.KLDivLoss(reduction='batchmean')"
      ],
      "execution_count": 9,
      "outputs": []
    },
    {
      "cell_type": "code",
      "metadata": {
        "id": "2it_4_uA16BF"
      },
      "source": [
        "defense = \"PGD\""
      ],
      "execution_count": 10,
      "outputs": []
    },
    {
      "cell_type": "code",
      "metadata": {
        "id": "JoEPOzct11Hu"
      },
      "source": [
        "\n",
        "for epoch in range(1, num_epochs + 1):\n",
        "    # Training\n",
        "    for batch_idx, (x_batch, y_batch) in enumerate(tqdm(train_loader)):\n",
        "\n",
        "        x_batch, y_batch = x_batch.to(device), y_batch.to(device)\n",
        "        model.train()  \n",
        "\n",
        "        if defense == 'PGD':\n",
        "          # get Bmax \n",
        "          x_batch_max = get_PGD_Bmax(x_batch, y_batch, eps, model, k)\n",
        "          # compute the loss \n",
        "          out = model(x_batch_max)\n",
        "          loss = ce_loss(out, y_batch)\n",
        "\n",
        "        elif args.defense == 'TRADES':\n",
        "            raise NotImplementedError\n",
        "            #Problem 1.2 implement TRADES training\n",
        "            \n",
        "        elif defense == 'none':\n",
        "            # standard training\n",
        "            out_nat = model(x_batch)\n",
        "            loss = ce_loss(out_nat, y_batch)\n",
        "        \n",
        "        opt.zero_grad()\n",
        "        loss.backward()\n",
        "        opt.step()\n",
        "        \n",
        "    # Testing\n",
        "    model.eval()\n",
        "    tot_test, tot_acc, tot_adv_acc = 0.0, 0.0, 0.0\n",
        "    for batch_idx, (x_batch, y_batch) in enumerate(tqdm(test_loader)):\n",
        "        x_batch, y_batch = x_batch.to(device), y_batch.to(device)\n",
        "        \n",
        "        out = model(x_batch)\n",
        "        pred = torch.max(out, dim=1)[1]\n",
        "        acc = pred.eq(y_batch).sum().item()\n",
        "\n",
        "        # Problem 1.1 calculate accuracy under PGD attack\n",
        "        acc_adv = 0\n",
        "        \n",
        "        tot_acc += acc\n",
        "        tot_adv_acc += acc_adv\n",
        "        tot_test += x_batch.size()[0]\n",
        "    scheduler.step()\n",
        "\n",
        "    print('Epoch %d: Accuracy %.5lf, Adv Accuracy %.5lf' % (epoch, tot_acc / tot_test, tot_adv_acc / tot_test))\n"
      ],
      "execution_count": null,
      "outputs": []
    },
    {
      "cell_type": "markdown",
      "metadata": {
        "id": "39yOpS-62jfk"
      },
      "source": [
        "5. (Optional) save the model"
      ]
    },
    {
      "cell_type": "code",
      "metadata": {
        "id": "3hq7i_m42l6t"
      },
      "source": [
        "os.makedirs(\"models\", exist_ok=True)\n",
        "torch.save(model.state_dict(), f\"models/Net_{num_epochs}_{defense}\")"
      ],
      "execution_count": null,
      "outputs": []
    }
  ]
}