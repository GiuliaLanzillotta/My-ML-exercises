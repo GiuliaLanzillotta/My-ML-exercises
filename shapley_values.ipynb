{
 "metadata": {
  "language_info": {
   "codemirror_mode": {
    "name": "ipython",
    "version": 3
   },
   "file_extension": ".py",
   "mimetype": "text/x-python",
   "name": "python",
   "nbconvert_exporter": "python",
   "pygments_lexer": "ipython3",
   "version": "3.7.5-final"
  },
  "orig_nbformat": 2,
  "kernelspec": {
   "name": "python3",
   "display_name": "Python 3"
  }
 },
 "nbformat": 4,
 "nbformat_minor": 2,
 "cells": [
  {
   "source": [
    "# Computing Shapley values for a fully connected 2 layers net "
   ],
   "cell_type": "markdown",
   "metadata": {}
  },
  {
   "cell_type": "code",
   "execution_count": 34,
   "metadata": {},
   "outputs": [],
   "source": [
    "import torch\n",
    "import torch.nn.functional as F\n",
    "from math import factorial\n",
    "from itertools import chain, combinations\n"
   ]
  },
  {
   "cell_type": "code",
   "execution_count": 3,
   "metadata": {},
   "outputs": [],
   "source": [
    "x = torch.tensor([1.0,2.0,3.0])\n",
    "x_p = torch.tensor([1.0,-2.0,3.0])"
   ]
  },
  {
   "cell_type": "code",
   "execution_count": 10,
   "metadata": {},
   "outputs": [],
   "source": [
    "class Net(torch.nn.Module):\n",
    "    def forward(self,x):\n",
    "        B = torch.tensor([[1,1,0],[0,1,1]], dtype=torch.float)\n",
    "        A = torch.tensor([[3,0,0],[0,-2,0],[0,0,1]], dtype=torch.float)\n",
    "        return B@F.relu(A@x)"
   ]
  },
  {
   "cell_type": "code",
   "execution_count": 13,
   "metadata": {},
   "outputs": [
    {
     "output_type": "execute_result",
     "data": {
      "text/plain": [
       "tensor([3., 3.])"
      ]
     },
     "metadata": {},
     "execution_count": 13
    }
   ],
   "source": [
    "net = Net()\n",
    "net(x) #testing"
   ]
  },
  {
   "cell_type": "code",
   "execution_count": 55,
   "metadata": {},
   "outputs": [],
   "source": [
    "def get_shapley(x, net):\n",
    "    \"\"\" Computes attribution for all features and all \n",
    "    outputs of input x \"\"\"\n",
    "    input_size = x.size()[0]\n",
    "    shapleys = [0]*input_size\n",
    "    P = set(range(input_size))\n",
    "    for i in range(input_size):\n",
    "        # i = 0,1,2\n",
    "        # Compute attributions to feature i \n",
    "        input_features_no_i = list(range(i)) + list(range(i+1,input_size))\n",
    "        all_subs = chain.from_iterable(combinations(input_features_no_i, r) for r in range(input_size))\n",
    "        for s in all_subs: # all feature subsets \n",
    "            S = set(s)\n",
    "            factor = (factorial(len(S))*factorial(input_size-1-len(S)))/factorial(input_size)\n",
    "            input_with = x.clone()\n",
    "            input_without = x.clone()\n",
    "            for j in P-S-{i}: input_with[j] = 0\n",
    "            for j in P-S: input_without[j] = 0\n",
    "            out_with = net(input_with)\n",
    "            out_without = net(input_without)\n",
    "            shapleys[i] += factor*(out_with-out_without)\n",
    "\n",
    "    return shapleys"
   ]
  },
  {
   "cell_type": "code",
   "execution_count": 56,
   "metadata": {},
   "outputs": [
    {
     "output_type": "execute_result",
     "data": {
      "text/plain": [
       "[tensor([3., 0.]), tensor([0., 0.]), tensor([0., 3.])]"
      ]
     },
     "metadata": {},
     "execution_count": 56
    }
   ],
   "source": [
    "get_shapley(x, net)"
   ]
  },
  {
   "cell_type": "code",
   "execution_count": 57,
   "metadata": {},
   "outputs": [
    {
     "output_type": "execute_result",
     "data": {
      "text/plain": [
       "[tensor([3., 0.]), tensor([4., 4.]), tensor([0., 3.])]"
      ]
     },
     "metadata": {},
     "execution_count": 57
    }
   ],
   "source": [
    "get_shapley(x_p, net)"
   ]
  },
  {
   "cell_type": "code",
   "execution_count": null,
   "metadata": {},
   "outputs": [],
   "source": []
  }
 ]
}